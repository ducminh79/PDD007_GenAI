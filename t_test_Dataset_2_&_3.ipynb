{
  "nbformat": 4,
  "nbformat_minor": 0,
  "metadata": {
    "colab": {
      "provenance": [],
      "collapsed_sections": [
        "EaRkCQ379xDk",
        "ttTg2aUI96TX",
        "iULZKlnR-D9N",
        "DGMXtpkiBK_m",
        "_q2yXcTdBOdk",
        "HdIGosApL6ni",
        "FxkOxoe9pd20"
      ],
      "toc_visible": true,
      "include_colab_link": true
    },
    "kernelspec": {
      "name": "python3",
      "display_name": "Python 3"
    },
    "language_info": {
      "name": "python"
    }
  },
  "cells": [
    {
      "cell_type": "markdown",
      "metadata": {
        "id": "view-in-github",
        "colab_type": "text"
      },
      "source": [
        "<a href=\"https://colab.research.google.com/github/ducminh79/PDD007_GenAI/blob/main/t_test_Dataset_2_%26_3.ipynb\" target=\"_parent\"><img src=\"https://colab.research.google.com/assets/colab-badge.svg\" alt=\"Open In Colab\"/></a>"
      ]
    },
    {
      "cell_type": "markdown",
      "source": [
        "##Connect to the Google Drive\n"
      ],
      "metadata": {
        "id": "EaRkCQ379xDk"
      }
    },
    {
      "cell_type": "code",
      "execution_count": null,
      "metadata": {
        "colab": {
          "base_uri": "https://localhost:8080/"
        },
        "id": "9Ep3KdW172j6",
        "outputId": "43a10552-aa2d-4950-e9fe-5e7824da529c"
      },
      "outputs": [
        {
          "output_type": "stream",
          "name": "stdout",
          "text": [
            "Drive already mounted at /content/drive; to attempt to forcibly remount, call drive.mount(\"/content/drive\", force_remount=True).\n"
          ]
        }
      ],
      "source": [
        "from google.colab import drive\n",
        "drive.mount('/content/drive')\n"
      ]
    },
    {
      "cell_type": "code",
      "source": [
        "%cd /content/drive/MyDrive/data\n",
        "\n",
        "!pwd\n",
        "\n",
        "!ls\n"
      ],
      "metadata": {
        "id": "YA1lV4eS9o25",
        "colab": {
          "base_uri": "https://localhost:8080/"
        },
        "outputId": "8fd1cafc-5236-443c-d0a8-0cc8753c68b7"
      },
      "execution_count": null,
      "outputs": [
        {
          "output_type": "stream",
          "name": "stdout",
          "text": [
            "/content/drive/MyDrive/data\n",
            "/content/drive/MyDrive/data\n",
            "dataset_runs_6_test_case_3_v2.csv  dataset_runs_6_v2.csv\n"
          ]
        }
      ]
    },
    {
      "cell_type": "markdown",
      "source": [
        "## Import Library"
      ],
      "metadata": {
        "id": "ttTg2aUI96TX"
      }
    },
    {
      "cell_type": "code",
      "source": [
        "!pip install pandas openpyxl"
      ],
      "metadata": {
        "id": "HiOBavhe9qZe",
        "colab": {
          "base_uri": "https://localhost:8080/"
        },
        "outputId": "a83f45c1-94cf-4793-8b51-c2e92fbdf41f"
      },
      "execution_count": null,
      "outputs": [
        {
          "output_type": "stream",
          "name": "stdout",
          "text": [
            "Requirement already satisfied: pandas in /usr/local/lib/python3.10/dist-packages (2.2.2)\n",
            "Requirement already satisfied: openpyxl in /usr/local/lib/python3.10/dist-packages (3.1.5)\n",
            "Requirement already satisfied: numpy>=1.22.4 in /usr/local/lib/python3.10/dist-packages (from pandas) (1.26.4)\n",
            "Requirement already satisfied: python-dateutil>=2.8.2 in /usr/local/lib/python3.10/dist-packages (from pandas) (2.8.2)\n",
            "Requirement already satisfied: pytz>=2020.1 in /usr/local/lib/python3.10/dist-packages (from pandas) (2024.2)\n",
            "Requirement already satisfied: tzdata>=2022.7 in /usr/local/lib/python3.10/dist-packages (from pandas) (2024.2)\n",
            "Requirement already satisfied: et-xmlfile in /usr/local/lib/python3.10/dist-packages (from openpyxl) (2.0.0)\n",
            "Requirement already satisfied: six>=1.5 in /usr/local/lib/python3.10/dist-packages (from python-dateutil>=2.8.2->pandas) (1.16.0)\n"
          ]
        }
      ]
    },
    {
      "cell_type": "code",
      "source": [
        "import pandas as pd\n",
        "import matplotlib.pyplot as plt\n",
        "#for interactive graph\n",
        "import plotly.graph_objects as go\n",
        "from plotly.subplots import make_subplots"
      ],
      "metadata": {
        "id": "UA-PATOU9txz"
      },
      "execution_count": null,
      "outputs": []
    },
    {
      "cell_type": "markdown",
      "source": [
        "##Load the dataseet and merged a data2 & 3\n",
        "testcase 2 is titanic, testcase 3 is about the travle"
      ],
      "metadata": {
        "id": "iULZKlnR-D9N"
      }
    },
    {
      "cell_type": "code",
      "source": [
        "#Load the dataset\n",
        "df_case2 = pd.read_csv('dataset_runs_6_v2.csv')\n",
        "df_case3 = pd.read_csv('dataset_runs_6_test_case_3_v2.csv')\n",
        "print(df_case2.columns)\n",
        "print(df_case3.columns)"
      ],
      "metadata": {
        "id": "qHfo-IJA-K8X",
        "colab": {
          "base_uri": "https://localhost:8080/"
        },
        "outputId": "8d2e1705-f74c-4ffb-f6f5-44e3d74810aa"
      },
      "execution_count": null,
      "outputs": [
        {
          "output_type": "stream",
          "name": "stdout",
          "text": [
            "Index(['run_id', 'participant_name', 'test_case_id', 'used_ai', 'duration_min',\n",
            "       'data_usage_total_MB', 'data_usage_downstream_MB',\n",
            "       'data_usage_upstream_MB', 'data_usage_efficiency',\n",
            "       'unique_sources_count', 'keyboard_strokes_count', 'mouse_clicks_count'],\n",
            "      dtype='object')\n",
            "Index(['run_id', 'participant_name', 'test_case_id', 'used_ai', 'duration_min',\n",
            "       'data_usage_total_MB', 'data_usage_downstream_MB',\n",
            "       'data_usage_upstream_MB', 'data_usage_efficiency',\n",
            "       'unique_sources_count', 'keyboard_strokes_count', 'mouse_clicks_count'],\n",
            "      dtype='object')\n"
          ]
        }
      ]
    },
    {
      "cell_type": "code",
      "source": [
        "# Concatenate the two datasets\n",
        "df_combined = pd.concat([df_case2, df_case3], ignore_index=True)\n",
        "\n",
        "# Display the combined dataframe\n",
        "print(df_combined.head())"
      ],
      "metadata": {
        "id": "gl5MNwYLPbZ7",
        "colab": {
          "base_uri": "https://localhost:8080/"
        },
        "outputId": "0b9e6f3c-3e59-49fd-b88a-26b74798c95d"
      },
      "execution_count": null,
      "outputs": [
        {
          "output_type": "stream",
          "name": "stdout",
          "text": [
            "   run_id participant_name  test_case_id  used_ai  duration_min  \\\n",
            "0       1           Seoyun             2     True         34.75   \n",
            "1       1           Seoyun             2    False         82.70   \n",
            "2       2              Hai             2     True         20.30   \n",
            "3       2              Hai             2    False         76.80   \n",
            "4       3            Phobe             2     True         13.90   \n",
            "\n",
            "   data_usage_total_MB  data_usage_downstream_MB  data_usage_upstream_MB  \\\n",
            "0           113.881836                112.423828                1.458008   \n",
            "1           655.815430                639.003906               16.811523   \n",
            "2             7.367188                  7.132812                0.234375   \n",
            "3           319.585938                312.393555                7.192383   \n",
            "4             5.106445                  3.535156                1.571289   \n",
            "\n",
            "   data_usage_efficiency  unique_sources_count  keyboard_strokes_count  \\\n",
            "0               1.000000                     1                  188213   \n",
            "1               0.362432                    13                 4523658   \n",
            "2               1.000000                     2                    7965   \n",
            "3               0.563877                    15                 2720072   \n",
            "4               1.000000                     1                   50023   \n",
            "\n",
            "   mouse_clicks_count  \n",
            "0              111798  \n",
            "1             1617032  \n",
            "2                2552  \n",
            "3              553329  \n",
            "4               22838  \n"
          ]
        }
      ]
    },
    {
      "cell_type": "markdown",
      "source": [
        "save the merge dataset on google drive"
      ],
      "metadata": {
        "id": "d769155vdVt4"
      }
    },
    {
      "cell_type": "code",
      "source": [
        "# df_combined.to_csv('/content/drive/My Drive/Capstone/df_test_combined.csv', index=False)\n",
        "\n",
        "df_combined.to_csv('df_test_combined.csv', index=False)"
      ],
      "metadata": {
        "id": "rTTqofNHVpqe"
      },
      "execution_count": null,
      "outputs": []
    },
    {
      "cell_type": "code",
      "source": [
        "mergedf = pd.read_csv(\"df_test_combined.csv\")"
      ],
      "metadata": {
        "id": "tTa3WV8RVuuJ"
      },
      "execution_count": null,
      "outputs": []
    },
    {
      "cell_type": "code",
      "source": [
        "mergedf.head()"
      ],
      "metadata": {
        "id": "HR0Z3goVWPXG",
        "colab": {
          "base_uri": "https://localhost:8080/",
          "height": 226
        },
        "outputId": "c98e5bef-c18f-43e9-9f3d-025714192dde"
      },
      "execution_count": null,
      "outputs": [
        {
          "output_type": "execute_result",
          "data": {
            "text/plain": [
              "   run_id participant_name  test_case_id  used_ai  duration_min  \\\n",
              "0       1           Seoyun             2     True         34.75   \n",
              "1       1           Seoyun             2    False         82.70   \n",
              "2       2              Hai             2     True         20.30   \n",
              "3       2              Hai             2    False         76.80   \n",
              "4       3            Phobe             2     True         13.90   \n",
              "\n",
              "   data_usage_total_MB  data_usage_downstream_MB  data_usage_upstream_MB  \\\n",
              "0           113.881836                112.423828                1.458008   \n",
              "1           655.815430                639.003906               16.811523   \n",
              "2             7.367188                  7.132812                0.234375   \n",
              "3           319.585938                312.393555                7.192383   \n",
              "4             5.106445                  3.535156                1.571289   \n",
              "\n",
              "   data_usage_efficiency  unique_sources_count  keyboard_strokes_count  \\\n",
              "0               1.000000                     1                  188213   \n",
              "1               0.362432                    13                 4523658   \n",
              "2               1.000000                     2                    7965   \n",
              "3               0.563877                    15                 2720072   \n",
              "4               1.000000                     1                   50023   \n",
              "\n",
              "   mouse_clicks_count  \n",
              "0              111798  \n",
              "1             1617032  \n",
              "2                2552  \n",
              "3              553329  \n",
              "4               22838  "
            ],
            "text/html": [
              "\n",
              "  <div id=\"df-ef806ea2-f42f-4308-9fed-7af2c8c718ae\" class=\"colab-df-container\">\n",
              "    <div>\n",
              "<style scoped>\n",
              "    .dataframe tbody tr th:only-of-type {\n",
              "        vertical-align: middle;\n",
              "    }\n",
              "\n",
              "    .dataframe tbody tr th {\n",
              "        vertical-align: top;\n",
              "    }\n",
              "\n",
              "    .dataframe thead th {\n",
              "        text-align: right;\n",
              "    }\n",
              "</style>\n",
              "<table border=\"1\" class=\"dataframe\">\n",
              "  <thead>\n",
              "    <tr style=\"text-align: right;\">\n",
              "      <th></th>\n",
              "      <th>run_id</th>\n",
              "      <th>participant_name</th>\n",
              "      <th>test_case_id</th>\n",
              "      <th>used_ai</th>\n",
              "      <th>duration_min</th>\n",
              "      <th>data_usage_total_MB</th>\n",
              "      <th>data_usage_downstream_MB</th>\n",
              "      <th>data_usage_upstream_MB</th>\n",
              "      <th>data_usage_efficiency</th>\n",
              "      <th>unique_sources_count</th>\n",
              "      <th>keyboard_strokes_count</th>\n",
              "      <th>mouse_clicks_count</th>\n",
              "    </tr>\n",
              "  </thead>\n",
              "  <tbody>\n",
              "    <tr>\n",
              "      <th>0</th>\n",
              "      <td>1</td>\n",
              "      <td>Seoyun</td>\n",
              "      <td>2</td>\n",
              "      <td>True</td>\n",
              "      <td>34.75</td>\n",
              "      <td>113.881836</td>\n",
              "      <td>112.423828</td>\n",
              "      <td>1.458008</td>\n",
              "      <td>1.000000</td>\n",
              "      <td>1</td>\n",
              "      <td>188213</td>\n",
              "      <td>111798</td>\n",
              "    </tr>\n",
              "    <tr>\n",
              "      <th>1</th>\n",
              "      <td>1</td>\n",
              "      <td>Seoyun</td>\n",
              "      <td>2</td>\n",
              "      <td>False</td>\n",
              "      <td>82.70</td>\n",
              "      <td>655.815430</td>\n",
              "      <td>639.003906</td>\n",
              "      <td>16.811523</td>\n",
              "      <td>0.362432</td>\n",
              "      <td>13</td>\n",
              "      <td>4523658</td>\n",
              "      <td>1617032</td>\n",
              "    </tr>\n",
              "    <tr>\n",
              "      <th>2</th>\n",
              "      <td>2</td>\n",
              "      <td>Hai</td>\n",
              "      <td>2</td>\n",
              "      <td>True</td>\n",
              "      <td>20.30</td>\n",
              "      <td>7.367188</td>\n",
              "      <td>7.132812</td>\n",
              "      <td>0.234375</td>\n",
              "      <td>1.000000</td>\n",
              "      <td>2</td>\n",
              "      <td>7965</td>\n",
              "      <td>2552</td>\n",
              "    </tr>\n",
              "    <tr>\n",
              "      <th>3</th>\n",
              "      <td>2</td>\n",
              "      <td>Hai</td>\n",
              "      <td>2</td>\n",
              "      <td>False</td>\n",
              "      <td>76.80</td>\n",
              "      <td>319.585938</td>\n",
              "      <td>312.393555</td>\n",
              "      <td>7.192383</td>\n",
              "      <td>0.563877</td>\n",
              "      <td>15</td>\n",
              "      <td>2720072</td>\n",
              "      <td>553329</td>\n",
              "    </tr>\n",
              "    <tr>\n",
              "      <th>4</th>\n",
              "      <td>3</td>\n",
              "      <td>Phobe</td>\n",
              "      <td>2</td>\n",
              "      <td>True</td>\n",
              "      <td>13.90</td>\n",
              "      <td>5.106445</td>\n",
              "      <td>3.535156</td>\n",
              "      <td>1.571289</td>\n",
              "      <td>1.000000</td>\n",
              "      <td>1</td>\n",
              "      <td>50023</td>\n",
              "      <td>22838</td>\n",
              "    </tr>\n",
              "  </tbody>\n",
              "</table>\n",
              "</div>\n",
              "    <div class=\"colab-df-buttons\">\n",
              "\n",
              "  <div class=\"colab-df-container\">\n",
              "    <button class=\"colab-df-convert\" onclick=\"convertToInteractive('df-ef806ea2-f42f-4308-9fed-7af2c8c718ae')\"\n",
              "            title=\"Convert this dataframe to an interactive table.\"\n",
              "            style=\"display:none;\">\n",
              "\n",
              "  <svg xmlns=\"http://www.w3.org/2000/svg\" height=\"24px\" viewBox=\"0 -960 960 960\">\n",
              "    <path d=\"M120-120v-720h720v720H120Zm60-500h600v-160H180v160Zm220 220h160v-160H400v160Zm0 220h160v-160H400v160ZM180-400h160v-160H180v160Zm440 0h160v-160H620v160ZM180-180h160v-160H180v160Zm440 0h160v-160H620v160Z\"/>\n",
              "  </svg>\n",
              "    </button>\n",
              "\n",
              "  <style>\n",
              "    .colab-df-container {\n",
              "      display:flex;\n",
              "      gap: 12px;\n",
              "    }\n",
              "\n",
              "    .colab-df-convert {\n",
              "      background-color: #E8F0FE;\n",
              "      border: none;\n",
              "      border-radius: 50%;\n",
              "      cursor: pointer;\n",
              "      display: none;\n",
              "      fill: #1967D2;\n",
              "      height: 32px;\n",
              "      padding: 0 0 0 0;\n",
              "      width: 32px;\n",
              "    }\n",
              "\n",
              "    .colab-df-convert:hover {\n",
              "      background-color: #E2EBFA;\n",
              "      box-shadow: 0px 1px 2px rgba(60, 64, 67, 0.3), 0px 1px 3px 1px rgba(60, 64, 67, 0.15);\n",
              "      fill: #174EA6;\n",
              "    }\n",
              "\n",
              "    .colab-df-buttons div {\n",
              "      margin-bottom: 4px;\n",
              "    }\n",
              "\n",
              "    [theme=dark] .colab-df-convert {\n",
              "      background-color: #3B4455;\n",
              "      fill: #D2E3FC;\n",
              "    }\n",
              "\n",
              "    [theme=dark] .colab-df-convert:hover {\n",
              "      background-color: #434B5C;\n",
              "      box-shadow: 0px 1px 3px 1px rgba(0, 0, 0, 0.15);\n",
              "      filter: drop-shadow(0px 1px 2px rgba(0, 0, 0, 0.3));\n",
              "      fill: #FFFFFF;\n",
              "    }\n",
              "  </style>\n",
              "\n",
              "    <script>\n",
              "      const buttonEl =\n",
              "        document.querySelector('#df-ef806ea2-f42f-4308-9fed-7af2c8c718ae button.colab-df-convert');\n",
              "      buttonEl.style.display =\n",
              "        google.colab.kernel.accessAllowed ? 'block' : 'none';\n",
              "\n",
              "      async function convertToInteractive(key) {\n",
              "        const element = document.querySelector('#df-ef806ea2-f42f-4308-9fed-7af2c8c718ae');\n",
              "        const dataTable =\n",
              "          await google.colab.kernel.invokeFunction('convertToInteractive',\n",
              "                                                    [key], {});\n",
              "        if (!dataTable) return;\n",
              "\n",
              "        const docLinkHtml = 'Like what you see? Visit the ' +\n",
              "          '<a target=\"_blank\" href=https://colab.research.google.com/notebooks/data_table.ipynb>data table notebook</a>'\n",
              "          + ' to learn more about interactive tables.';\n",
              "        element.innerHTML = '';\n",
              "        dataTable['output_type'] = 'display_data';\n",
              "        await google.colab.output.renderOutput(dataTable, element);\n",
              "        const docLink = document.createElement('div');\n",
              "        docLink.innerHTML = docLinkHtml;\n",
              "        element.appendChild(docLink);\n",
              "      }\n",
              "    </script>\n",
              "  </div>\n",
              "\n",
              "\n",
              "<div id=\"df-e71b8e61-a76a-4b96-8fb3-3cb99977e0de\">\n",
              "  <button class=\"colab-df-quickchart\" onclick=\"quickchart('df-e71b8e61-a76a-4b96-8fb3-3cb99977e0de')\"\n",
              "            title=\"Suggest charts\"\n",
              "            style=\"display:none;\">\n",
              "\n",
              "<svg xmlns=\"http://www.w3.org/2000/svg\" height=\"24px\"viewBox=\"0 0 24 24\"\n",
              "     width=\"24px\">\n",
              "    <g>\n",
              "        <path d=\"M19 3H5c-1.1 0-2 .9-2 2v14c0 1.1.9 2 2 2h14c1.1 0 2-.9 2-2V5c0-1.1-.9-2-2-2zM9 17H7v-7h2v7zm4 0h-2V7h2v10zm4 0h-2v-4h2v4z\"/>\n",
              "    </g>\n",
              "</svg>\n",
              "  </button>\n",
              "\n",
              "<style>\n",
              "  .colab-df-quickchart {\n",
              "      --bg-color: #E8F0FE;\n",
              "      --fill-color: #1967D2;\n",
              "      --hover-bg-color: #E2EBFA;\n",
              "      --hover-fill-color: #174EA6;\n",
              "      --disabled-fill-color: #AAA;\n",
              "      --disabled-bg-color: #DDD;\n",
              "  }\n",
              "\n",
              "  [theme=dark] .colab-df-quickchart {\n",
              "      --bg-color: #3B4455;\n",
              "      --fill-color: #D2E3FC;\n",
              "      --hover-bg-color: #434B5C;\n",
              "      --hover-fill-color: #FFFFFF;\n",
              "      --disabled-bg-color: #3B4455;\n",
              "      --disabled-fill-color: #666;\n",
              "  }\n",
              "\n",
              "  .colab-df-quickchart {\n",
              "    background-color: var(--bg-color);\n",
              "    border: none;\n",
              "    border-radius: 50%;\n",
              "    cursor: pointer;\n",
              "    display: none;\n",
              "    fill: var(--fill-color);\n",
              "    height: 32px;\n",
              "    padding: 0;\n",
              "    width: 32px;\n",
              "  }\n",
              "\n",
              "  .colab-df-quickchart:hover {\n",
              "    background-color: var(--hover-bg-color);\n",
              "    box-shadow: 0 1px 2px rgba(60, 64, 67, 0.3), 0 1px 3px 1px rgba(60, 64, 67, 0.15);\n",
              "    fill: var(--button-hover-fill-color);\n",
              "  }\n",
              "\n",
              "  .colab-df-quickchart-complete:disabled,\n",
              "  .colab-df-quickchart-complete:disabled:hover {\n",
              "    background-color: var(--disabled-bg-color);\n",
              "    fill: var(--disabled-fill-color);\n",
              "    box-shadow: none;\n",
              "  }\n",
              "\n",
              "  .colab-df-spinner {\n",
              "    border: 2px solid var(--fill-color);\n",
              "    border-color: transparent;\n",
              "    border-bottom-color: var(--fill-color);\n",
              "    animation:\n",
              "      spin 1s steps(1) infinite;\n",
              "  }\n",
              "\n",
              "  @keyframes spin {\n",
              "    0% {\n",
              "      border-color: transparent;\n",
              "      border-bottom-color: var(--fill-color);\n",
              "      border-left-color: var(--fill-color);\n",
              "    }\n",
              "    20% {\n",
              "      border-color: transparent;\n",
              "      border-left-color: var(--fill-color);\n",
              "      border-top-color: var(--fill-color);\n",
              "    }\n",
              "    30% {\n",
              "      border-color: transparent;\n",
              "      border-left-color: var(--fill-color);\n",
              "      border-top-color: var(--fill-color);\n",
              "      border-right-color: var(--fill-color);\n",
              "    }\n",
              "    40% {\n",
              "      border-color: transparent;\n",
              "      border-right-color: var(--fill-color);\n",
              "      border-top-color: var(--fill-color);\n",
              "    }\n",
              "    60% {\n",
              "      border-color: transparent;\n",
              "      border-right-color: var(--fill-color);\n",
              "    }\n",
              "    80% {\n",
              "      border-color: transparent;\n",
              "      border-right-color: var(--fill-color);\n",
              "      border-bottom-color: var(--fill-color);\n",
              "    }\n",
              "    90% {\n",
              "      border-color: transparent;\n",
              "      border-bottom-color: var(--fill-color);\n",
              "    }\n",
              "  }\n",
              "</style>\n",
              "\n",
              "  <script>\n",
              "    async function quickchart(key) {\n",
              "      const quickchartButtonEl =\n",
              "        document.querySelector('#' + key + ' button');\n",
              "      quickchartButtonEl.disabled = true;  // To prevent multiple clicks.\n",
              "      quickchartButtonEl.classList.add('colab-df-spinner');\n",
              "      try {\n",
              "        const charts = await google.colab.kernel.invokeFunction(\n",
              "            'suggestCharts', [key], {});\n",
              "      } catch (error) {\n",
              "        console.error('Error during call to suggestCharts:', error);\n",
              "      }\n",
              "      quickchartButtonEl.classList.remove('colab-df-spinner');\n",
              "      quickchartButtonEl.classList.add('colab-df-quickchart-complete');\n",
              "    }\n",
              "    (() => {\n",
              "      let quickchartButtonEl =\n",
              "        document.querySelector('#df-e71b8e61-a76a-4b96-8fb3-3cb99977e0de button');\n",
              "      quickchartButtonEl.style.display =\n",
              "        google.colab.kernel.accessAllowed ? 'block' : 'none';\n",
              "    })();\n",
              "  </script>\n",
              "</div>\n",
              "\n",
              "    </div>\n",
              "  </div>\n"
            ],
            "application/vnd.google.colaboratory.intrinsic+json": {
              "type": "dataframe",
              "variable_name": "mergedf",
              "summary": "{\n  \"name\": \"mergedf\",\n  \"rows\": 24,\n  \"fields\": [\n    {\n      \"column\": \"run_id\",\n      \"properties\": {\n        \"dtype\": \"number\",\n        \"std\": 1,\n        \"min\": 1,\n        \"max\": 6,\n        \"num_unique_values\": 6,\n        \"samples\": [\n          1,\n          2,\n          6\n        ],\n        \"semantic_type\": \"\",\n        \"description\": \"\"\n      }\n    },\n    {\n      \"column\": \"participant_name\",\n      \"properties\": {\n        \"dtype\": \"category\",\n        \"num_unique_values\": 11,\n        \"samples\": [\n          \"Andrew\",\n          \"Seoyun\",\n          \"Le\"\n        ],\n        \"semantic_type\": \"\",\n        \"description\": \"\"\n      }\n    },\n    {\n      \"column\": \"test_case_id\",\n      \"properties\": {\n        \"dtype\": \"number\",\n        \"std\": 0,\n        \"min\": 2,\n        \"max\": 3,\n        \"num_unique_values\": 2,\n        \"samples\": [\n          3,\n          2\n        ],\n        \"semantic_type\": \"\",\n        \"description\": \"\"\n      }\n    },\n    {\n      \"column\": \"used_ai\",\n      \"properties\": {\n        \"dtype\": \"boolean\",\n        \"num_unique_values\": 2,\n        \"samples\": [\n          false,\n          true\n        ],\n        \"semantic_type\": \"\",\n        \"description\": \"\"\n      }\n    },\n    {\n      \"column\": \"duration_min\",\n      \"properties\": {\n        \"dtype\": \"number\",\n        \"std\": 28.37354072895765,\n        \"min\": 6.966666666666667,\n        \"max\": 108.5,\n        \"num_unique_values\": 24,\n        \"samples\": [\n          17.383333333333333,\n          16.21666667\n        ],\n        \"semantic_type\": \"\",\n        \"description\": \"\"\n      }\n    },\n    {\n      \"column\": \"data_usage_total_MB\",\n      \"properties\": {\n        \"dtype\": \"number\",\n        \"std\": 225.04966948170622,\n        \"min\": 1.0224609375,\n        \"max\": 723.2529049,\n        \"num_unique_values\": 24,\n        \"samples\": [\n          12.92977333068847,\n          93.35218239\n        ],\n        \"semantic_type\": \"\",\n        \"description\": \"\"\n      }\n    },\n    {\n      \"column\": \"data_usage_downstream_MB\",\n      \"properties\": {\n        \"dtype\": \"number\",\n        \"std\": 214.274523521948,\n        \"min\": 0.630859375,\n        \"max\": 703.31003,\n        \"num_unique_values\": 24,\n        \"samples\": [\n          12.549877166748043,\n          91.12410641\n        ],\n        \"semantic_type\": \"\",\n        \"description\": \"\"\n      }\n    },\n    {\n      \"column\": \"data_usage_upstream_MB\",\n      \"properties\": {\n        \"dtype\": \"number\",\n        \"std\": 23.911012304264396,\n        \"min\": 0.234375,\n        \"max\": 116.5662603,\n        \"num_unique_values\": 24,\n        \"samples\": [\n          0.3798961639404263,\n          2.228075981\n        ],\n        \"semantic_type\": \"\",\n        \"description\": \"\"\n      }\n    },\n    {\n      \"column\": \"data_usage_efficiency\",\n      \"properties\": {\n        \"dtype\": \"number\",\n        \"std\": 0.28080726024500124,\n        \"min\": 0.2896420194012292,\n        \"max\": 1.0,\n        \"num_unique_values\": 8,\n        \"samples\": [\n          0.3624319675975906,\n          0.2896420194012292\n        ],\n        \"semantic_type\": \"\",\n        \"description\": \"\"\n      }\n    },\n    {\n      \"column\": \"unique_sources_count\",\n      \"properties\": {\n        \"dtype\": \"number\",\n        \"std\": 6,\n        \"min\": 1,\n        \"max\": 19,\n        \"num_unique_values\": 15,\n        \"samples\": [\n          12,\n          3\n        ],\n        \"semantic_type\": \"\",\n        \"description\": \"\"\n      }\n    },\n    {\n      \"column\": \"keyboard_strokes_count\",\n      \"properties\": {\n        \"dtype\": \"number\",\n        \"std\": 1465806,\n        \"min\": 0,\n        \"max\": 4523658,\n        \"num_unique_values\": 22,\n        \"samples\": [\n          188213,\n          0\n        ],\n        \"semantic_type\": \"\",\n        \"description\": \"\"\n      }\n    },\n    {\n      \"column\": \"mouse_clicks_count\",\n      \"properties\": {\n        \"dtype\": \"number\",\n        \"std\": 665883,\n        \"min\": 1631,\n        \"max\": 2699829,\n        \"num_unique_values\": 24,\n        \"samples\": [\n          6435,\n          13425\n        ],\n        \"semantic_type\": \"\",\n        \"description\": \"\"\n      }\n    }\n  ]\n}"
            }
          },
          "metadata": {},
          "execution_count": 23
        }
      ]
    },
    {
      "cell_type": "markdown",
      "source": [
        "##T-test\n",
        "- Null Hypothesis (H₀): There is no significant difference between the two groups(used_ai = 0 , used_ai = 1) (or no significant relationship, depending on the test).\n",
        "\n",
        "- Alternative Hypothesis (H₁): There is a significant difference between the two groups, or there is a relationship between them."
      ],
      "metadata": {
        "id": "QZCemCnDdbTX"
      }
    },
    {
      "cell_type": "markdown",
      "source": [
        "###Get a P-value"
      ],
      "metadata": {
        "id": "c6HUSZ0IdvB4"
      }
    },
    {
      "cell_type": "code",
      "source": [
        "# Import library for box plot and stats\n",
        "from google.colab import drive\n",
        "import pandas as pd\n",
        "from scipy import stats\n",
        "import matplotlib.pyplot as plt"
      ],
      "metadata": {
        "id": "cs9l49qyc8EU"
      },
      "execution_count": null,
      "outputs": []
    },
    {
      "cell_type": "markdown",
      "source": [
        "####P-value of Test case 2 and Test case 3\n"
      ],
      "metadata": {
        "id": "1JFCKvRkBDIb"
      }
    },
    {
      "cell_type": "markdown",
      "source": [
        "####independent sample t-test FOR TEST 2"
      ],
      "metadata": {
        "id": "DGMXtpkiBK_m"
      }
    },
    {
      "cell_type": "code",
      "source": [
        "# Filter the data for Test Case 2  graph\n",
        "test_case_2 = mergedf[mergedf['test_case_id'] == 2]\n",
        "\n",
        "# Split each test case by `used_ai` groups\n",
        "# Test Case 2\n",
        "test_case_2_ai_0 = test_case_2[test_case_2['used_ai'] == 0]  # AI not used\n",
        "test_case_2_ai_1 = test_case_2[test_case_2['used_ai'] == 1]  # AI used\n",
        "\n",
        "# T-test for Test case 2 Total data usage\n",
        "t_statistic_data, p_value_data_usage = stats.ttest_ind(test_case_2_ai_0['data_usage_total_MB'], test_case_2_ai_1['data_usage_total_MB'])\n",
        "print(\"\\n---------------Test case 2--------------\")\n",
        "print(\"T-test for total_data_usage:\")\n",
        "print(\"T-statistic:\", t_statistic_data)\n",
        "print(f\"P-value: {p_value_data_usage:.8f}\")\n",
        "\n",
        "# T-test for Test case 2 Total duration_min\n",
        "t_statistic_time, p_value_time = stats.ttest_ind(test_case_2_ai_0['duration_min'], test_case_2_ai_1['duration_min'])\n",
        "print(\"\\nT-test for total_time:\")\n",
        "print(\"T-statistic:\", t_statistic_time)\n",
        "print(f\"P-value: {p_value_time:.8f}\")\n",
        "print(\"\\n----------------------------------------\")"
      ],
      "metadata": {
        "id": "HL0RVdOEAELx",
        "colab": {
          "base_uri": "https://localhost:8080/"
        },
        "outputId": "1c91edc1-e9e0-49a8-a609-9df091331205"
      },
      "execution_count": null,
      "outputs": [
        {
          "output_type": "stream",
          "name": "stdout",
          "text": [
            "\n",
            "---------------Test case 2--------------\n",
            "T-test for total_data_usage:\n",
            "T-statistic: 3.6616174419594456\n",
            "P-value: 0.00437736\n",
            "\n",
            "T-test for total_time:\n",
            "T-statistic: 8.240628685193004\n",
            "P-value: 0.00000907\n",
            "\n",
            "----------------------------------------\n"
          ]
        }
      ]
    },
    {
      "cell_type": "code",
      "source": [
        "if p_value_data_usage < 0.05:\n",
        "  print(\"There is enough evidence to reject the null hypothesis, meaning the data suggests a statistically significant difference or relationship between the groups.\")\n",
        "else:\n",
        "  print(\"We fail to reject the null hypothesis, meaning we do not have enough evidence to claim a significant difference or relationship\")\n",
        "\n",
        "if p_value_time < 0.05:\n",
        "  print(\"There is enough evidence to reject the null hypothesis, meaning the data suggests a statistically significant difference or relationship between the groups.\")\n",
        "else:\n",
        "  print(\"We fail to reject the null hypothesis, meaning we do not have enough evidence to claim a significant difference or relationship\")"
      ],
      "metadata": {
        "id": "wdVy3uS5DGws",
        "colab": {
          "base_uri": "https://localhost:8080/"
        },
        "outputId": "41e37caf-5f14-48f2-f02f-8eab7ebf8ac5"
      },
      "execution_count": null,
      "outputs": [
        {
          "output_type": "stream",
          "name": "stdout",
          "text": [
            "There is enough evidence to reject the null hypothesis, meaning the data suggests a statistically significant difference or relationship between the groups.\n",
            "There is enough evidence to reject the null hypothesis, meaning the data suggests a statistically significant difference or relationship between the groups.\n"
          ]
        }
      ]
    },
    {
      "cell_type": "markdown",
      "source": [
        "####independent sample t-test FOR TEST 3"
      ],
      "metadata": {
        "id": "_q2yXcTdBOdk"
      }
    },
    {
      "cell_type": "code",
      "source": [
        "# Filter the data for Test Case 3  graph\n",
        "test_case_3 = mergedf[mergedf['test_case_id'] == 3]\n",
        "\n",
        "# Split each test case by `used_ai` groups\n",
        "# Test Case 3\n",
        "test_case_3_ai_0 = test_case_3[test_case_3['used_ai'] == 0]  # AI not used\n",
        "test_case_3_ai_1 = test_case_3[test_case_3['used_ai'] == 1]  # AI used\n",
        "\n",
        "# T-test for Test case 3 Total data usage\n",
        "t_statistic_data, p_value_data_usage = stats.ttest_ind(test_case_3_ai_0['data_usage_total_MB'], test_case_3_ai_1['data_usage_total_MB'])\n",
        "print(\"\\n---------------Test case 3-------------\")\n",
        "print(\"T-test for total_data_usage:\")\n",
        "print(\"T-statistic:\", t_statistic_data)\n",
        "print(f\"P-value: {p_value_data_usage:.8f}\")\n",
        "\n",
        "# T-test for Test case 3 Total duration_min\n",
        "t_statistic_time, p_value_time = stats.ttest_ind(test_case_3_ai_0['duration_min'], test_case_3_ai_1['duration_min'])\n",
        "print(\"\\nT-test for total_time:\")\n",
        "print(\"T-statistic:\", t_statistic_time)\n",
        "print(f\"P-value: {p_value_time:.8f}\")\n",
        "print(\"\\n--------------------------------------\")"
      ],
      "metadata": {
        "id": "Xho9mwhnBR3F",
        "colab": {
          "base_uri": "https://localhost:8080/"
        },
        "outputId": "2753c744-0cf0-4fd1-9820-cb5e9583da8f"
      },
      "execution_count": null,
      "outputs": [
        {
          "output_type": "stream",
          "name": "stdout",
          "text": [
            "\n",
            "---------------Test case 3-------------\n",
            "T-test for total_data_usage:\n",
            "T-statistic: 2.646891816616554\n",
            "P-value: 0.02444311\n",
            "\n",
            "T-test for total_time:\n",
            "T-statistic: 1.648581395382131\n",
            "P-value: 0.13025035\n",
            "\n",
            "--------------------------------------\n"
          ]
        }
      ]
    },
    {
      "cell_type": "code",
      "source": [
        "if p_value_data_usage < 0.05:\n",
        "  print(\"There is enough evidence to reject the null hypothesis, meaning the data suggests a statistically significant difference or relationship between the groups.\")\n",
        "else:\n",
        "  print(\"We fail to reject the null hypothesis, meaning we do not have enough evidence to claim a significant difference or relationship\")\n",
        "\n",
        "if p_value_time < 0.05:\n",
        "  print(\"There is enough evidence to reject the null hypothesis, meaning the data suggests a statistically significant difference or relationship between the groups.\")\n",
        "else:\n",
        "  print(\"We fail to reject the null hypothesis, meaning we do not have enough evidence to claim a significant difference or relationship\")\n",
        "\n"
      ],
      "metadata": {
        "id": "08BVq_ZwCIte",
        "colab": {
          "base_uri": "https://localhost:8080/"
        },
        "outputId": "283dbd3f-1ae3-463e-8d5c-a0c77f05ef3e"
      },
      "execution_count": null,
      "outputs": [
        {
          "output_type": "stream",
          "name": "stdout",
          "text": [
            "There is enough evidence to reject the null hypothesis, meaning the data suggests a statistically significant difference or relationship between the groups.\n",
            "We fail to reject the null hypothesis, meaning we do not have enough evidence to claim a significant difference or relationship\n"
          ]
        }
      ]
    },
    {
      "cell_type": "code",
      "source": [
        "group_0 = mergedf[mergedf['used_ai'] == 0] # AI not used\n",
        "group_1 = mergedf[mergedf['used_ai'] == 1]  # AI used\n",
        "\n",
        "# T-test for Total data usage\n",
        "merged_t_statistic_data, merged_p_value_data_usage = stats.ttest_ind(group_1['data_usage_total_MB'], group_0['data_usage_total_MB'])\n",
        "print(\"\\n--------------- Merged data -----------\")\n",
        "print(\"T-test for total_data_usage:\")\n",
        "print(\"T-statistic:\", merged_t_statistic_data)\n",
        "print(f\"P-value: {merged_p_value_data_usage:.8f}\")\n",
        "\n",
        "# T-test for Total duration_min\n",
        "merged_t_statistic_time, merged_p_value_time = stats.ttest_ind(group_1['duration_min'], group_0['duration_min'])\n",
        "print(\"\\nT-test for total_time:\")\n",
        "print(\"T-statistic:\", merged_t_statistic_time)\n",
        "print(f\"P-value: {merged_p_value_time:.8f}\")\n",
        "print(\"\\n--------------------------------------\")"
      ],
      "metadata": {
        "id": "CRybWNToZMco",
        "colab": {
          "base_uri": "https://localhost:8080/"
        },
        "outputId": "955d75c1-1dcb-4607-ef59-023d244558cf"
      },
      "execution_count": null,
      "outputs": [
        {
          "output_type": "stream",
          "name": "stdout",
          "text": [
            "\n",
            "--------------- Merged data -----------\n",
            "T-test for total_data_usage:\n",
            "T-statistic: -4.412346680103864\n",
            "P-value: 0.00022034\n",
            "\n",
            "T-test for total_time:\n",
            "T-statistic: -4.708511638340881\n",
            "P-value: 0.00010696\n",
            "\n",
            "--------------------------------------\n"
          ]
        }
      ]
    },
    {
      "cell_type": "code",
      "source": [
        "if merged_p_value_data_usage < 0.05:\n",
        "  print(\"There is enough evidence to reject the null hypothesis, meaning the data suggests a statistically significant difference or relationship between the groups.\")\n",
        "else:\n",
        "  print(\"We fail to reject the null hypothesis, meaning we do not have enough evidence to claim a significant difference or relationship\")\n",
        "\n",
        "if merged_p_value_time < 0.05:\n",
        "  print(\"There is enough evidence to reject the null hypothesis, meaning the data suggests a statistically significant difference or relationship between the groups.\")\n",
        "else:\n",
        "  print(\"We fail to reject the null hypothesis, meaning we do not have enough evidence to claim a significant difference or relationship\")"
      ],
      "metadata": {
        "id": "8lzGAajmd57b",
        "colab": {
          "base_uri": "https://localhost:8080/"
        },
        "outputId": "39c373b4-7808-4e9e-bdad-34104b25895b"
      },
      "execution_count": null,
      "outputs": [
        {
          "output_type": "stream",
          "name": "stdout",
          "text": [
            "There is enough evidence to reject the null hypothesis, meaning the data suggests a statistically significant difference or relationship between the groups.\n",
            "There is enough evidence to reject the null hypothesis, meaning the data suggests a statistically significant difference or relationship between the groups.\n"
          ]
        }
      ]
    },
    {
      "cell_type": "markdown",
      "source": [
        "## Box-plot of P-value"
      ],
      "metadata": {
        "id": "22yuETN5dg5M"
      }
    },
    {
      "cell_type": "markdown",
      "source": [
        "### Compared two dataset(test2 & test3)"
      ],
      "metadata": {
        "id": "JWveAcvTDeAC"
      }
    },
    {
      "cell_type": "markdown",
      "source": [
        "###visualize data - non interactive"
      ],
      "metadata": {
        "id": "HdIGosApL6ni"
      }
    },
    {
      "cell_type": "code",
      "source": [
        "# Assuming the dataset `mergedf` is already loaded and contains `data_usage_total_MB` column\n",
        "\n",
        "# Filter the data for Test Case 2 and Test Case 3\n",
        "test_case_2 = mergedf[mergedf['test_case_id'] == 2]\n",
        "test_case_3 = mergedf[mergedf['test_case_id'] == 3]\n",
        "\n",
        "# Split each test case by `used_ai` groups\n",
        "# Test Case 2\n",
        "test_case_2_ai_0 = test_case_2[test_case_2['used_ai'] == 0]  # AI not used\n",
        "test_case_2_ai_1 = test_case_2[test_case_2['used_ai'] == 1]  # AI used\n",
        "\n",
        "# Test Case 3\n",
        "test_case_3_ai_0 = test_case_3[test_case_3['used_ai'] == 0]  # AI not used\n",
        "test_case_3_ai_1 = test_case_3[test_case_3['used_ai'] == 1]  # AI used\n",
        "\n",
        "# Create subplots to compare Data Usage and Total Time for each test case and AI utilization\n",
        "fig, axes = plt.subplots(1, 2, figsize=(14, 6))\n",
        "\n",
        "# Plot 1: Data Usage Comparison by AI Utilization for Test Cases 2 and 3\n",
        "axes[0].boxplot(\n",
        "    [\n",
        "        test_case_2_ai_0['data_usage_total_MB'],  # Test Case 2, AI not used\n",
        "        test_case_2_ai_1['data_usage_total_MB'],  # Test Case 2, AI used\n",
        "        test_case_3_ai_0['data_usage_total_MB'],  # Test Case 3, AI not used\n",
        "        test_case_3_ai_1['data_usage_total_MB']   # Test Case 3, AI used\n",
        "    ],\n",
        "    labels=['TC 2 - AI=0', 'TC 2 - AI=1', 'TC 3 - AI=0', 'TC 3 - AI=1']\n",
        ")\n",
        "axes[0].set_title('Total Data Usage (MB):  NON_AI vs AI')\n",
        "axes[0].set_xlabel('Test Case and AI Utilization')\n",
        "axes[0].set_ylabel('Total Data Usage (MB)')\n",
        "\n",
        "# Plot 2: Total Time Comparison by AI Utilization for Test Cases 2 and 3\n",
        "axes[1].boxplot(\n",
        "    [\n",
        "        test_case_2_ai_0['duration_min'],  # Test Case 2, AI not used\n",
        "        test_case_2_ai_1['duration_min'],  # Test Case 2, AI used\n",
        "        test_case_3_ai_0['duration_min'],  # Test Case 3, AI not used\n",
        "        test_case_3_ai_1['duration_min']   # Test Case 3, AI used\n",
        "    ],\n",
        "    labels=['TC 2 - AI=0', 'TC 2 - AI=1', 'TC 3 - AI=0', 'TC 3 - AI=1']\n",
        ")\n",
        "axes[1].set_title('Total Time:  NON_AI vs AI')\n",
        "axes[1].set_xlabel('Test Case and AI Utilization')\n",
        "axes[1].set_ylabel('Total Time')\n",
        "\n",
        "# Adjust layout for better readability\n",
        "plt.tight_layout()\n",
        "plt.show()\n",
        "\n"
      ],
      "metadata": {
        "id": "dZ_k46pK8bbK",
        "colab": {
          "base_uri": "https://localhost:8080/"
        },
        "outputId": "94e6fcfd-8f85-45fa-d2e3-5f637fff78ad"
      },
      "execution_count": null,
      "outputs": [
        {
          "output_type": "display_data",
          "data": {
            "text/plain": [
              "<Figure size 1400x600 with 2 Axes>"
            ],
            "image/png": "[encoded data removed]"
          },
          "metadata": {}
        }
      ]
    },
    {
      "cell_type": "code",
      "source": [
        "# Interpretation as text\n",
        "#used_ai 1 == True\n",
        "#used_ai 0 == False\n",
        "\n",
        "print(\"\\nInterpretation:\")\n",
        "if merged_p_value_data_usage < 0.05:\n",
        "  print(\"There is a statistically significant difference in total bandwidth usage between the two groups (used_ai=1 and used_ai=0).\")\n",
        "else:\n",
        "  print(\"There is no statistically significant difference in total bandwidth usage between the two groups.\")\n",
        "\n",
        "if merged_p_value_time < 0.05:\n",
        "  print(\"There is a statistically significant difference in total time between the two groups.\")\n",
        "else:\n",
        "  print(\"There is no statistically significant difference in total time between the two groups.\")\n",
        "\n",
        "\n",
        "# Chart for total_bandwidth_usage\n",
        "plt.figure(figsize=(8, 6))\n",
        "plt.boxplot([group_0['data_usage_total_MB'], group_1['data_usage_total_MB']], labels=['used_ai =0', 'used_ai=1'])\n",
        "plt.title('Total Data Usage (MB):  NON_AI vs AI')\n",
        "plt.ylabel('Total Data Usage(MB)')\n",
        "plt.show()\n",
        "\n",
        "# Chart for total_time\n",
        "plt.figure(figsize=(8, 6))\n",
        "plt.boxplot([group_0['duration_min'], group_1['duration_min']], labels=['used_ai=0', 'used_ai=1'])\n",
        "plt.title('Total Time:  NON_AI vs AI')\n",
        "plt.ylabel('Total Time')\n",
        "plt.show()"
      ],
      "metadata": {
        "id": "VdpbmtzkX0CW",
        "colab": {
          "base_uri": "https://localhost:8080/"
        },
        "outputId": "0ca1c599-420a-44e0-9c38-2f3cd06aed77"
      },
      "execution_count": null,
      "outputs": [
        {
          "output_type": "stream",
          "name": "stdout",
          "text": [
            "\n",
            "Interpretation:\n",
            "There is a statistically significant difference in total bandwidth usage between the two groups (used_ai=1 and used_ai=0).\n",
            "There is a statistically significant difference in total time between the two groups.\n"
          ]
        },
        {
          "output_type": "display_data",
          "data": {
            "text/plain": [
              "<Figure size 800x600 with 1 Axes>"
            ],
            "image/png": "[encoded data removed]"
          },
          "metadata": {}
        },
        {
          "output_type": "display_data",
          "data": {
            "text/plain": [
              "<Figure size 800x600 with 1 Axes>"
            ],
            "image/png": "[encoded data removed]"
          },
          "metadata": {}
        }
      ]
    },
    {
      "cell_type": "code",
      "source": [
        "# Filter the data for Test Case 2 and Test Case 3\n",
        "test_case_2 = mergedf[mergedf['test_case_id'] == 2]\n",
        "test_case_3 = mergedf[mergedf['test_case_id'] == 3]\n",
        "\n",
        "# Split each test case by `used_ai` groups\n",
        "# Test Case 2\n",
        "test_case_2_ai_0 = test_case_2[test_case_2['used_ai'] == 0]  # AI not used\n",
        "test_case_2_ai_1 = test_case_2[test_case_2['used_ai'] == 1]  # AI used\n",
        "\n",
        "# Test Case 3\n",
        "test_case_3_ai_0 = test_case_3[test_case_3['used_ai'] == 0]  # AI not used\n",
        "test_case_3_ai_1 = test_case_3[test_case_3['used_ai'] == 1]  # AI used\n"
      ],
      "metadata": {
        "id": "ZBnvyd9hhKjD"
      },
      "execution_count": null,
      "outputs": []
    },
    {
      "cell_type": "markdown",
      "source": [
        "###visualize data - interactive"
      ],
      "metadata": {
        "id": "928D1fobMKFL"
      }
    },
    {
      "cell_type": "code",
      "source": [
        "# Create subplots for data usage and total time\n",
        "fig = make_subplots(rows=1, cols=2, subplot_titles=['Total Data Usage (MB): Traditional vs AI', 'Total Time: Traditional vs AI'])\n",
        "\n",
        "# Plot 1: Data Usage Comparison by AI Utilization for Test Cases 2 and 3\n",
        "fig.add_trace(\n",
        "    go.Box(y=test_case_2_ai_0['data_usage_total_MB'], name= 'T2 used_ai =0'),\n",
        "    row=1, col=1\n",
        ")\n",
        "fig.add_trace(\n",
        "    go.Box(y=test_case_2_ai_1['data_usage_total_MB'], name='T2 used_ai =1'),\n",
        "    row=1, col=1\n",
        ")\n",
        "fig.add_trace(\n",
        "    go.Box(y=test_case_3_ai_0['data_usage_total_MB'], name='T3 used_aiI =0'),\n",
        "    row=1, col=1\n",
        ")\n",
        "fig.add_trace(\n",
        "    go.Box(y=test_case_3_ai_1['data_usage_total_MB'], name='T3 used_ai =1'),\n",
        "    row=1, col=1\n",
        ")\n",
        "\n",
        "# Plot 2: Total Time Comparison by AI Utilization for Test Cases 2 and 3\n",
        "fig.add_trace(\n",
        "    go.Box(y=test_case_2_ai_0['duration_min'], name='T2 used_ai = 0'),\n",
        "    row=1, col=2\n",
        ")\n",
        "fig.add_trace(\n",
        "    go.Box(y=test_case_2_ai_1['duration_min'], name= 'T2 used_ai =1'),\n",
        "    row=1, col=2\n",
        ")\n",
        "fig.add_trace(\n",
        "    go.Box(y=test_case_3_ai_0['duration_min'], name='T3 used_aiI =0'),\n",
        "    row=1, col=2\n",
        ")\n",
        "fig.add_trace(\n",
        "    go.Box(y=test_case_3_ai_1['duration_min'], name='T3 used_ai =1'),\n",
        "    row=1, col=2\n",
        ")\n",
        "\n",
        "# Update layout for titles and axis labels\n",
        "fig.update_layout(\n",
        "    title='Comparison of Data Usage and Total Time by AI Utilization',\n",
        "    width=1200,\n",
        "    height=750\n",
        ")\n",
        "\n",
        "fig.update_xaxes(title_text=\"Test Case and AI Utilization\", row=1, col=1)\n",
        "fig.update_yaxes(title_text=\"Total Data Usage (MB)\", row=1, col=1)\n",
        "fig.update_xaxes(title_text=\"Test Case and AI Utilization\", row=1, col=2)\n",
        "fig.update_yaxes(title_text=\"Total Time (minutes)\", row=1, col=2)\n",
        "\n",
        "fig.show()\n"
      ],
      "metadata": {
        "colab": {
          "base_uri": "https://localhost:8080/",
          "height": 767
        },
        "outputId": "5a28465c-b957-4741-acd6-25d9a31a3821",
        "id": "vAahSkcdhK2M"
      },
      "execution_count": null,
      "outputs": [
        {
          "output_type": "display_data",
          "data": {
            "text/html": [
              "<html>\n",
              "<head><meta charset=\"utf-8\" /></head>\n",
              "<body>\n",
              "    <div>            <script src=\"https://cdnjs.cloudflare.com/ajax/libs/mathjax/2.7.5/MathJax.js?config=TeX-AMS-MML_SVG\"></script><script type=\"text/javascript\">if (window.MathJax && window.MathJax.Hub && window.MathJax.Hub.Config) {window.MathJax.Hub.Config({SVG: {font: \"STIX-Web\"}});}</script>                <script type=\"text/javascript\">window.PlotlyConfig = {MathJaxConfig: 'local'};</script>\n",
              "        <script charset=\"utf-8\" src=\"https://cdn.plot.ly/plotly-2.35.2.min.js\"></script>                <div id=\"aac35fcf-5bff-40b0-838e-f72cd98c8043\" class=\"plotly-graph-div\" style=\"height:750px; width:1200px;\"></div>            <script type=\"text/javascript\">                                    window.PLOTLYENV=window.PLOTLYENV || {};                                    if (document.getElementById(\"aac35fcf-5bff-40b0-838e-f72cd98c8043\")) {                    Plotly.newPlot(                        \"aac35fcf-5bff-40b0-838e-f72cd98c8043\",                        [{\"name\":\"T2 used_ai =0\",\"y\":[655.8154296875,319.5859375,420.876953125,31.458984375,536.1014804840086,281.75390625],\"type\":\"box\",\"xaxis\":\"x\",\"yaxis\":\"y\"},{\"name\":\"T2 used_ai =1\",\"y\":[113.8818359375,7.3671875,5.1064453125,1.0224609375,12.92977333068847,99.029296875],\"type\":\"box\",\"xaxis\":\"x\",\"yaxis\":\"y\"},{\"name\":\"T3 used_aiI =0\",\"y\":[566.5703125,52.88867188,454.2560921,384.8271484,420.1376953,723.2529049],\"type\":\"box\",\"xaxis\":\"x\",\"yaxis\":\"y\"},{\"name\":\"T3 used_ai =1\",\"y\":[304.3642578,5.247070313,93.35218239,118.2177734,224.7138672,239.3896246],\"type\":\"box\",\"xaxis\":\"x\",\"yaxis\":\"y\"},{\"name\":\"T2 used_ai = 0\",\"y\":[82.7,76.8,85.11666666666666,108.5,79.46666666666667,57.3],\"type\":\"box\",\"xaxis\":\"x2\",\"yaxis\":\"y2\"},{\"name\":\"T2 used_ai =1\",\"y\":[34.75,20.3,13.9,6.966666666666667,17.383333333333333,14.133333333333333],\"type\":\"box\",\"xaxis\":\"x2\",\"yaxis\":\"y2\"},{\"name\":\"T3 used_aiI =0\",\"y\":[52.21666667,24.41666667,27.15,47.68333333,33.51666667,67.41666667],\"type\":\"box\",\"xaxis\":\"x2\",\"yaxis\":\"y2\"},{\"name\":\"T3 used_ai =1\",\"y\":[47.86666667,8.233333333,16.21666667,24.06666667,25.9,40.28333333],\"type\":\"box\",\"xaxis\":\"x2\",\"yaxis\":\"y2\"}],                        {\"template\":{\"data\":{\"histogram2dcontour\":[{\"type\":\"histogram2dcontour\",\"colorbar\":{\"outlinewidth\":0,\"ticks\":\"\"},\"colorscale\":[[0.0,\"#0d0887\"],[0.1111111111111111,\"#46039f\"],[0.2222222222222222,\"#7201a8\"],[0.3333333333333333,\"#9c179e\"],[0.4444444444444444,\"#bd3786\"],[0.5555555555555556,\"#d8576b\"],[0.6666666666666666,\"#ed7953\"],[0.7777777777777778,\"#fb9f3a\"],[0.8888888888888888,\"#fdca26\"],[1.0,\"#f0f921\"]]}],\"choropleth\":[{\"type\":\"choropleth\",\"colorbar\":{\"outlinewidth\":0,\"ticks\":\"\"}}],\"histogram2d\":[{\"type\":\"histogram2d\",\"colorbar\":{\"outlinewidth\":0,\"ticks\":\"\"},\"colorscale\":[[0.0,\"#0d0887\"],[0.1111111111111111,\"#46039f\"],[0.2222222222222222,\"#7201a8\"],[0.3333333333333333,\"#9c179e\"],[0.4444444444444444,\"#bd3786\"],[0.5555555555555556,\"#d8576b\"],[0.6666666666666666,\"#ed7953\"],[0.7777777777777778,\"#fb9f3a\"],[0.8888888888888888,\"#fdca26\"],[1.0,\"#f0f921\"]]}],\"heatmap\":[{\"type\":\"heatmap\",\"colorbar\":{\"outlinewidth\":0,\"ticks\":\"\"},\"colorscale\":[[0.0,\"#0d0887\"],[0.1111111111111111,\"#46039f\"],[0.2222222222222222,\"#7201a8\"],[0.3333333333333333,\"#9c179e\"],[0.4444444444444444,\"#bd3786\"],[0.5555555555555556,\"#d8576b\"],[0.6666666666666666,\"#ed7953\"],[0.7777777777777778,\"#fb9f3a\"],[0.8888888888888888,\"#fdca26\"],[1.0,\"#f0f921\"]]}],\"heatmapgl\":[{\"type\":\"heatmapgl\",\"colorbar\":{\"outlinewidth\":0,\"ticks\":\"\"},\"colorscale\":[[0.0,\"#0d0887\"],[0.1111111111111111,\"#46039f\"],[0.2222222222222222,\"#7201a8\"],[0.3333333333333333,\"#9c179e\"],[0.4444444444444444,\"#bd3786\"],[0.5555555555555556,\"#d8576b\"],[0.6666666666666666,\"#ed7953\"],[0.7777777777777778,\"#fb9f3a\"],[0.8888888888888888,\"#fdca26\"],[1.0,\"#f0f921\"]]}],\"contourcarpet\":[{\"type\":\"contourcarpet\",\"colorbar\":{\"outlinewidth\":0,\"ticks\":\"\"}}],\"contour\":[{\"type\":\"contour\",\"colorbar\":{\"outlinewidth\":0,\"ticks\":\"\"},\"colorscale\":[[0.0,\"#0d0887\"],[0.1111111111111111,\"#46039f\"],[0.2222222222222222,\"#7201a8\"],[0.3333333333333333,\"#9c179e\"],[0.4444444444444444,\"#bd3786\"],[0.5555555555555556,\"#d8576b\"],[0.6666666666666666,\"#ed7953\"],[0.7777777777777778,\"#fb9f3a\"],[0.8888888888888888,\"#fdca26\"],[1.0,\"#f0f921\"]]}],\"surface\":[{\"type\":\"surface\",\"colorbar\":{\"outlinewidth\":0,\"ticks\":\"\"},\"colorscale\":[[0.0,\"#0d0887\"],[0.1111111111111111,\"#46039f\"],[0.2222222222222222,\"#7201a8\"],[0.3333333333333333,\"#9c179e\"],[0.4444444444444444,\"#bd3786\"],[0.5555555555555556,\"#d8576b\"],[0.6666666666666666,\"#ed7953\"],[0.7777777777777778,\"#fb9f3a\"],[0.8888888888888888,\"#fdca26\"],[1.0,\"#f0f921\"]]}],\"mesh3d\":[{\"type\":\"mesh3d\",\"colorbar\":{\"outlinewidth\":0,\"ticks\":\"\"}}],\"scatter\":[{\"fillpattern\":{\"fillmode\":\"overlay\",\"size\":10,\"solidity\":0.2},\"type\":\"scatter\"}],\"parcoords\":[{\"type\":\"parcoords\",\"line\":{\"colorbar\":{\"outlinewidth\":0,\"ticks\":\"\"}}}],\"scatterpolargl\":[{\"type\":\"scatterpolargl\",\"marker\":{\"colorbar\":{\"outlinewidth\":0,\"ticks\":\"\"}}}],\"bar\":[{\"error_x\":{\"color\":\"#2a3f5f\"},\"error_y\":{\"color\":\"#2a3f5f\"},\"marker\":{\"line\":{\"color\":\"#E5ECF6\",\"width\":0.5},\"pattern\":{\"fillmode\":\"overlay\",\"size\":10,\"solidity\":0.2}},\"type\":\"bar\"}],\"scattergeo\":[{\"type\":\"scattergeo\",\"marker\":{\"colorbar\":{\"outlinewidth\":0,\"ticks\":\"\"}}}],\"scatterpolar\":[{\"type\":\"scatterpolar\",\"marker\":{\"colorbar\":{\"outlinewidth\":0,\"ticks\":\"\"}}}],\"histogram\":[{\"marker\":{\"pattern\":{\"fillmode\":\"overlay\",\"size\":10,\"solidity\":0.2}},\"type\":\"histogram\"}],\"scattergl\":[{\"type\":\"scattergl\",\"marker\":{\"colorbar\":{\"outlinewidth\":0,\"ticks\":\"\"}}}],\"scatter3d\":[{\"type\":\"scatter3d\",\"line\":{\"colorbar\":{\"outlinewidth\":0,\"ticks\":\"\"}},\"marker\":{\"colorbar\":{\"outlinewidth\":0,\"ticks\":\"\"}}}],\"scattermapbox\":[{\"type\":\"scattermapbox\",\"marker\":{\"colorbar\":{\"outlinewidth\":0,\"ticks\":\"\"}}}],\"scatterternary\":[{\"type\":\"scatterternary\",\"marker\":{\"colorbar\":{\"outlinewidth\":0,\"ticks\":\"\"}}}],\"scattercarpet\":[{\"type\":\"scattercarpet\",\"marker\":{\"colorbar\":{\"outlinewidth\":0,\"ticks\":\"\"}}}],\"carpet\":[{\"aaxis\":{\"endlinecolor\":\"#2a3f5f\",\"gridcolor\":\"white\",\"linecolor\":\"white\",\"minorgridcolor\":\"white\",\"startlinecolor\":\"#2a3f5f\"},\"baxis\":{\"endlinecolor\":\"#2a3f5f\",\"gridcolor\":\"white\",\"linecolor\":\"white\",\"minorgridcolor\":\"white\",\"startlinecolor\":\"#2a3f5f\"},\"type\":\"carpet\"}],\"table\":[{\"cells\":{\"fill\":{\"color\":\"#EBF0F8\"},\"line\":{\"color\":\"white\"}},\"header\":{\"fill\":{\"color\":\"#C8D4E3\"},\"line\":{\"color\":\"white\"}},\"type\":\"table\"}],\"barpolar\":[{\"marker\":{\"line\":{\"color\":\"#E5ECF6\",\"width\":0.5},\"pattern\":{\"fillmode\":\"overlay\",\"size\":10,\"solidity\":0.2}},\"type\":\"barpolar\"}],\"pie\":[{\"automargin\":true,\"type\":\"pie\"}]},\"layout\":{\"autotypenumbers\":\"strict\",\"colorway\":[\"#636efa\",\"#EF553B\",\"#00cc96\",\"#ab63fa\",\"#FFA15A\",\"#19d3f3\",\"#FF6692\",\"#B6E880\",\"#FF97FF\",\"#FECB52\"],\"font\":{\"color\":\"#2a3f5f\"},\"hovermode\":\"closest\",\"hoverlabel\":{\"align\":\"left\"},\"paper_bgcolor\":\"white\",\"plot_bgcolor\":\"#E5ECF6\",\"polar\":{\"bgcolor\":\"#E5ECF6\",\"angularaxis\":{\"gridcolor\":\"white\",\"linecolor\":\"white\",\"ticks\":\"\"},\"radialaxis\":{\"gridcolor\":\"white\",\"linecolor\":\"white\",\"ticks\":\"\"}},\"ternary\":{\"bgcolor\":\"#E5ECF6\",\"aaxis\":{\"gridcolor\":\"white\",\"linecolor\":\"white\",\"ticks\":\"\"},\"baxis\":{\"gridcolor\":\"white\",\"linecolor\":\"white\",\"ticks\":\"\"},\"caxis\":{\"gridcolor\":\"white\",\"linecolor\":\"white\",\"ticks\":\"\"}},\"coloraxis\":{\"colorbar\":{\"outlinewidth\":0,\"ticks\":\"\"}},\"colorscale\":{\"sequential\":[[0.0,\"#0d0887\"],[0.1111111111111111,\"#46039f\"],[0.2222222222222222,\"#7201a8\"],[0.3333333333333333,\"#9c179e\"],[0.4444444444444444,\"#bd3786\"],[0.5555555555555556,\"#d8576b\"],[0.6666666666666666,\"#ed7953\"],[0.7777777777777778,\"#fb9f3a\"],[0.8888888888888888,\"#fdca26\"],[1.0,\"#f0f921\"]],\"sequentialminus\":[[0.0,\"#0d0887\"],[0.1111111111111111,\"#46039f\"],[0.2222222222222222,\"#7201a8\"],[0.3333333333333333,\"#9c179e\"],[0.4444444444444444,\"#bd3786\"],[0.5555555555555556,\"#d8576b\"],[0.6666666666666666,\"#ed7953\"],[0.7777777777777778,\"#fb9f3a\"],[0.8888888888888888,\"#fdca26\"],[1.0,\"#f0f921\"]],\"diverging\":[[0,\"#8e0152\"],[0.1,\"#c51b7d\"],[0.2,\"#de77ae\"],[0.3,\"#f1b6da\"],[0.4,\"#fde0ef\"],[0.5,\"#f7f7f7\"],[0.6,\"#e6f5d0\"],[0.7,\"#b8e186\"],[0.8,\"#7fbc41\"],[0.9,\"#4d9221\"],[1,\"#276419\"]]},\"xaxis\":{\"gridcolor\":\"white\",\"linecolor\":\"white\",\"ticks\":\"\",\"title\":{\"standoff\":15},\"zerolinecolor\":\"white\",\"automargin\":true,\"zerolinewidth\":2},\"yaxis\":{\"gridcolor\":\"white\",\"linecolor\":\"white\",\"ticks\":\"\",\"title\":{\"standoff\":15},\"zerolinecolor\":\"white\",\"automargin\":true,\"zerolinewidth\":2},\"scene\":{\"xaxis\":{\"backgroundcolor\":\"#E5ECF6\",\"gridcolor\":\"white\",\"linecolor\":\"white\",\"showbackground\":true,\"ticks\":\"\",\"zerolinecolor\":\"white\",\"gridwidth\":2},\"yaxis\":{\"backgroundcolor\":\"#E5ECF6\",\"gridcolor\":\"white\",\"linecolor\":\"white\",\"showbackground\":true,\"ticks\":\"\",\"zerolinecolor\":\"white\",\"gridwidth\":2},\"zaxis\":{\"backgroundcolor\":\"#E5ECF6\",\"gridcolor\":\"white\",\"linecolor\":\"white\",\"showbackground\":true,\"ticks\":\"\",\"zerolinecolor\":\"white\",\"gridwidth\":2}},\"shapedefaults\":{\"line\":{\"color\":\"#2a3f5f\"}},\"annotationdefaults\":{\"arrowcolor\":\"#2a3f5f\",\"arrowhead\":0,\"arrowwidth\":1},\"geo\":{\"bgcolor\":\"white\",\"landcolor\":\"#E5ECF6\",\"subunitcolor\":\"white\",\"showland\":true,\"showlakes\":true,\"lakecolor\":\"white\"},\"title\":{\"x\":0.05},\"mapbox\":{\"style\":\"light\"}}},\"xaxis\":{\"anchor\":\"y\",\"domain\":[0.0,0.45],\"title\":{\"text\":\"Test Case and AI Utilization\"}},\"yaxis\":{\"anchor\":\"x\",\"domain\":[0.0,1.0],\"title\":{\"text\":\"Total Data Usage (MB)\"}},\"xaxis2\":{\"anchor\":\"y2\",\"domain\":[0.55,1.0],\"title\":{\"text\":\"Test Case and AI Utilization\"}},\"yaxis2\":{\"anchor\":\"x2\",\"domain\":[0.0,1.0],\"title\":{\"text\":\"Total Time (minutes)\"}},\"annotations\":[{\"font\":{\"size\":16},\"showarrow\":false,\"text\":\"Total Data Usage (MB): Traditional vs AI\",\"x\":0.225,\"xanchor\":\"center\",\"xref\":\"paper\",\"y\":1.0,\"yanchor\":\"bottom\",\"yref\":\"paper\"},{\"font\":{\"size\":16},\"showarrow\":false,\"text\":\"Total Time: Traditional vs AI\",\"x\":0.775,\"xanchor\":\"center\",\"xref\":\"paper\",\"y\":1.0,\"yanchor\":\"bottom\",\"yref\":\"paper\"}],\"title\":{\"text\":\"Comparison of Data Usage and Total Time by AI Utilization\"},\"width\":1200,\"height\":750},                        {\"responsive\": true}                    ).then(function(){\n",
              "                            \n",
              "var gd = document.getElementById('aac35fcf-5bff-40b0-838e-f72cd98c8043');\n",
              "var x = new MutationObserver(function (mutations, observer) {{\n",
              "        var display = window.getComputedStyle(gd).display;\n",
              "        if (!display || display === 'none') {{\n",
              "            console.log([gd, 'removed!']);\n",
              "            Plotly.purge(gd);\n",
              "            observer.disconnect();\n",
              "        }}\n",
              "}});\n",
              "\n",
              "// Listen for the removal of the full notebook cells\n",
              "var notebookContainer = gd.closest('#notebook-container');\n",
              "if (notebookContainer) {{\n",
              "    x.observe(notebookContainer, {childList: true});\n",
              "}}\n",
              "\n",
              "// Listen for the clearing of the current output cell\n",
              "var outputEl = gd.closest('.output');\n",
              "if (outputEl) {{\n",
              "    x.observe(outputEl, {childList: true});\n",
              "}}\n",
              "\n",
              "                        })                };                            </script>        </div>\n",
              "</body>\n",
              "</html>"
            ]
          },
          "metadata": {}
        }
      ]
    },
    {
      "cell_type": "code",
      "source": [
        "from plotly.subplots import make_subplots\n",
        "import plotly.graph_objects as go\n",
        "\n",
        "# Interpretation as text\n",
        "# used_ai 1 == True == Used_ai\n",
        "# used_ai 0 == False == Non_used_ai\n",
        "\n",
        "print(\"\\nInterpretation:\")\n",
        "if merged_p_value_data_usage < 0.05:\n",
        "    print(\"There is a statistically significant difference in total bandwidth usage between the two groups (used_ai=1 and used_ai=0).\")\n",
        "else:\n",
        "    print(\"There is no statistically significant difference in total bandwidth usage between the two groups.\")\n",
        "\n",
        "if merged_p_value_time < 0.05:\n",
        "    print(\"There is a statistically significant difference in total time between the two groups.\")\n",
        "else:\n",
        "    print(\"There is no statistically significant difference in total time between the two groups.\")\n",
        "\n",
        "# Create subplots with 1 row and 2 columns\n",
        "fig = make_subplots(rows=1, cols=2, subplot_titles=('Total Data Usage (MB): Traditional vs AI', 'Total Time: Traditional vs AI'))\n",
        "\n",
        "# Chart for total_bandwidth_usage\n",
        "fig.add_trace(\n",
        "    go.Box(y=group_0['data_usage_total_MB'], name='used_ai=0'),\n",
        "    row=1, col=1\n",
        ")\n",
        "fig.add_trace(\n",
        "    go.Box(y=group_1['data_usage_total_MB'], name='used_ai=1'),\n",
        "    row=1, col=1\n",
        ")\n",
        "\n",
        "# Chart for total_time\n",
        "fig.add_trace(\n",
        "    go.Box(y=group_0['duration_min'], name='used_ai=0'),\n",
        "    row=1, col=2\n",
        ")\n",
        "fig.add_trace(\n",
        "    go.Box(y=group_1['duration_min'], name='used_ai=1'),\n",
        "    row=1, col=2\n",
        ")\n",
        "\n",
        "# Update layout\n",
        "fig.update_layout(\n",
        "    height= 700, width=1000,\n",
        "    showlegend=False,\n",
        "    yaxis_title_text='Total Data Usage (MB)', # Left chart y-axis\n",
        "    yaxis2_title_text='Total Time'           # Right chart y-axis\n",
        ")\n",
        "\n",
        "fig.show()\n"
      ],
      "metadata": {
        "id": "gCsXGYt7LOuL",
        "colab": {
          "base_uri": "https://localhost:8080/",
          "height": 786
        },
        "outputId": "6b4443db-c76d-4b03-c7ef-857344e7ae24"
      },
      "execution_count": null,
      "outputs": [
        {
          "output_type": "stream",
          "name": "stdout",
          "text": [
            "\n",
            "Interpretation:\n",
            "There is a statistically significant difference in total bandwidth usage between the two groups (used_ai=1 and used_ai=0).\n",
            "There is a statistically significant difference in total time between the two groups.\n"
          ]
        },
        {
          "output_type": "display_data",
          "data": {
            "text/html": [
              "<html>\n",
              "<head><meta charset=\"utf-8\" /></head>\n",
              "<body>\n",
              "    <div>            <script src=\"https://cdnjs.cloudflare.com/ajax/libs/mathjax/2.7.5/MathJax.js?config=TeX-AMS-MML_SVG\"></script><script type=\"text/javascript\">if (window.MathJax && window.MathJax.Hub && window.MathJax.Hub.Config) {window.MathJax.Hub.Config({SVG: {font: \"STIX-Web\"}});}</script>                <script type=\"text/javascript\">window.PlotlyConfig = {MathJaxConfig: 'local'};</script>\n",
              "        <script charset=\"utf-8\" src=\"https://cdn.plot.ly/plotly-2.35.2.min.js\"></script>                <div id=\"55c4f2b6-cf6a-4d5a-ae45-04c2730f9425\" class=\"plotly-graph-div\" style=\"height:700px; width:1000px;\"></div>            <script type=\"text/javascript\">                                    window.PLOTLYENV=window.PLOTLYENV || {};                                    if (document.getElementById(\"55c4f2b6-cf6a-4d5a-ae45-04c2730f9425\")) {                    Plotly.newPlot(                        \"55c4f2b6-cf6a-4d5a-ae45-04c2730f9425\",                        [{\"name\":\"used_ai=0\",\"y\":[655.8154296875,319.5859375,420.876953125,31.458984375,536.1014804840086,281.75390625,566.5703125,52.88867188,454.2560921,384.8271484,420.1376953,723.2529049],\"type\":\"box\",\"xaxis\":\"x\",\"yaxis\":\"y\"},{\"name\":\"used_ai=1\",\"y\":[113.8818359375,7.3671875,5.1064453125,1.0224609375,12.92977333068847,99.029296875,304.3642578,5.247070313,93.35218239,118.2177734,224.7138672,239.3896246],\"type\":\"box\",\"xaxis\":\"x\",\"yaxis\":\"y\"},{\"name\":\"used_ai=0\",\"y\":[82.7,76.8,85.11666666666666,108.5,79.46666666666667,57.3,52.21666667,24.41666667,27.15,47.68333333,33.51666667,67.41666667],\"type\":\"box\",\"xaxis\":\"x2\",\"yaxis\":\"y2\"},{\"name\":\"used_ai=1\",\"y\":[34.75,20.3,13.9,6.966666666666667,17.383333333333333,14.133333333333333,47.86666667,8.233333333,16.21666667,24.06666667,25.9,40.28333333],\"type\":\"box\",\"xaxis\":\"x2\",\"yaxis\":\"y2\"}],                        {\"template\":{\"data\":{\"histogram2dcontour\":[{\"type\":\"histogram2dcontour\",\"colorbar\":{\"outlinewidth\":0,\"ticks\":\"\"},\"colorscale\":[[0.0,\"#0d0887\"],[0.1111111111111111,\"#46039f\"],[0.2222222222222222,\"#7201a8\"],[0.3333333333333333,\"#9c179e\"],[0.4444444444444444,\"#bd3786\"],[0.5555555555555556,\"#d8576b\"],[0.6666666666666666,\"#ed7953\"],[0.7777777777777778,\"#fb9f3a\"],[0.8888888888888888,\"#fdca26\"],[1.0,\"#f0f921\"]]}],\"choropleth\":[{\"type\":\"choropleth\",\"colorbar\":{\"outlinewidth\":0,\"ticks\":\"\"}}],\"histogram2d\":[{\"type\":\"histogram2d\",\"colorbar\":{\"outlinewidth\":0,\"ticks\":\"\"},\"colorscale\":[[0.0,\"#0d0887\"],[0.1111111111111111,\"#46039f\"],[0.2222222222222222,\"#7201a8\"],[0.3333333333333333,\"#9c179e\"],[0.4444444444444444,\"#bd3786\"],[0.5555555555555556,\"#d8576b\"],[0.6666666666666666,\"#ed7953\"],[0.7777777777777778,\"#fb9f3a\"],[0.8888888888888888,\"#fdca26\"],[1.0,\"#f0f921\"]]}],\"heatmap\":[{\"type\":\"heatmap\",\"colorbar\":{\"outlinewidth\":0,\"ticks\":\"\"},\"colorscale\":[[0.0,\"#0d0887\"],[0.1111111111111111,\"#46039f\"],[0.2222222222222222,\"#7201a8\"],[0.3333333333333333,\"#9c179e\"],[0.4444444444444444,\"#bd3786\"],[0.5555555555555556,\"#d8576b\"],[0.6666666666666666,\"#ed7953\"],[0.7777777777777778,\"#fb9f3a\"],[0.8888888888888888,\"#fdca26\"],[1.0,\"#f0f921\"]]}],\"heatmapgl\":[{\"type\":\"heatmapgl\",\"colorbar\":{\"outlinewidth\":0,\"ticks\":\"\"},\"colorscale\":[[0.0,\"#0d0887\"],[0.1111111111111111,\"#46039f\"],[0.2222222222222222,\"#7201a8\"],[0.3333333333333333,\"#9c179e\"],[0.4444444444444444,\"#bd3786\"],[0.5555555555555556,\"#d8576b\"],[0.6666666666666666,\"#ed7953\"],[0.7777777777777778,\"#fb9f3a\"],[0.8888888888888888,\"#fdca26\"],[1.0,\"#f0f921\"]]}],\"contourcarpet\":[{\"type\":\"contourcarpet\",\"colorbar\":{\"outlinewidth\":0,\"ticks\":\"\"}}],\"contour\":[{\"type\":\"contour\",\"colorbar\":{\"outlinewidth\":0,\"ticks\":\"\"},\"colorscale\":[[0.0,\"#0d0887\"],[0.1111111111111111,\"#46039f\"],[0.2222222222222222,\"#7201a8\"],[0.3333333333333333,\"#9c179e\"],[0.4444444444444444,\"#bd3786\"],[0.5555555555555556,\"#d8576b\"],[0.6666666666666666,\"#ed7953\"],[0.7777777777777778,\"#fb9f3a\"],[0.8888888888888888,\"#fdca26\"],[1.0,\"#f0f921\"]]}],\"surface\":[{\"type\":\"surface\",\"colorbar\":{\"outlinewidth\":0,\"ticks\":\"\"},\"colorscale\":[[0.0,\"#0d0887\"],[0.1111111111111111,\"#46039f\"],[0.2222222222222222,\"#7201a8\"],[0.3333333333333333,\"#9c179e\"],[0.4444444444444444,\"#bd3786\"],[0.5555555555555556,\"#d8576b\"],[0.6666666666666666,\"#ed7953\"],[0.7777777777777778,\"#fb9f3a\"],[0.8888888888888888,\"#fdca26\"],[1.0,\"#f0f921\"]]}],\"mesh3d\":[{\"type\":\"mesh3d\",\"colorbar\":{\"outlinewidth\":0,\"ticks\":\"\"}}],\"scatter\":[{\"fillpattern\":{\"fillmode\":\"overlay\",\"size\":10,\"solidity\":0.2},\"type\":\"scatter\"}],\"parcoords\":[{\"type\":\"parcoords\",\"line\":{\"colorbar\":{\"outlinewidth\":0,\"ticks\":\"\"}}}],\"scatterpolargl\":[{\"type\":\"scatterpolargl\",\"marker\":{\"colorbar\":{\"outlinewidth\":0,\"ticks\":\"\"}}}],\"bar\":[{\"error_x\":{\"color\":\"#2a3f5f\"},\"error_y\":{\"color\":\"#2a3f5f\"},\"marker\":{\"line\":{\"color\":\"#E5ECF6\",\"width\":0.5},\"pattern\":{\"fillmode\":\"overlay\",\"size\":10,\"solidity\":0.2}},\"type\":\"bar\"}],\"scattergeo\":[{\"type\":\"scattergeo\",\"marker\":{\"colorbar\":{\"outlinewidth\":0,\"ticks\":\"\"}}}],\"scatterpolar\":[{\"type\":\"scatterpolar\",\"marker\":{\"colorbar\":{\"outlinewidth\":0,\"ticks\":\"\"}}}],\"histogram\":[{\"marker\":{\"pattern\":{\"fillmode\":\"overlay\",\"size\":10,\"solidity\":0.2}},\"type\":\"histogram\"}],\"scattergl\":[{\"type\":\"scattergl\",\"marker\":{\"colorbar\":{\"outlinewidth\":0,\"ticks\":\"\"}}}],\"scatter3d\":[{\"type\":\"scatter3d\",\"line\":{\"colorbar\":{\"outlinewidth\":0,\"ticks\":\"\"}},\"marker\":{\"colorbar\":{\"outlinewidth\":0,\"ticks\":\"\"}}}],\"scattermapbox\":[{\"type\":\"scattermapbox\",\"marker\":{\"colorbar\":{\"outlinewidth\":0,\"ticks\":\"\"}}}],\"scatterternary\":[{\"type\":\"scatterternary\",\"marker\":{\"colorbar\":{\"outlinewidth\":0,\"ticks\":\"\"}}}],\"scattercarpet\":[{\"type\":\"scattercarpet\",\"marker\":{\"colorbar\":{\"outlinewidth\":0,\"ticks\":\"\"}}}],\"carpet\":[{\"aaxis\":{\"endlinecolor\":\"#2a3f5f\",\"gridcolor\":\"white\",\"linecolor\":\"white\",\"minorgridcolor\":\"white\",\"startlinecolor\":\"#2a3f5f\"},\"baxis\":{\"endlinecolor\":\"#2a3f5f\",\"gridcolor\":\"white\",\"linecolor\":\"white\",\"minorgridcolor\":\"white\",\"startlinecolor\":\"#2a3f5f\"},\"type\":\"carpet\"}],\"table\":[{\"cells\":{\"fill\":{\"color\":\"#EBF0F8\"},\"line\":{\"color\":\"white\"}},\"header\":{\"fill\":{\"color\":\"#C8D4E3\"},\"line\":{\"color\":\"white\"}},\"type\":\"table\"}],\"barpolar\":[{\"marker\":{\"line\":{\"color\":\"#E5ECF6\",\"width\":0.5},\"pattern\":{\"fillmode\":\"overlay\",\"size\":10,\"solidity\":0.2}},\"type\":\"barpolar\"}],\"pie\":[{\"automargin\":true,\"type\":\"pie\"}]},\"layout\":{\"autotypenumbers\":\"strict\",\"colorway\":[\"#636efa\",\"#EF553B\",\"#00cc96\",\"#ab63fa\",\"#FFA15A\",\"#19d3f3\",\"#FF6692\",\"#B6E880\",\"#FF97FF\",\"#FECB52\"],\"font\":{\"color\":\"#2a3f5f\"},\"hovermode\":\"closest\",\"hoverlabel\":{\"align\":\"left\"},\"paper_bgcolor\":\"white\",\"plot_bgcolor\":\"#E5ECF6\",\"polar\":{\"bgcolor\":\"#E5ECF6\",\"angularaxis\":{\"gridcolor\":\"white\",\"linecolor\":\"white\",\"ticks\":\"\"},\"radialaxis\":{\"gridcolor\":\"white\",\"linecolor\":\"white\",\"ticks\":\"\"}},\"ternary\":{\"bgcolor\":\"#E5ECF6\",\"aaxis\":{\"gridcolor\":\"white\",\"linecolor\":\"white\",\"ticks\":\"\"},\"baxis\":{\"gridcolor\":\"white\",\"linecolor\":\"white\",\"ticks\":\"\"},\"caxis\":{\"gridcolor\":\"white\",\"linecolor\":\"white\",\"ticks\":\"\"}},\"coloraxis\":{\"colorbar\":{\"outlinewidth\":0,\"ticks\":\"\"}},\"colorscale\":{\"sequential\":[[0.0,\"#0d0887\"],[0.1111111111111111,\"#46039f\"],[0.2222222222222222,\"#7201a8\"],[0.3333333333333333,\"#9c179e\"],[0.4444444444444444,\"#bd3786\"],[0.5555555555555556,\"#d8576b\"],[0.6666666666666666,\"#ed7953\"],[0.7777777777777778,\"#fb9f3a\"],[0.8888888888888888,\"#fdca26\"],[1.0,\"#f0f921\"]],\"sequentialminus\":[[0.0,\"#0d0887\"],[0.1111111111111111,\"#46039f\"],[0.2222222222222222,\"#7201a8\"],[0.3333333333333333,\"#9c179e\"],[0.4444444444444444,\"#bd3786\"],[0.5555555555555556,\"#d8576b\"],[0.6666666666666666,\"#ed7953\"],[0.7777777777777778,\"#fb9f3a\"],[0.8888888888888888,\"#fdca26\"],[1.0,\"#f0f921\"]],\"diverging\":[[0,\"#8e0152\"],[0.1,\"#c51b7d\"],[0.2,\"#de77ae\"],[0.3,\"#f1b6da\"],[0.4,\"#fde0ef\"],[0.5,\"#f7f7f7\"],[0.6,\"#e6f5d0\"],[0.7,\"#b8e186\"],[0.8,\"#7fbc41\"],[0.9,\"#4d9221\"],[1,\"#276419\"]]},\"xaxis\":{\"gridcolor\":\"white\",\"linecolor\":\"white\",\"ticks\":\"\",\"title\":{\"standoff\":15},\"zerolinecolor\":\"white\",\"automargin\":true,\"zerolinewidth\":2},\"yaxis\":{\"gridcolor\":\"white\",\"linecolor\":\"white\",\"ticks\":\"\",\"title\":{\"standoff\":15},\"zerolinecolor\":\"white\",\"automargin\":true,\"zerolinewidth\":2},\"scene\":{\"xaxis\":{\"backgroundcolor\":\"#E5ECF6\",\"gridcolor\":\"white\",\"linecolor\":\"white\",\"showbackground\":true,\"ticks\":\"\",\"zerolinecolor\":\"white\",\"gridwidth\":2},\"yaxis\":{\"backgroundcolor\":\"#E5ECF6\",\"gridcolor\":\"white\",\"linecolor\":\"white\",\"showbackground\":true,\"ticks\":\"\",\"zerolinecolor\":\"white\",\"gridwidth\":2},\"zaxis\":{\"backgroundcolor\":\"#E5ECF6\",\"gridcolor\":\"white\",\"linecolor\":\"white\",\"showbackground\":true,\"ticks\":\"\",\"zerolinecolor\":\"white\",\"gridwidth\":2}},\"shapedefaults\":{\"line\":{\"color\":\"#2a3f5f\"}},\"annotationdefaults\":{\"arrowcolor\":\"#2a3f5f\",\"arrowhead\":0,\"arrowwidth\":1},\"geo\":{\"bgcolor\":\"white\",\"landcolor\":\"#E5ECF6\",\"subunitcolor\":\"white\",\"showland\":true,\"showlakes\":true,\"lakecolor\":\"white\"},\"title\":{\"x\":0.05},\"mapbox\":{\"style\":\"light\"}}},\"xaxis\":{\"anchor\":\"y\",\"domain\":[0.0,0.45]},\"yaxis\":{\"anchor\":\"x\",\"domain\":[0.0,1.0],\"title\":{\"text\":\"Total Data Usage (MB)\"}},\"xaxis2\":{\"anchor\":\"y2\",\"domain\":[0.55,1.0]},\"yaxis2\":{\"anchor\":\"x2\",\"domain\":[0.0,1.0],\"title\":{\"text\":\"Total Time\"}},\"annotations\":[{\"font\":{\"size\":16},\"showarrow\":false,\"text\":\"Total Data Usage (MB): Traditional vs AI\",\"x\":0.225,\"xanchor\":\"center\",\"xref\":\"paper\",\"y\":1.0,\"yanchor\":\"bottom\",\"yref\":\"paper\"},{\"font\":{\"size\":16},\"showarrow\":false,\"text\":\"Total Time: Traditional vs AI\",\"x\":0.775,\"xanchor\":\"center\",\"xref\":\"paper\",\"y\":1.0,\"yanchor\":\"bottom\",\"yref\":\"paper\"}],\"height\":700,\"width\":1000,\"showlegend\":false},                        {\"responsive\": true}                    ).then(function(){\n",
              "                            \n",
              "var gd = document.getElementById('55c4f2b6-cf6a-4d5a-ae45-04c2730f9425');\n",
              "var x = new MutationObserver(function (mutations, observer) {{\n",
              "        var display = window.getComputedStyle(gd).display;\n",
              "        if (!display || display === 'none') {{\n",
              "            console.log([gd, 'removed!']);\n",
              "            Plotly.purge(gd);\n",
              "            observer.disconnect();\n",
              "        }}\n",
              "}});\n",
              "\n",
              "// Listen for the removal of the full notebook cells\n",
              "var notebookContainer = gd.closest('#notebook-container');\n",
              "if (notebookContainer) {{\n",
              "    x.observe(notebookContainer, {childList: true});\n",
              "}}\n",
              "\n",
              "// Listen for the clearing of the current output cell\n",
              "var outputEl = gd.closest('.output');\n",
              "if (outputEl) {{\n",
              "    x.observe(outputEl, {childList: true});\n",
              "}}\n",
              "\n",
              "                        })                };                            </script>        </div>\n",
              "</body>\n",
              "</html>"
            ]
          },
          "metadata": {}
        }
      ]
    },
    {
      "cell_type": "markdown",
      "source": [
        "Distribution"
      ],
      "metadata": {
        "id": "41mUBYGtTI0m"
      }
    },
    {
      "cell_type": "markdown",
      "source": [
        "###PDF (Probability Density Function) graph of Test Case 2 and Test Case 3\n"
      ],
      "metadata": {
        "id": "cXmykRy0DyAi"
      }
    },
    {
      "cell_type": "markdown",
      "source": [
        "By using KDE (Kernel Density Estimation), we can estimate the Probability Density Function (PDF) to show how the data is distributed. KDE is particularly useful when we have a limited dataset because it allows us to create a smooth, continuous density curve from discrete data points, even if we don’t have enough data to see a clear pattern.\n",
        "\n"
      ],
      "metadata": {
        "id": "U_Chu4H4jP_m"
      }
    },
    {
      "cell_type": "markdown",
      "source": [
        "###**Bandwidth 0.5**\n",
        "the KDE plot shows **more fluctuations** because it’s more sensitive to individual data points"
      ],
      "metadata": {
        "id": "FxkOxoe9pd20"
      }
    },
    {
      "cell_type": "code",
      "source": [
        "import plotly.graph_objects as go\n",
        "from plotly.subplots import make_subplots\n",
        "import numpy as np\n",
        "from scipy.stats import gaussian_kde\n",
        "\n",
        "# Data and labels for each combination of test case and AI utilization\n",
        "data_groups = [\n",
        "    (test_case_2_ai_0['data_usage_total_MB'], \"Test Case 2 - AI Not Use (Data)\", \"Data Usage (MB)\", 'blue'),\n",
        "    (test_case_2_ai_0['duration_min'], \"Test Case 2 - AI Not Used\", \"Duration (minutes)\", 'green'),\n",
        "    (test_case_2_ai_1['data_usage_total_MB'], \"Test Case 2 - AI Used\", \"Data Usage (MB)\", 'orange'),\n",
        "    (test_case_2_ai_1['duration_min'], \"Test Case 2 - AI Used\", \"Duration (minutes)\", 'red'),\n",
        "    (test_case_3_ai_0['data_usage_total_MB'], \"Test Case 3 - AI Not Used\", \"Data Usage (MB)\", 'blue'),\n",
        "    (test_case_3_ai_0['duration_min'], \"Test Case 3 - AI Not Used\", \"Duration (minutes)\", 'green'),\n",
        "    (test_case_3_ai_1['data_usage_total_MB'], \"Test Case 3 - AI Used\", \"Data Usage (MB)\", 'orange'),\n",
        "    (test_case_3_ai_1['duration_min'], \"Test Case 3 - AI Used\", \"Duration (minutes)\", 'red')\n",
        "]\n",
        "\n",
        "# Function to calculate KDE\n",
        "def get_density_curve(data):\n",
        "    kde = gaussian_kde(data, bw_method=0.5)  # Optional: adjust bw_method for smoothness\n",
        "    x_values = np.linspace(max(0, min(data) - 10), max(data) + 10, 100)  # Ensure non-negative x range if needed\n",
        "    y_values = kde(x_values)\n",
        "    return x_values, y_values\n",
        "\n",
        "# Initialize separate figures for each test case\n",
        "fig_case2 = make_subplots(rows=1, cols=2, subplot_titles=[\"Test Case 2 - Data Usage\", \"Test Case 2 - Duration\"])\n",
        "fig_case3 = make_subplots(rows=1, cols=2, subplot_titles=[\"Test Case 3 - Data Usage\", \"Test Case 3 - Duration\"])\n",
        "\n",
        "# Add each KDE and mean line to the appropriate subplot\n",
        "for i, (data, title, x_label, color) in enumerate(data_groups):\n",
        "    x_values, y_values = get_density_curve(data)\n",
        "\n",
        "    # Determine target figure and column based on test case and data type\n",
        "    if \"Test Case 2\" in title:\n",
        "        target_fig = fig_case2\n",
        "        col = 1 if \"Data Usage\" in x_label else 2\n",
        "    else:\n",
        "        target_fig = fig_case3\n",
        "        col = 1 if \"Data Usage\" in x_label else 2\n",
        "\n",
        "    # Add KDE trace\n",
        "    target_fig.add_trace(\n",
        "        go.Scatter(\n",
        "            x=x_values,\n",
        "            y=y_values,\n",
        "            mode=\"lines\",\n",
        "            line=dict(color=color, width=2),\n",
        "            name=title\n",
        "        ),\n",
        "        row=1, col=col\n",
        "    )\n",
        "\n",
        "    # Calculate mean and add a vertical line to indicate it\n",
        "    mean_value = np.mean(data)\n",
        "    target_fig.add_trace(\n",
        "        go.Scatter(\n",
        "            x=[mean_value, mean_value],\n",
        "            y=[0, max(y_values)],\n",
        "            mode=\"lines\",\n",
        "            line=dict(color=color, dash=\"dash\"),\n",
        "            name=f\"Mean - {title}\",\n",
        "        ),\n",
        "        row=1, col=col\n",
        "    )\n",
        "\n",
        "# Update layout for both figures with static titles\n",
        "fig_case2.update_layout(\n",
        "    title_text=\"Probability Density Function of Test Case 2 by AI Utilization with Means (bandwidth = 0.5)\",\n",
        "    width=1200,\n",
        "    height=500\n",
        ")\n",
        "fig_case3.update_layout(\n",
        "    title_text=\"Probability Density Function of Test Case 3 by AI Utilization with Means (bandwidth = 0.5)\",\n",
        "    width=1200,\n",
        "    height=500\n",
        ")\n",
        "\n",
        "# Update axis labels\n",
        "for fig in [fig_case2, fig_case3]:\n",
        "    fig.update_yaxes(title_text=\"Density\")\n",
        "    fig.update_xaxes(title_text=\"Data Usage (MB)\", row=1, col=1)\n",
        "    fig.update_xaxes(title_text=\"Duration (minutes)\", row=1, col=2)\n",
        "\n",
        "# Display both figures\n",
        "fig_case2.show()\n",
        "fig_case3.show()\n"
      ],
      "metadata": {
        "colab": {
          "base_uri": "https://localhost:8080/"
        },
        "id": "TQN-Myek9f3T",
        "outputId": "2a95a993-8914-41b6-9876-acca5d30d79d"
      },
      "execution_count": null,
      "outputs": [
        {
          "output_type": "display_data",
          "data": {
            "text/html": [
              "<html>\n",
              "<head><meta charset=\"utf-8\" /></head>\n",
              "<body>\n",
              "    <div>            <script src=\"https://cdnjs.cloudflare.com/ajax/libs/mathjax/2.7.5/MathJax.js?config=TeX-AMS-MML_SVG\"></script><script type=\"text/javascript\">if (window.MathJax && window.MathJax.Hub && window.MathJax.Hub.Config) {window.MathJax.Hub.Config({SVG: {font: \"STIX-Web\"}});}</script>                <script type=\"text/javascript\">window.PlotlyConfig = {MathJaxConfig: 'local'};</script>\n",
              "        <script charset=\"utf-8\" src=\"https://cdn.plot.ly/plotly-2.35.2.min.js\"></script>                <div id=\"859a30bf-0292-411e-8bd6-88bc8feae6fd\" class=\"plotly-graph-div\" style=\"height:500px; width:1200px;\"></div>            <script type=\"text/javascript\">                                    window.PLOTLYENV=window.PLOTLYENV || {};                                    if (document.getElementById(\"859a30bf-0292-411e-8bd6-88bc8feae6fd\")) {                    Plotly.newPlot(                        \"859a30bf-0292-411e-8bd6-88bc8feae6fd\",                        [{\"line\":{\"color\":\"blue\",\"width\":2},\"mode\":\"lines\",\"name\":\"Test Case 2 - AI Not Use (Data)\",\"x\":[21.458984375,27.967635337752526,34.47628630050505,40.98493726325758,47.493588226010104,54.00223918876262,60.51089015151515,67.01954111426767,73.52819207702021,80.03684303977272,86.54549400252525,93.05414496527777,99.5627959280303,106.07144689078282,112.58009785353535,119.08874881628788,125.5973997790404,132.10605074179293,138.61470170454544,145.12335266729798,151.6320036300505,158.14065459280303,164.64930555555554,171.15795651830808,177.6666074810606,184.17525844381314,190.68390940656565,197.1925603693182,203.7012113320707,210.20986229482324,216.71851325757575,223.2271642203283,229.7358151830808,236.24446614583331,242.75311710858585,249.26176807133837,255.7704190340909,262.2790699968434,268.78772095959596,275.2963719223485,281.805022885101,288.3136738478535,294.82232481060606,301.3309757733586,307.8396267361111,314.3482776988636,320.85692866161617,327.3655796243687,333.8742305871212,340.38288154987373,346.89153251262627,353.40018347537875,359.9088344381313,366.41748540088383,372.9261363636364,379.43478732638886,385.9434382891414,392.45208925189394,398.9607402146465,405.46939117739896,411.9780421401515,418.48669310290404,424.9953440656566,431.50399502840907,438.0126459911616,444.52129695391415,451.02994791666663,457.53859887941917,464.0472498421717,470.55590080492425,477.06455176767673,483.5732027304293,490.0818536931818,496.59050465593435,503.09915561868684,509.6078065814394,516.1164575441919,522.6251085069445,529.133759469697,535.6424104324495,542.151061395202,548.6597123579545,555.168363320707,561.6770142834596,568.1856652462121,574.6943162089647,581.2029671717172,587.7116181344696,594.2202690972222,600.7289200599747,607.2375710227273,613.7462219854798,620.2548729482323,626.7635239109849,633.2721748737374,639.7808258364898,646.2894767992424,652.7981277619949,659.3067787247475,665.8154296875],\"y\":[0.000658563768962884,0.0006688242958489311,0.0006779542339980505,0.0006860510151765616,0.0006932382092547354,0.0006996641387675849,0.0007054999211527705,0.0007109369609577207,0.0007161839281788729,0.0007214632722268616,0.0007270073334352708,0.0007330541252009433,0.0007398428694455962,0.0007476093758459093,0.0007565813609637039,0.000766973806843758,0.0007789844597160309,0.0007927895680839832,0.0008085399557053601,0.0008263575188421578,0.0008463322287986112,0.0008685197103633652,0.00089293945456125,0.0009195737103858516,0.0009483670852524434,0.000979226868141908,0.0010120240731857156,0.0010465951851718813,0.0010827445725405647,0.0011202475182900923,0.001158853805219269,0.001198291779454019,0.0012382728055733818,0.001278496018143332,0.0013186532683129855,0.0013584341604895782,0.0013975310730800323,0.0014356440588882723,0.0014724855249339053,0.0015077845980797694,0.0015412910917221006,0.0015727789996407475,0.0016020494556035498,0.0016289331110970898,0.0016532918982091163,0.001675020159788449,0.0016940451441219571,0.0017103268760692999,0.0017238574304813108,0.0017346596464301246,0.001742785331979558,0.0017483130186620832,0.001751345332308863,0.0017520060522770347,0.0017504369343813882,0.0017467943739848733,0.0017412459848207195,0.0017339671663568182,0.001725137728071832,0.001714938633137091,0.0017035489169652915,0.0016911428281930444,0.0016778872312139255,0.0016639393006726818,0.0016494445296556877,0.0016345350649292654,0.0016193283747152351,0.001603926247342247,0.0015884141128189022,0.0015728606740413814,0.001557317830028948,0.0015418208702849333,0.001526388917076473,0.0015110255910438142,0.0014957198749886134,0.0014804471508247246,0.0014651703853621083,0.001449841441682823,0.0014344024942047535,0.0014187875269671072,0.0014029238960787155,0.0013867339385323222,0.0013701366106166535,0.0013530491398929631,0.001335388675114535,0.0013170739185584695,0.0012980267250415226,0.0012781736514665164,0.0012574474401773632,0.001235788418792225,0.0012131457986510065,0.0011894788536755978,0.0011647579614168055,0.0011389654884584456,0.0011120965032572392,0.0010841593009840718,0.0010551757270364215,0.0010251812886197898,0.0009942250471199504,0.000962369287846037],\"type\":\"scatter\",\"xaxis\":\"x\",\"yaxis\":\"y\"},{\"line\":{\"color\":\"blue\",\"dash\":\"dash\"},\"mode\":\"lines\",\"name\":\"Mean - Test Case 2 - AI Not Use (Data)\",\"x\":[374.26544857025146,374.26544857025146],\"y\":[0,0.0017520060522770347],\"type\":\"scatter\",\"xaxis\":\"x\",\"yaxis\":\"y\"},{\"line\":{\"color\":\"green\",\"width\":2},\"mode\":\"lines\",\"name\":\"Test Case 2 - AI Not Used\",\"x\":[47.3,48.01919191919192,48.73838383838383,49.45757575757575,50.176767676767675,50.895959595959596,51.61515151515151,52.33434343434343,53.05353535353535,53.77272727272727,54.49191919191919,55.21111111111111,55.93030303030303,56.64949494949495,57.368686868686865,58.087878787878786,58.80707070707071,59.52626262626262,60.24545454545454,60.964646464646464,61.683838383838385,62.403030303030306,63.12222222222222,63.84141414141414,64.56060606060606,65.27979797979798,65.99898989898989,66.71818181818182,67.43737373737373,68.15656565656566,68.87575757575758,69.5949494949495,70.31414141414142,71.03333333333333,71.75252525252526,72.47171717171717,73.19090909090909,73.91010101010102,74.62929292929293,75.34848484848484,76.06767676767677,76.78686868686869,77.5060606060606,78.22525252525253,78.94444444444444,79.66363636363636,80.38282828282829,81.10202020202021,81.82121212121211,82.54040404040404,83.25959595959597,83.97878787878787,84.6979797979798,85.41717171717173,86.13636363636364,86.85555555555555,87.57474747474748,88.2939393939394,89.01313131313131,89.73232323232324,90.45151515151515,91.17070707070707,91.889898989899,92.60909090909091,93.32828282828282,94.04747474747475,94.76666666666667,95.48585858585858,96.20505050505051,96.92424242424244,97.64343434343434,98.36262626262626,99.08181818181819,99.8010101010101,100.52020202020202,101.23939393939395,101.95858585858586,102.67777777777778,103.3969696969697,104.11616161616162,104.83535353535353,105.55454545454546,106.27373737373738,106.99292929292929,107.71212121212122,108.43131313131313,109.15050505050505,109.86969696969697,110.5888888888889,111.30808080808082,112.02727272727273,112.74646464646464,113.46565656565657,114.18484848484849,114.90404040404042,115.62323232323233,116.34242424242424,117.06161616161617,117.78080808080809,118.5],\"y\":[0.003880021579668613,0.00430287615759009,0.004736825096135187,0.005176647537742934,0.00561666543229396,0.006050926392430074,0.006473421466385968,0.00687833115258928,0.0072602907344326666,0.007614664074455327,0.007937813521118785,0.008227352672428169,0.008482368499999768,0.008703599815217702,0.00889356026089548,0.009056595896176035,0.009198869924811056,0.00932827007615459,0.009454237435191833,0.009587518966921523,0.009739849420365137,0.009923571563045974,0.010151206637801204,0.010434989422485918,0.010786384208694957,0.011215599326147987,0.011731118481407943,0.012339267135991268,0.013043831425673481,0.013845745745615302,0.01474286313729849,0.01572982007029001,0.016798004185311757,0.017935630139354522,0.01912792496717618,0.020357420459787525,0.021604346087538362,0.02284711210476202,0.024062868816713837,0.02522812472530006,0.02631940355382801,0.027313918128420708,0.028190237890467186,0.028928926526083462,0.02951312688126169,0.029929071994553694,0.030166503680442554,0.030218983540548677,0.030084085420320674,0.02976346297538218,0.029262790939537986,0.02859158364990437,0.027762899132494835,0.026792941343565614,0.02570057678491941,0.0245067844936817,0.023234060230664547,0.021905796499295794,0.020545659826383518,0.019176985596112084,0.01782220877439768,0.01650234626096882,0.015236543559664728,0.01404169517458362,0.012932144827446961,0.011919468435650657,0.01101233994225177,0.010216477655593574,0.009534666795020985,0.008966852458490507,0.008510296191915703,0.008159788678098337,0.007907910682195046,0.007745334190153713,0.007661155562266028,0.007643252421052965,0.007678655855188647,0.007753929337501327,0.007855545548704112,0.007970252123683436,0.008085417270614969,0.008189346342417895,0.00827156085014598,0.008323032168032908,0.008336363331624732,0.008305913879006317,0.00822786459501229,0.008100221213396404,0.007922758500563003,0.007696908548678821,0.007425599393911188,0.007113052095559405,0.006764546026923087,0.006386163229362306,0.005984523195290423,0.005566519345949029,0.0051390677738709645,0.00470887758958782,0.004282250546082378,0.0038649156388539173],\"type\":\"scatter\",\"xaxis\":\"x2\",\"yaxis\":\"y2\"},{\"line\":{\"color\":\"green\",\"dash\":\"dash\"},\"mode\":\"lines\",\"name\":\"Mean - Test Case 2 - AI Not Used\",\"x\":[81.64722222222223,81.64722222222223],\"y\":[0,0.030218983540548677],\"type\":\"scatter\",\"xaxis\":\"x2\",\"yaxis\":\"y2\"},{\"line\":{\"color\":\"orange\",\"width\":2},\"mode\":\"lines\",\"name\":\"Test Case 2 - AI Used\",\"x\":[0.0,1.2513316761363635,2.502663352272727,3.753995028409091,5.005326704545454,6.2566583806818175,7.507990056818182,8.759321732954545,10.010653409090908,11.261985085227272,12.513316761363635,13.764648437499998,15.015980113636363,16.267311789772727,17.51864346590909,18.769975142045453,20.021306818181817,21.27263849431818,22.523970170454543,23.775301846590907,25.02663352272727,26.277965198863633,27.529296874999996,28.78062855113636,30.031960227272727,31.28329190340909,32.53462357954545,33.78595525568181,35.03728693181818,36.28861860795454,37.53995028409091,38.791281960227266,40.04261363636363,41.2939453125,42.54527698863636,43.79660866477273,45.047940340909086,46.29927201704545,47.55060369318181,48.80193536931818,50.05326704545454,51.30459872159091,52.555930397727266,53.80726207386363,55.05859374999999,56.30992542613636,57.56125710227272,58.812588778409086,60.06392045454545,61.31525213068181,62.56658380681818,63.81791548295454,65.0692471590909,66.32057883522727,67.57191051136363,68.8232421875,70.07457386363636,71.32590553977272,72.57723721590908,73.82856889204545,75.07990056818181,76.33123224431817,77.58256392045453,78.8338955965909,80.08522727272727,81.33655894886363,82.587890625,83.83922230113636,85.09055397727272,86.34188565340908,87.59321732954545,88.84454900568181,90.09588068181817,91.34721235795453,92.5985440340909,93.84987571022727,95.10120738636363,96.35253906249999,97.60387073863636,98.85520241477272,100.10653409090908,101.35786576704545,102.60919744318181,103.86052911931817,105.11186079545453,106.3631924715909,107.61452414772727,108.86585582386363,110.11718749999999,111.36851917613636,112.61985085227272,113.87118252840908,115.12251420454544,116.37384588068181,117.62517755681817,118.87650923295453,120.1278409090909,121.37917258522727,122.63050426136363,123.8818359375],\"y\":[0.009796406108296423,0.009902960151106487,0.009988134559379257,0.010051375421534031,0.010092276191134624,0.0101105826181315,0.010106196024720859,0.0100791748784921,0.010029734642299842,0.009958245907417847,0.009865230843451298,0.009751358024647227,0.009617435717115031,0.00946440373454671,0.009293323990850304,0.009105369896275951,0.00890181475878376,0.008684019364309384,0.0084534189180403,0.008211509533717116,0.007959834459298517,0.007699970225136193,0.0074335128952372626,0.007162064593461223,0.006887220464887702,0.0066105562184409095,0.00633361638055577,0.006057903371646271,0.00578486749784111,0.0055158979303526244,0.005252314724410811,0.00499536190938432,0.004746201661963297,0.004505909555502444,0.004275470861184727,0.004055777860887585,0.003847628117781456,0.0036517236389744844,0.0034686708550862597,0.0032989813345743026,0.0031430731459755725,0.0030012727789277796,0.0028738175348123154,0.002760858299971156,0.0026624626185078456,0.002578617987462088,0.0025092353043915184,0.002454152405821537,0.0024131376443374914,0.002385893461987534,0.0023720599278334448,0.002371218217632119,0.002382894023468008,0.0024065608904226816,0.002441643485824487,0.00248752081406203,0.0025435293961982674,0.0026089664385529274,0.0026830930179351595,0.002765137313251575,0.0028542979137734185,0.002949747233446323,0.0030506350583303743,0.0031560922506655813,0.0032652346282984685,0.0033771670324373327,0.0034909875901077978,0.00360579217045619,0.0037206790264083973,0.003834753605356544,0.003947133504737545,0.004056953540805763,0.004163370891797655,0.004265570270237129,0.004362769073516522,0.004454222457267408,0.00453922827254091,0.004617131805552933,0.004687330257790173,0.004749276904659884,0.004802484872610197,0.00484653047772547,0.004881056073158908,0.004905772358318301,0.004920460109358742,0.004924971298122237,0.004919229575040908,0.004903230100512976,0.004877038718681399,0.004840790477197576,0.0047946875062371,0.004738996279552068,0.004674044289501654,0.004600216176616059,0.004517949362149363,0.004427729239112504,0.004330083983318302,0.004225579050908765,0.004114811432589716,0.003998403737314282],\"type\":\"scatter\",\"xaxis\":\"x\",\"yaxis\":\"y\"},{\"line\":{\"color\":\"orange\",\"dash\":\"dash\"},\"mode\":\"lines\",\"name\":\"Mean - Test Case 2 - AI Used\",\"x\":[39.88949998219808,39.88949998219808],\"y\":[0,0.0101105826181315],\"type\":\"scatter\",\"xaxis\":\"x\",\"yaxis\":\"y\"},{\"line\":{\"color\":\"red\",\"width\":2},\"mode\":\"lines\",\"name\":\"Test Case 2 - AI Used\",\"x\":[0.0,0.45202020202020204,0.9040404040404041,1.3560606060606062,1.8080808080808082,2.2601010101010104,2.7121212121212124,3.1641414141414144,3.6161616161616164,4.068181818181818,4.520202020202021,4.972222222222222,5.424242424242425,5.876262626262626,6.328282828282829,6.78030303030303,7.232323232323233,7.684343434343435,8.136363636363637,8.58838383838384,9.040404040404042,9.492424242424242,9.944444444444445,10.396464646464647,10.84848484848485,11.300505050505052,11.752525252525253,12.204545454545455,12.656565656565657,13.10858585858586,13.56060606060606,14.012626262626263,14.464646464646465,14.916666666666668,15.36868686868687,15.820707070707071,16.272727272727273,16.724747474747474,17.17676767676768,17.62878787878788,18.080808080808083,18.532828282828284,18.984848484848484,19.43686868686869,19.88888888888889,20.340909090909093,20.792929292929294,21.244949494949495,21.6969696969697,22.1489898989899,22.601010101010104,23.053030303030305,23.505050505050505,23.95707070707071,24.40909090909091,24.86111111111111,25.313131313131315,25.765151515151516,26.21717171717172,26.66919191919192,27.12121212121212,27.573232323232325,28.025252525252526,28.47727272727273,28.92929292929293,29.38131313131313,29.833333333333336,30.285353535353536,30.73737373737374,31.18939393939394,31.641414141414142,32.093434343434346,32.54545454545455,32.99747474747475,33.44949494949495,33.901515151515156,34.35353535353536,34.80555555555556,35.25757575757576,35.70959595959596,36.161616161616166,36.61363636363637,37.06565656565657,37.51767676767677,37.96969696969697,38.42171717171718,38.87373737373738,39.32575757575758,39.77777777777778,40.22979797979798,40.68181818181819,41.13383838383839,41.58585858585859,42.03787878787879,42.48989898989899,42.9419191919192,43.3939393939394,43.8459595959596,44.2979797979798,44.75],\"y\":[0.005044078151811605,0.005856742837147891,0.006748249454630157,0.0077176057250987,0.008762679581038525,0.009880329077243193,0.011066598767650263,0.012316970669377958,0.013626651188030098,0.014990869557374675,0.01640515920753739,0.017865591691436686,0.019368933865783804,0.020912703178368575,0.022495103076646036,0.024114830297648993,0.02577075736875137,0.027461506011968898,0.02918493909404861,0.03093760904433096,0.03271420811030154,0.034507069510338675,0.03630576790357784,0.03809686249529122,0.03986381686982324,0.04158711707394084,0.04324459470816909,0.04481194620749072,0.0462634245729775,0.047572666935515526,0.048713611636052395,0.04966145277667453,0.05039357877977597,0.05089044427944941,0.05113633113270488,0.05111996361943714,0.05083495393095244,0.05028006568843528,0.04945929441157712,0.04838177368100649,0.04706152357466879,0.04551706347565211,0.043770914508725084,0.041849017877294996,0.03978009463422516,0.03759497041831557,0.035325885926547805,0.03300581081832228,0.03066777570724596,0.028344234110620772,0.02606646380004009,0.02386401493808171,0.02176421064886877,0.019791704189961238,0.017968095621544382,0.016311609794775864,0.014836836633800941,0.01355453412346944,0.012471494199607747,0.011590471906813775,0.01091017872035333,0.010425341727543197,0.010126831250995347,0.010001860220978126,0.010034258874272816,0.01020482788018643,0.01049177152992679,0.01087121003378423,0.011317766254254229,0.01180521753154491,0.012307197968030842,0.012797931112142433,0.013252968000100661,0.013649901589147282,0.013969026319619104,0.014193911328665173,0.014311857975589686,0.014314216868535526,0.014196546296880901,0.013958602428005598,0.013604161178171578,0.013140681539707233,0.012578829514020727,0.01193188987279162,0.011215099079173119,0.010444936367450114,0.009638410958961655,0.00881238169312399,0.007982941226617449,0.00716489085854047,0.006371324580471489,0.005613332812808081,0.0048998281634558384,0.0042374880614086145,0.0036308027890462843,0.0030822126224101768,0.0025923146766941786,0.002160118664665406,0.0017833309797745266,0.0014586480677521994],\"type\":\"scatter\",\"xaxis\":\"x2\",\"yaxis\":\"y2\"},{\"line\":{\"color\":\"red\",\"dash\":\"dash\"},\"mode\":\"lines\",\"name\":\"Mean - Test Case 2 - AI Used\",\"x\":[17.905555555555555,17.905555555555555],\"y\":[0,0.05113633113270488],\"type\":\"scatter\",\"xaxis\":\"x2\",\"yaxis\":\"y2\"}],                        {\"template\":{\"data\":{\"histogram2dcontour\":[{\"type\":\"histogram2dcontour\",\"colorbar\":{\"outlinewidth\":0,\"ticks\":\"\"},\"colorscale\":[[0.0,\"#0d0887\"],[0.1111111111111111,\"#46039f\"],[0.2222222222222222,\"#7201a8\"],[0.3333333333333333,\"#9c179e\"],[0.4444444444444444,\"#bd3786\"],[0.5555555555555556,\"#d8576b\"],[0.6666666666666666,\"#ed7953\"],[0.7777777777777778,\"#fb9f3a\"],[0.8888888888888888,\"#fdca26\"],[1.0,\"#f0f921\"]]}],\"choropleth\":[{\"type\":\"choropleth\",\"colorbar\":{\"outlinewidth\":0,\"ticks\":\"\"}}],\"histogram2d\":[{\"type\":\"histogram2d\",\"colorbar\":{\"outlinewidth\":0,\"ticks\":\"\"},\"colorscale\":[[0.0,\"#0d0887\"],[0.1111111111111111,\"#46039f\"],[0.2222222222222222,\"#7201a8\"],[0.3333333333333333,\"#9c179e\"],[0.4444444444444444,\"#bd3786\"],[0.5555555555555556,\"#d8576b\"],[0.6666666666666666,\"#ed7953\"],[0.7777777777777778,\"#fb9f3a\"],[0.8888888888888888,\"#fdca26\"],[1.0,\"#f0f921\"]]}],\"heatmap\":[{\"type\":\"heatmap\",\"colorbar\":{\"outlinewidth\":0,\"ticks\":\"\"},\"colorscale\":[[0.0,\"#0d0887\"],[0.1111111111111111,\"#46039f\"],[0.2222222222222222,\"#7201a8\"],[0.3333333333333333,\"#9c179e\"],[0.4444444444444444,\"#bd3786\"],[0.5555555555555556,\"#d8576b\"],[0.6666666666666666,\"#ed7953\"],[0.7777777777777778,\"#fb9f3a\"],[0.8888888888888888,\"#fdca26\"],[1.0,\"#f0f921\"]]}],\"heatmapgl\":[{\"type\":\"heatmapgl\",\"colorbar\":{\"outlinewidth\":0,\"ticks\":\"\"},\"colorscale\":[[0.0,\"#0d0887\"],[0.1111111111111111,\"#46039f\"],[0.2222222222222222,\"#7201a8\"],[0.3333333333333333,\"#9c179e\"],[0.4444444444444444,\"#bd3786\"],[0.5555555555555556,\"#d8576b\"],[0.6666666666666666,\"#ed7953\"],[0.7777777777777778,\"#fb9f3a\"],[0.8888888888888888,\"#fdca26\"],[1.0,\"#f0f921\"]]}],\"contourcarpet\":[{\"type\":\"contourcarpet\",\"colorbar\":{\"outlinewidth\":0,\"ticks\":\"\"}}],\"contour\":[{\"type\":\"contour\",\"colorbar\":{\"outlinewidth\":0,\"ticks\":\"\"},\"colorscale\":[[0.0,\"#0d0887\"],[0.1111111111111111,\"#46039f\"],[0.2222222222222222,\"#7201a8\"],[0.3333333333333333,\"#9c179e\"],[0.4444444444444444,\"#bd3786\"],[0.5555555555555556,\"#d8576b\"],[0.6666666666666666,\"#ed7953\"],[0.7777777777777778,\"#fb9f3a\"],[0.8888888888888888,\"#fdca26\"],[1.0,\"#f0f921\"]]}],\"surface\":[{\"type\":\"surface\",\"colorbar\":{\"outlinewidth\":0,\"ticks\":\"\"},\"colorscale\":[[0.0,\"#0d0887\"],[0.1111111111111111,\"#46039f\"],[0.2222222222222222,\"#7201a8\"],[0.3333333333333333,\"#9c179e\"],[0.4444444444444444,\"#bd3786\"],[0.5555555555555556,\"#d8576b\"],[0.6666666666666666,\"#ed7953\"],[0.7777777777777778,\"#fb9f3a\"],[0.8888888888888888,\"#fdca26\"],[1.0,\"#f0f921\"]]}],\"mesh3d\":[{\"type\":\"mesh3d\",\"colorbar\":{\"outlinewidth\":0,\"ticks\":\"\"}}],\"scatter\":[{\"fillpattern\":{\"fillmode\":\"overlay\",\"size\":10,\"solidity\":0.2},\"type\":\"scatter\"}],\"parcoords\":[{\"type\":\"parcoords\",\"line\":{\"colorbar\":{\"outlinewidth\":0,\"ticks\":\"\"}}}],\"scatterpolargl\":[{\"type\":\"scatterpolargl\",\"marker\":{\"colorbar\":{\"outlinewidth\":0,\"ticks\":\"\"}}}],\"bar\":[{\"error_x\":{\"color\":\"#2a3f5f\"},\"error_y\":{\"color\":\"#2a3f5f\"},\"marker\":{\"line\":{\"color\":\"#E5ECF6\",\"width\":0.5},\"pattern\":{\"fillmode\":\"overlay\",\"size\":10,\"solidity\":0.2}},\"type\":\"bar\"}],\"scattergeo\":[{\"type\":\"scattergeo\",\"marker\":{\"colorbar\":{\"outlinewidth\":0,\"ticks\":\"\"}}}],\"scatterpolar\":[{\"type\":\"scatterpolar\",\"marker\":{\"colorbar\":{\"outlinewidth\":0,\"ticks\":\"\"}}}],\"histogram\":[{\"marker\":{\"pattern\":{\"fillmode\":\"overlay\",\"size\":10,\"solidity\":0.2}},\"type\":\"histogram\"}],\"scattergl\":[{\"type\":\"scattergl\",\"marker\":{\"colorbar\":{\"outlinewidth\":0,\"ticks\":\"\"}}}],\"scatter3d\":[{\"type\":\"scatter3d\",\"line\":{\"colorbar\":{\"outlinewidth\":0,\"ticks\":\"\"}},\"marker\":{\"colorbar\":{\"outlinewidth\":0,\"ticks\":\"\"}}}],\"scattermapbox\":[{\"type\":\"scattermapbox\",\"marker\":{\"colorbar\":{\"outlinewidth\":0,\"ticks\":\"\"}}}],\"scatterternary\":[{\"type\":\"scatterternary\",\"marker\":{\"colorbar\":{\"outlinewidth\":0,\"ticks\":\"\"}}}],\"scattercarpet\":[{\"type\":\"scattercarpet\",\"marker\":{\"colorbar\":{\"outlinewidth\":0,\"ticks\":\"\"}}}],\"carpet\":[{\"aaxis\":{\"endlinecolor\":\"#2a3f5f\",\"gridcolor\":\"white\",\"linecolor\":\"white\",\"minorgridcolor\":\"white\",\"startlinecolor\":\"#2a3f5f\"},\"baxis\":{\"endlinecolor\":\"#2a3f5f\",\"gridcolor\":\"white\",\"linecolor\":\"white\",\"minorgridcolor\":\"white\",\"startlinecolor\":\"#2a3f5f\"},\"type\":\"carpet\"}],\"table\":[{\"cells\":{\"fill\":{\"color\":\"#EBF0F8\"},\"line\":{\"color\":\"white\"}},\"header\":{\"fill\":{\"color\":\"#C8D4E3\"},\"line\":{\"color\":\"white\"}},\"type\":\"table\"}],\"barpolar\":[{\"marker\":{\"line\":{\"color\":\"#E5ECF6\",\"width\":0.5},\"pattern\":{\"fillmode\":\"overlay\",\"size\":10,\"solidity\":0.2}},\"type\":\"barpolar\"}],\"pie\":[{\"automargin\":true,\"type\":\"pie\"}]},\"layout\":{\"autotypenumbers\":\"strict\",\"colorway\":[\"#636efa\",\"#EF553B\",\"#00cc96\",\"#ab63fa\",\"#FFA15A\",\"#19d3f3\",\"#FF6692\",\"#B6E880\",\"#FF97FF\",\"#FECB52\"],\"font\":{\"color\":\"#2a3f5f\"},\"hovermode\":\"closest\",\"hoverlabel\":{\"align\":\"left\"},\"paper_bgcolor\":\"white\",\"plot_bgcolor\":\"#E5ECF6\",\"polar\":{\"bgcolor\":\"#E5ECF6\",\"angularaxis\":{\"gridcolor\":\"white\",\"linecolor\":\"white\",\"ticks\":\"\"},\"radialaxis\":{\"gridcolor\":\"white\",\"linecolor\":\"white\",\"ticks\":\"\"}},\"ternary\":{\"bgcolor\":\"#E5ECF6\",\"aaxis\":{\"gridcolor\":\"white\",\"linecolor\":\"white\",\"ticks\":\"\"},\"baxis\":{\"gridcolor\":\"white\",\"linecolor\":\"white\",\"ticks\":\"\"},\"caxis\":{\"gridcolor\":\"white\",\"linecolor\":\"white\",\"ticks\":\"\"}},\"coloraxis\":{\"colorbar\":{\"outlinewidth\":0,\"ticks\":\"\"}},\"colorscale\":{\"sequential\":[[0.0,\"#0d0887\"],[0.1111111111111111,\"#46039f\"],[0.2222222222222222,\"#7201a8\"],[0.3333333333333333,\"#9c179e\"],[0.4444444444444444,\"#bd3786\"],[0.5555555555555556,\"#d8576b\"],[0.6666666666666666,\"#ed7953\"],[0.7777777777777778,\"#fb9f3a\"],[0.8888888888888888,\"#fdca26\"],[1.0,\"#f0f921\"]],\"sequentialminus\":[[0.0,\"#0d0887\"],[0.1111111111111111,\"#46039f\"],[0.2222222222222222,\"#7201a8\"],[0.3333333333333333,\"#9c179e\"],[0.4444444444444444,\"#bd3786\"],[0.5555555555555556,\"#d8576b\"],[0.6666666666666666,\"#ed7953\"],[0.7777777777777778,\"#fb9f3a\"],[0.8888888888888888,\"#fdca26\"],[1.0,\"#f0f921\"]],\"diverging\":[[0,\"#8e0152\"],[0.1,\"#c51b7d\"],[0.2,\"#de77ae\"],[0.3,\"#f1b6da\"],[0.4,\"#fde0ef\"],[0.5,\"#f7f7f7\"],[0.6,\"#e6f5d0\"],[0.7,\"#b8e186\"],[0.8,\"#7fbc41\"],[0.9,\"#4d9221\"],[1,\"#276419\"]]},\"xaxis\":{\"gridcolor\":\"white\",\"linecolor\":\"white\",\"ticks\":\"\",\"title\":{\"standoff\":15},\"zerolinecolor\":\"white\",\"automargin\":true,\"zerolinewidth\":2},\"yaxis\":{\"gridcolor\":\"white\",\"linecolor\":\"white\",\"ticks\":\"\",\"title\":{\"standoff\":15},\"zerolinecolor\":\"white\",\"automargin\":true,\"zerolinewidth\":2},\"scene\":{\"xaxis\":{\"backgroundcolor\":\"#E5ECF6\",\"gridcolor\":\"white\",\"linecolor\":\"white\",\"showbackground\":true,\"ticks\":\"\",\"zerolinecolor\":\"white\",\"gridwidth\":2},\"yaxis\":{\"backgroundcolor\":\"#E5ECF6\",\"gridcolor\":\"white\",\"linecolor\":\"white\",\"showbackground\":true,\"ticks\":\"\",\"zerolinecolor\":\"white\",\"gridwidth\":2},\"zaxis\":{\"backgroundcolor\":\"#E5ECF6\",\"gridcolor\":\"white\",\"linecolor\":\"white\",\"showbackground\":true,\"ticks\":\"\",\"zerolinecolor\":\"white\",\"gridwidth\":2}},\"shapedefaults\":{\"line\":{\"color\":\"#2a3f5f\"}},\"annotationdefaults\":{\"arrowcolor\":\"#2a3f5f\",\"arrowhead\":0,\"arrowwidth\":1},\"geo\":{\"bgcolor\":\"white\",\"landcolor\":\"#E5ECF6\",\"subunitcolor\":\"white\",\"showland\":true,\"showlakes\":true,\"lakecolor\":\"white\"},\"title\":{\"x\":0.05},\"mapbox\":{\"style\":\"light\"}}},\"xaxis\":{\"anchor\":\"y\",\"domain\":[0.0,0.45],\"title\":{\"text\":\"Data Usage (MB)\"}},\"yaxis\":{\"anchor\":\"x\",\"domain\":[0.0,1.0],\"title\":{\"text\":\"Density\"}},\"xaxis2\":{\"anchor\":\"y2\",\"domain\":[0.55,1.0],\"title\":{\"text\":\"Duration (minutes)\"}},\"yaxis2\":{\"anchor\":\"x2\",\"domain\":[0.0,1.0],\"title\":{\"text\":\"Density\"}},\"annotations\":[{\"font\":{\"size\":16},\"showarrow\":false,\"text\":\"Test Case 2 - Data Usage\",\"x\":0.225,\"xanchor\":\"center\",\"xref\":\"paper\",\"y\":1.0,\"yanchor\":\"bottom\",\"yref\":\"paper\"},{\"font\":{\"size\":16},\"showarrow\":false,\"text\":\"Test Case 2 - Duration\",\"x\":0.775,\"xanchor\":\"center\",\"xref\":\"paper\",\"y\":1.0,\"yanchor\":\"bottom\",\"yref\":\"paper\"}],\"title\":{\"text\":\"Probability Density Function of Test Case 2 by AI Utilization with Means (bandwidth = 0.5)\"},\"width\":1200,\"height\":500},                        {\"responsive\": true}                    ).then(function(){\n",
              "                            \n",
              "var gd = document.getElementById('859a30bf-0292-411e-8bd6-88bc8feae6fd');\n",
              "var x = new MutationObserver(function (mutations, observer) {{\n",
              "        var display = window.getComputedStyle(gd).display;\n",
              "        if (!display || display === 'none') {{\n",
              "            console.log([gd, 'removed!']);\n",
              "            Plotly.purge(gd);\n",
              "            observer.disconnect();\n",
              "        }}\n",
              "}});\n",
              "\n",
              "// Listen for the removal of the full notebook cells\n",
              "var notebookContainer = gd.closest('#notebook-container');\n",
              "if (notebookContainer) {{\n",
              "    x.observe(notebookContainer, {childList: true});\n",
              "}}\n",
              "\n",
              "// Listen for the clearing of the current output cell\n",
              "var outputEl = gd.closest('.output');\n",
              "if (outputEl) {{\n",
              "    x.observe(outputEl, {childList: true});\n",
              "}}\n",
              "\n",
              "                        })                };                            </script>        </div>\n",
              "</body>\n",
              "</html>"
            ]
          },
          "metadata": {}
        },
        {
          "output_type": "display_data",
          "data": {
            "text/html": [
              "<html>\n",
              "<head><meta charset=\"utf-8\" /></head>\n",
              "<body>\n",
              "    <div>            <script src=\"https://cdnjs.cloudflare.com/ajax/libs/mathjax/2.7.5/MathJax.js?config=TeX-AMS-MML_SVG\"></script><script type=\"text/javascript\">if (window.MathJax && window.MathJax.Hub && window.MathJax.Hub.Config) {window.MathJax.Hub.Config({SVG: {font: \"STIX-Web\"}});}</script>                <script type=\"text/javascript\">window.PlotlyConfig = {MathJaxConfig: 'local'};</script>\n",
              "        <script charset=\"utf-8\" src=\"https://cdn.plot.ly/plotly-2.35.2.min.js\"></script>                <div id=\"4370817d-5d3e-4dbb-86a4-68dc36cdbb80\" class=\"plotly-graph-div\" style=\"height:500px; width:1200px;\"></div>            <script type=\"text/javascript\">                                    window.PLOTLYENV=window.PLOTLYENV || {};                                    if (document.getElementById(\"4370817d-5d3e-4dbb-86a4-68dc36cdbb80\")) {                    Plotly.newPlot(                        \"4370817d-5d3e-4dbb-86a4-68dc36cdbb80\",                        [{\"line\":{\"color\":\"blue\",\"width\":2},\"mode\":\"lines\",\"name\":\"Test Case 3 - AI Not Used\",\"x\":[42.88867188,49.86204797111111,56.835424062222216,63.80880015333333,70.78217624444444,77.75555233555556,84.72892842666667,91.70230451777778,98.67568060888888,105.6490567,112.62243279111112,119.59580888222223,126.56918497333334,133.54256106444444,140.51593715555555,147.48931324666668,154.4626893377778,161.4360654288889,168.40944152,175.38281761111114,182.35619370222224,189.32956979333335,196.30294588444445,203.27632197555556,210.24969806666667,217.2230741577778,224.1964502488889,231.16982634000001,238.14320243111112,245.11657852222223,252.08995461333336,259.06333070444447,266.0367067955556,273.0100828866667,279.9834589777778,286.9568350688889,293.93021116,300.9035872511111,307.87696334222227,314.8503394333334,321.8237155244445,328.7970916155556,335.7704677066667,342.7438437977778,349.7172198888889,356.69059598,363.6639720711111,370.6373481622222,377.61072425333333,384.5841003444445,391.5574764355556,398.5308525266667,405.5042286177778,412.4776047088889,419.4509808,426.42435689111113,433.39773298222224,440.37110907333334,447.34448516444445,454.3178612555556,461.2912373466667,468.2646134377778,475.23798952888893,482.21136562000004,489.18474171111114,496.15811780222225,503.13149389333336,510.10486998444446,517.0782460755555,524.0516221666667,531.0249982577778,537.9983743488889,544.97175044,551.9451265311111,558.9185026222221,565.8918787133333,572.8652548044445,579.8386308955555,586.8120069866667,593.7853830777777,600.7587591688889,607.73213526,614.7055113511111,621.6788874422222,628.6522635333333,635.6256396244444,642.5990157155555,649.5723918066667,656.5457678977778,663.5191439888889,670.49252008,677.4658961711111,684.4392722622222,691.4126483533333,698.3860244444444,705.3594005355556,712.3327766266666,719.3061527177778,726.2795288088889,733.2529049],\"y\":[0.0006010724570791791,0.0006050156421827722,0.0006069867551677856,0.0006070435451290156,0.0006052776632098619,0.0006018145377909997,0.0005968126842721745,0.0005904624580194025,0.0005829842699345456,0.0005746262939216467,0.0005656617040248622,0.0005563854860247274,0.0005471108737156844,0.0005381654639468364,0.0005298870668702777,0.0005226193488609248,0.0005167073254625791,0.0005124927607345513,0.0005103095278033588,0.0005104789835499206,0.0005133054084518688,0.0005190715608832593,0.0005280343938253855,0.0005404209810691834,0.0005564246996204005,0.0005762017150995936,0.0005998678173255769,0.0006274956537749828,0.000659112408952555,0.0006946979775731103,0.0007341836785100677,0.0007774515543710212,0.0008243342980073937,0.0008746158419924386,0.0009280326399224613,0.0009842756592157104,0.001042993093915314,0.001103793792977827,0.0011662513848982384,0.0012299090636531398,0.001294284984308415,0.0013588781997963654,0.001423175053943483,0.001486655930483472,0.0015488022441838892,0.0016091035489825614,0.0016670646297425136,0.001722212439368444,0.0017741027419392224,0.0018223263254117169,0.001866514654395587,0.0019063448443748664,0.0019415438532845953,0.0019718918041089694,0.001997224372584093,0.0020174341964841343,0.0020324712865837794,0.0020423424434154007,0.0020471097075602045,0.0020468878936411032,0.002041841278697269,0.0020321795335881123,0.002018153000991172,0.002000047435058589,0.0019781783256668226,0.0019528849343756181,0.0019245241697958678,0.001893464427279247,0.001860079512029078,0.001824742756326781,0.0017878214310690513,0.0017496715397473472,0.001710633069905552,0.0016710257634903016,0.0016311454538186433,0.0015912610035185566,0.0015516118650575482,0.0015124062735847727,0.0014738200709081524,0.001435996149565698,0.0013990444971178578,0.0013630428129218115,0.0013280376626521615,0.0012940461295946769,0.001261057916153995,0.001229037843997117,0.0011979286967503285,0.0011676543451688366,0.001138123091242599,0.0011092311648699985,0.0010808663046425492,0.0010529113530854755,0.0010252477965509035,0.0009977591810198523,0.000970334337473787,0.0009428703543477067,0.0009152752399257098,0.0008874702243759372,0.000859391659365096,0.0008309924826917514],\"type\":\"scatter\",\"xaxis\":\"x\",\"yaxis\":\"y\"},{\"line\":{\"color\":\"blue\",\"dash\":\"dash\"},\"mode\":\"lines\",\"name\":\"Mean - Test Case 3 - AI Not Used\",\"x\":[433.6554708466667,433.6554708466667],\"y\":[0,0.0020471097075602045],\"type\":\"scatter\",\"xaxis\":\"x\",\"yaxis\":\"y\"},{\"line\":{\"color\":\"green\",\"width\":2},\"mode\":\"lines\",\"name\":\"Test Case 3 - AI Not Used\",\"x\":[14.416666670000001,15.053030306363638,15.689393942727275,16.32575757909091,16.962121215454548,17.598484851818185,18.234848488181818,18.871212124545455,19.50757576090909,20.143939397272728,20.780303033636365,21.41666667,22.053030306363638,22.689393942727275,23.32575757909091,23.962121215454545,24.598484851818185,25.234848488181818,25.87121212454546,26.50757576090909,27.143939397272728,27.780303033636365,28.41666667,29.053030306363638,29.689393942727275,30.32575757909091,30.962121215454548,31.59848485181818,32.23484848818182,32.87121212454545,33.50757576090909,34.14393939727273,34.780303033636365,35.41666667,36.05303030636364,36.68939394272728,37.32575757909091,37.962121215454545,38.598484851818185,39.23484848818182,39.87121212454545,40.50757576090909,41.14393939727273,41.780303033636365,42.41666667,43.05303030636364,43.68939394272728,44.32575757909091,44.962121215454545,45.598484851818185,46.23484848818182,46.87121212454545,47.50757576090909,48.14393939727273,48.78030303363636,49.41666667,50.05303030636364,50.68939394272728,51.325757579090904,51.962121215454545,52.598484851818185,53.234848488181825,53.87121212454545,54.50757576090909,55.14393939727273,55.78030303363636,56.41666667,57.05303030636364,57.68939394272728,58.325757579090904,58.962121215454545,59.598484851818185,60.234848488181825,60.87121212454545,61.50757576090909,62.14393939727273,62.78030303363636,63.41666667,64.05303030636364,64.68939394272728,65.3257575790909,65.96212121545454,66.59848485181818,67.23484848818183,67.87121212454545,68.50757576090909,69.14393939727273,69.78030303363636,70.41666667,71.05303030636364,71.68939394272728,72.3257575790909,72.96212121545454,73.59848485181818,74.23484848818183,74.87121212454545,75.50757576090909,76.14393939727273,76.78030303363636,77.41666667],\"y\":[0.006934234157898143,0.0077041361037770775,0.008514667732774856,0.009361439279967401,0.010239112765803861,0.011141438698213716,0.012061320720567256,0.012990908328635172,0.013921716756243709,0.014844772080871569,0.01575077857447,0.016630304369296408,0.017473980669183018,0.018272709054002394,0.019017870932265403,0.019701532917576807,0.02031664185228937,0.02085720337829979,0.021318438351910947,0.02169691199866583,0.02199063147848988,0.022199108448672056,0.022323384235615217,0.022366016317760553,0.022331025944033904,0.022223807829249403,0.02205100394835788,0.021820344467733784,0.021540459780788695,0.021220668438166272,0.02087074646419134,0.02050068411834177,0.020120436582292796,0.019739675319626147,0.019367546957336324,0.01901244646719445,0.018681811173339304,0.018381941674630777,0.018117855144010903,0.01789317565472538,0.017710065193268457,0.01756919786732177,0.017469778528227113,0.017409605635058632,0.017385176733255493,0.017391833454937784,0.017423941526440084,0.017475099950949154,0.017538372380872996,0.017606532763570087,0.017672316687128986,0.01772866951232333,0.017768982382423474,0.017787307568902094,0.017778545336091845,0.01773859557177738,0.01766446879633688,0.01755435277698877,0.017407632768562546,0.017224865299726763,0.017007707338425014,0.016758804514286248,0.016481643762689534,0.016180377205047988,0.015859625223470633,0.015524267470446194,0.01517923093823526,0.014829284180531123,0.014478846333616745,0.014131818749321592,0.013791445870676697,0.01346021051365862,0.013139767039269126,0.012830914094015764,0.012533606753837911,0.012247006117633776,0.011969562748650301,0.011699128933232697,0.011433093582073523,0.011168532788221787,0.010902368609155718,0.010631528567696124,0.01035309865886526,0.010064463278345388,0.009763426407393352,0.009448309539495166,0.009118023146233957,0.00877210987861097,0.008410759109022777,0.008034793765119688,0.007645631624024963,0.007245224268819595,0.006835977717120127,0.006420659287385066,0.006002295561365452,0.005584066335279422,0.0051691992462608765,0.004760869344733052,0.004362107297102987,0.003975719192178248],\"type\":\"scatter\",\"xaxis\":\"x2\",\"yaxis\":\"y2\"},{\"line\":{\"color\":\"green\",\"dash\":\"dash\"},\"mode\":\"lines\",\"name\":\"Mean - Test Case 3 - AI Not Used\",\"x\":[42.06666666833334,42.06666666833334],\"y\":[0,0.022366016317760553],\"type\":\"scatter\",\"xaxis\":\"x2\",\"yaxis\":\"y2\"},{\"line\":{\"color\":\"orange\",\"width\":2},\"mode\":\"lines\",\"name\":\"Test Case 3 - AI Used\",\"x\":[0.0,3.1753965434343434,6.350793086868687,9.52618963030303,12.701586173737374,15.876982717171717,19.05237926060606,22.227775804040405,25.403172347474747,28.57856889090909,31.753965434343435,34.92936197777778,38.10475852121212,41.280155064646465,44.45555160808081,47.63094815151515,50.806344694949495,53.98174123838384,57.15713778181818,60.332534325252524,63.50793086868687,66.68332741212122,69.85872395555556,73.03412049898989,76.20951704242424,79.38491358585858,82.56031012929293,85.73570667272728,88.91110321616162,92.08649975959595,95.2618963030303,98.43729284646464,101.61268938989899,104.78808593333333,107.96348247676768,111.13887902020203,114.31427556363636,117.4896721070707,120.66506865050505,123.8404651939394,127.01586173737374,130.19125828080809,133.36665482424243,136.54205136767678,139.71744791111112,142.89284445454544,146.06824099797979,149.24363754141413,152.41903408484848,155.59443062828282,158.76982717171717,161.9452237151515,165.12062025858586,168.2960168020202,171.47141334545455,174.6468098888889,177.82220643232324,180.9976029757576,184.1729995191919,187.34839606262625,190.5237926060606,193.69918914949494,196.8745856929293,200.04998223636363,203.22537877979798,206.40077532323232,209.57617186666667,212.75156841010102,215.92696495353536,219.1023614969697,222.27775804040405,225.45315458383837,228.62855112727271,231.80394767070706,234.9793442141414,238.15474075757575,241.3301373010101,244.50553384444444,247.6809303878788,250.85632693131313,254.03172347474748,257.2071200181818,260.38251656161617,263.5579131050505,266.73330964848486,269.9087061919192,273.08410273535355,276.25949927878787,279.43489582222224,282.61029236565656,285.7856889090909,288.96108545252525,292.13648199595957,295.31187853939394,298.48727508282826,301.66267162626264,304.83806816969695,308.0134647131313,311.18886125656564,314.3642578],\"y\":[0.0016086262290760682,0.0016579667468164512,0.0017066417681562526,0.0017546746363968704,0.0018020989589995033,0.0018489553814790972,0.0018952880124923097,0.0019411406037990293,0.0019865526016987893,0.002031555196224623,0.002076167500342998,0.002120392993296093,0.0021642163597974597,0.0022076008499610513,0.0022504862736639755,0.002292787727724521,0.002334395135178015,0.0023751736535535892,0.0024149649840212455,0.002453589586324576,0.0024908497763583013,0.002526533654966755,0.002560419788933493,0.0025922825391042894,0.0026218979070039036,0.0026490497509756403,0.0026735362065049726,0.002695176133581505,0.002713815407166771,0.002729332865375038,0.0027416457339814442,0.0027507143553174265,0.0027565460642979193,0.002759198073884273,0.002758779256203833,0.0027554507331668462,0.0027494252209720625,0.0027409651055093735,0.0027303792594198626,0.0027180186454920864,0.002704270784181001,0.002689553194376979,0.0026743059452205694,0.002658983481924608,0.0026440459095002926,0.0026299499343812142,0.0026171396747318673,0.002606037555400225,0.0025970355028742645,0.0025904866492422016,0.00258669774221254,0.002585922441059513,0.0025883556564080612,0.002594129065681794,0.0026033079065463727,0.002615889118624479,0.002631800870043745,0.0026509034709577784,0.0026729916420219543,0.002697798072867871,0.0027249981748209556,0.002754215904294739,0.002785030509228999,0.0028169840312567956,0.0028495893814898506,0.0028823387982529736,0.0029147124909628297,0.002946187275651925,0.002976245014233426,0.003004380681170892,0.0030301098972913007,0.003052975790455937,0.0030725550659634927,0.0030884631950956506,0.0031003586572601145,0.0031079461988427174,0.0031109790992552753,0.003109260460900101,0.0031026435640714783,0.003091031349477492,0.003074375109507201,0.003052672484138311,0.003025964868177981,0.0029943343432084404,0.0029579002501808017,0.002916815517226564,0.0028712628522382187,0.0028214509015314824,0.002767610464966299,0.002709990844871138,0.002648856391632707,0.00258448329354709,0.002517156643135406,0.0024471677972277978,0.0023748120342738845,0.00230038650002421,0.0022241884223276626,0.0021465135675773003,0.0020676549054718376,0.0019879014452875883],\"type\":\"scatter\",\"xaxis\":\"x\",\"yaxis\":\"y\"},{\"line\":{\"color\":\"orange\",\"dash\":\"dash\"},\"mode\":\"lines\",\"name\":\"Mean - Test Case 3 - AI Used\",\"x\":[164.21412928383333,164.21412928383333],\"y\":[0,0.0031109790992552753],\"type\":\"scatter\",\"xaxis\":\"x\",\"yaxis\":\"y\"},{\"line\":{\"color\":\"red\",\"width\":2},\"mode\":\"lines\",\"name\":\"Test Case 3 - AI Used\",\"x\":[0.0,0.5845117845454546,1.1690235690909092,1.7535353536363638,2.3380471381818184,2.922558922727273,3.5070707072727276,4.0915824918181825,4.676094276363637,5.260606060909091,5.845117845454546,6.429629630000001,7.014141414545455,7.59865319909091,8.183164983636365,8.767676768181818,9.352188552727274,9.936700337272729,10.521212121818182,11.105723906363638,11.690235690909091,12.274747475454546,12.859259260000002,13.443771044545455,14.02828282909091,14.612794613636366,15.19730639818182,15.781818182727275,16.36632996727273,16.950841751818185,17.535353536363637,18.119865320909092,18.704377105454547,19.288888890000003,19.873400674545458,20.45791245909091,21.042424243636365,21.62693602818182,22.211447812727275,22.79595959727273,23.380471381818182,23.964983166363638,24.549494950909093,25.134006735454548,25.718518520000003,26.30303030454546,26.88754208909091,27.472053873636366,28.05656565818182,28.641077442727276,29.22558922727273,29.810101011818183,30.39461279636364,30.979124580909094,31.56363636545455,32.148148150000004,32.73265993454546,33.317171719090915,33.90168350363637,34.48619528818182,35.070707072727274,35.65521885727273,36.239730641818184,36.82424242636364,37.408754210909095,37.99326599545455,38.577777780000005,39.16228956454546,39.746801349090916,40.33131313363637,40.91582491818182,41.500336702727274,42.08484848727273,42.669360271818185,43.25387205636364,43.838383840909096,44.42289562545455,45.007407410000006,45.59191919454546,46.17643097909092,46.760942763636365,47.34545454818182,47.929966332727275,48.51447811727273,49.098989901818186,49.68350168636364,50.268013470909096,50.85252525545455,51.43703704000001,52.02154882454546,52.60606060909092,53.190572393636366,53.77508417818182,54.359595962727276,54.94410774727273,55.52861953181819,56.11313131636364,56.6976431009091,57.28215488545455,57.86666667],\"y\":[0.005706287996674923,0.006305357494828816,0.0069326829680325455,0.0075853497794891155,0.008260057187225459,0.008953189801019706,0.009660901209764042,0.010379206767518074,0.011104081910968514,0.011831561916528949,0.01255783872599926,0.013279350400400803,0.013992858916145606,0.014695512397904568,0.01538488847799188,0.016059016260665818,0.016716375318869943,0.017355871219295754,0.01797678821134108,0.01857872087439792,0.01916148764183992,0.01972503015533721,0.02026930329837109,0.020794161466026435,0.021299247108288358,0.02178388780272161,0.022247008045171972,0.022687061580071496,0.023101989422939593,0.02348920776768148,0.023845628745247472,0.02416771554768136,0.024451571806643282,0.024693063385904164,0.024887968992626096,0.02503215432083749,0.025121762905482025,0.02515341557952999,0.025124409476519935,0.025032906980907335,0.024878104954817785,0.024660374994706243,0.024381366399746987,0.02404406494008116,0.023652802341341254,0.02321321356749229,0.022732141377799477,0.022217490128177746,0.021678033244420383,0.02112318107555062,0.020562717808479028,0.02000651767600351,0.019464251729676914,0.0189450969191363,0.018457459097269452,0.018008720869794652,0.0176050239774096,0.017251094218970718,0.01695011490080595,0.016703652553301536,0.01651163632295518,0.016372390157117066,0.016282714771135354,0.016238014527864136,0.016232462848465766,0.01625919866481152,0.0163105457421614,0.01637824644229227,0.016453701632151478,0.016528208920427955,0.01659319215760894,0.016640416088568172,0.01666218112258199,0.016651494309792216,0.016602213720487244,0.016509164462056792,0.016368225501228552,0.016176387265218625,0.01593178066863751,0.015633678759935134,0.015282472617737953,0.0148796234750504,0.014427593330970597,0.013929756546305124,0.013390295127348262,0.012814080590363944,0.012206545469558322,0.011573547677783768,0.010921231040045502,0.010255885379305019,0.009583809524925886,0.00891118052057614,0.008243932118578812,0.007587645355664982,0.006947453612268646,0.0063279640732626236,0.0057331969493155735,0.0051665432082791205,0.004630740933318708,0.004127869799493684],\"type\":\"scatter\",\"xaxis\":\"x2\",\"yaxis\":\"y2\"},{\"line\":{\"color\":\"red\",\"dash\":\"dash\"},\"mode\":\"lines\",\"name\":\"Mean - Test Case 3 - AI Used\",\"x\":[27.094444445500002,27.094444445500002],\"y\":[0,0.02515341557952999],\"type\":\"scatter\",\"xaxis\":\"x2\",\"yaxis\":\"y2\"}],                        {\"template\":{\"data\":{\"histogram2dcontour\":[{\"type\":\"histogram2dcontour\",\"colorbar\":{\"outlinewidth\":0,\"ticks\":\"\"},\"colorscale\":[[0.0,\"#0d0887\"],[0.1111111111111111,\"#46039f\"],[0.2222222222222222,\"#7201a8\"],[0.3333333333333333,\"#9c179e\"],[0.4444444444444444,\"#bd3786\"],[0.5555555555555556,\"#d8576b\"],[0.6666666666666666,\"#ed7953\"],[0.7777777777777778,\"#fb9f3a\"],[0.8888888888888888,\"#fdca26\"],[1.0,\"#f0f921\"]]}],\"choropleth\":[{\"type\":\"choropleth\",\"colorbar\":{\"outlinewidth\":0,\"ticks\":\"\"}}],\"histogram2d\":[{\"type\":\"histogram2d\",\"colorbar\":{\"outlinewidth\":0,\"ticks\":\"\"},\"colorscale\":[[0.0,\"#0d0887\"],[0.1111111111111111,\"#46039f\"],[0.2222222222222222,\"#7201a8\"],[0.3333333333333333,\"#9c179e\"],[0.4444444444444444,\"#bd3786\"],[0.5555555555555556,\"#d8576b\"],[0.6666666666666666,\"#ed7953\"],[0.7777777777777778,\"#fb9f3a\"],[0.8888888888888888,\"#fdca26\"],[1.0,\"#f0f921\"]]}],\"heatmap\":[{\"type\":\"heatmap\",\"colorbar\":{\"outlinewidth\":0,\"ticks\":\"\"},\"colorscale\":[[0.0,\"#0d0887\"],[0.1111111111111111,\"#46039f\"],[0.2222222222222222,\"#7201a8\"],[0.3333333333333333,\"#9c179e\"],[0.4444444444444444,\"#bd3786\"],[0.5555555555555556,\"#d8576b\"],[0.6666666666666666,\"#ed7953\"],[0.7777777777777778,\"#fb9f3a\"],[0.8888888888888888,\"#fdca26\"],[1.0,\"#f0f921\"]]}],\"heatmapgl\":[{\"type\":\"heatmapgl\",\"colorbar\":{\"outlinewidth\":0,\"ticks\":\"\"},\"colorscale\":[[0.0,\"#0d0887\"],[0.1111111111111111,\"#46039f\"],[0.2222222222222222,\"#7201a8\"],[0.3333333333333333,\"#9c179e\"],[0.4444444444444444,\"#bd3786\"],[0.5555555555555556,\"#d8576b\"],[0.6666666666666666,\"#ed7953\"],[0.7777777777777778,\"#fb9f3a\"],[0.8888888888888888,\"#fdca26\"],[1.0,\"#f0f921\"]]}],\"contourcarpet\":[{\"type\":\"contourcarpet\",\"colorbar\":{\"outlinewidth\":0,\"ticks\":\"\"}}],\"contour\":[{\"type\":\"contour\",\"colorbar\":{\"outlinewidth\":0,\"ticks\":\"\"},\"colorscale\":[[0.0,\"#0d0887\"],[0.1111111111111111,\"#46039f\"],[0.2222222222222222,\"#7201a8\"],[0.3333333333333333,\"#9c179e\"],[0.4444444444444444,\"#bd3786\"],[0.5555555555555556,\"#d8576b\"],[0.6666666666666666,\"#ed7953\"],[0.7777777777777778,\"#fb9f3a\"],[0.8888888888888888,\"#fdca26\"],[1.0,\"#f0f921\"]]}],\"surface\":[{\"type\":\"surface\",\"colorbar\":{\"outlinewidth\":0,\"ticks\":\"\"},\"colorscale\":[[0.0,\"#0d0887\"],[0.1111111111111111,\"#46039f\"],[0.2222222222222222,\"#7201a8\"],[0.3333333333333333,\"#9c179e\"],[0.4444444444444444,\"#bd3786\"],[0.5555555555555556,\"#d8576b\"],[0.6666666666666666,\"#ed7953\"],[0.7777777777777778,\"#fb9f3a\"],[0.8888888888888888,\"#fdca26\"],[1.0,\"#f0f921\"]]}],\"mesh3d\":[{\"type\":\"mesh3d\",\"colorbar\":{\"outlinewidth\":0,\"ticks\":\"\"}}],\"scatter\":[{\"fillpattern\":{\"fillmode\":\"overlay\",\"size\":10,\"solidity\":0.2},\"type\":\"scatter\"}],\"parcoords\":[{\"type\":\"parcoords\",\"line\":{\"colorbar\":{\"outlinewidth\":0,\"ticks\":\"\"}}}],\"scatterpolargl\":[{\"type\":\"scatterpolargl\",\"marker\":{\"colorbar\":{\"outlinewidth\":0,\"ticks\":\"\"}}}],\"bar\":[{\"error_x\":{\"color\":\"#2a3f5f\"},\"error_y\":{\"color\":\"#2a3f5f\"},\"marker\":{\"line\":{\"color\":\"#E5ECF6\",\"width\":0.5},\"pattern\":{\"fillmode\":\"overlay\",\"size\":10,\"solidity\":0.2}},\"type\":\"bar\"}],\"scattergeo\":[{\"type\":\"scattergeo\",\"marker\":{\"colorbar\":{\"outlinewidth\":0,\"ticks\":\"\"}}}],\"scatterpolar\":[{\"type\":\"scatterpolar\",\"marker\":{\"colorbar\":{\"outlinewidth\":0,\"ticks\":\"\"}}}],\"histogram\":[{\"marker\":{\"pattern\":{\"fillmode\":\"overlay\",\"size\":10,\"solidity\":0.2}},\"type\":\"histogram\"}],\"scattergl\":[{\"type\":\"scattergl\",\"marker\":{\"colorbar\":{\"outlinewidth\":0,\"ticks\":\"\"}}}],\"scatter3d\":[{\"type\":\"scatter3d\",\"line\":{\"colorbar\":{\"outlinewidth\":0,\"ticks\":\"\"}},\"marker\":{\"colorbar\":{\"outlinewidth\":0,\"ticks\":\"\"}}}],\"scattermapbox\":[{\"type\":\"scattermapbox\",\"marker\":{\"colorbar\":{\"outlinewidth\":0,\"ticks\":\"\"}}}],\"scatterternary\":[{\"type\":\"scatterternary\",\"marker\":{\"colorbar\":{\"outlinewidth\":0,\"ticks\":\"\"}}}],\"scattercarpet\":[{\"type\":\"scattercarpet\",\"marker\":{\"colorbar\":{\"outlinewidth\":0,\"ticks\":\"\"}}}],\"carpet\":[{\"aaxis\":{\"endlinecolor\":\"#2a3f5f\",\"gridcolor\":\"white\",\"linecolor\":\"white\",\"minorgridcolor\":\"white\",\"startlinecolor\":\"#2a3f5f\"},\"baxis\":{\"endlinecolor\":\"#2a3f5f\",\"gridcolor\":\"white\",\"linecolor\":\"white\",\"minorgridcolor\":\"white\",\"startlinecolor\":\"#2a3f5f\"},\"type\":\"carpet\"}],\"table\":[{\"cells\":{\"fill\":{\"color\":\"#EBF0F8\"},\"line\":{\"color\":\"white\"}},\"header\":{\"fill\":{\"color\":\"#C8D4E3\"},\"line\":{\"color\":\"white\"}},\"type\":\"table\"}],\"barpolar\":[{\"marker\":{\"line\":{\"color\":\"#E5ECF6\",\"width\":0.5},\"pattern\":{\"fillmode\":\"overlay\",\"size\":10,\"solidity\":0.2}},\"type\":\"barpolar\"}],\"pie\":[{\"automargin\":true,\"type\":\"pie\"}]},\"layout\":{\"autotypenumbers\":\"strict\",\"colorway\":[\"#636efa\",\"#EF553B\",\"#00cc96\",\"#ab63fa\",\"#FFA15A\",\"#19d3f3\",\"#FF6692\",\"#B6E880\",\"#FF97FF\",\"#FECB52\"],\"font\":{\"color\":\"#2a3f5f\"},\"hovermode\":\"closest\",\"hoverlabel\":{\"align\":\"left\"},\"paper_bgcolor\":\"white\",\"plot_bgcolor\":\"#E5ECF6\",\"polar\":{\"bgcolor\":\"#E5ECF6\",\"angularaxis\":{\"gridcolor\":\"white\",\"linecolor\":\"white\",\"ticks\":\"\"},\"radialaxis\":{\"gridcolor\":\"white\",\"linecolor\":\"white\",\"ticks\":\"\"}},\"ternary\":{\"bgcolor\":\"#E5ECF6\",\"aaxis\":{\"gridcolor\":\"white\",\"linecolor\":\"white\",\"ticks\":\"\"},\"baxis\":{\"gridcolor\":\"white\",\"linecolor\":\"white\",\"ticks\":\"\"},\"caxis\":{\"gridcolor\":\"white\",\"linecolor\":\"white\",\"ticks\":\"\"}},\"coloraxis\":{\"colorbar\":{\"outlinewidth\":0,\"ticks\":\"\"}},\"colorscale\":{\"sequential\":[[0.0,\"#0d0887\"],[0.1111111111111111,\"#46039f\"],[0.2222222222222222,\"#7201a8\"],[0.3333333333333333,\"#9c179e\"],[0.4444444444444444,\"#bd3786\"],[0.5555555555555556,\"#d8576b\"],[0.6666666666666666,\"#ed7953\"],[0.7777777777777778,\"#fb9f3a\"],[0.8888888888888888,\"#fdca26\"],[1.0,\"#f0f921\"]],\"sequentialminus\":[[0.0,\"#0d0887\"],[0.1111111111111111,\"#46039f\"],[0.2222222222222222,\"#7201a8\"],[0.3333333333333333,\"#9c179e\"],[0.4444444444444444,\"#bd3786\"],[0.5555555555555556,\"#d8576b\"],[0.6666666666666666,\"#ed7953\"],[0.7777777777777778,\"#fb9f3a\"],[0.8888888888888888,\"#fdca26\"],[1.0,\"#f0f921\"]],\"diverging\":[[0,\"#8e0152\"],[0.1,\"#c51b7d\"],[0.2,\"#de77ae\"],[0.3,\"#f1b6da\"],[0.4,\"#fde0ef\"],[0.5,\"#f7f7f7\"],[0.6,\"#e6f5d0\"],[0.7,\"#b8e186\"],[0.8,\"#7fbc41\"],[0.9,\"#4d9221\"],[1,\"#276419\"]]},\"xaxis\":{\"gridcolor\":\"white\",\"linecolor\":\"white\",\"ticks\":\"\",\"title\":{\"standoff\":15},\"zerolinecolor\":\"white\",\"automargin\":true,\"zerolinewidth\":2},\"yaxis\":{\"gridcolor\":\"white\",\"linecolor\":\"white\",\"ticks\":\"\",\"title\":{\"standoff\":15},\"zerolinecolor\":\"white\",\"automargin\":true,\"zerolinewidth\":2},\"scene\":{\"xaxis\":{\"backgroundcolor\":\"#E5ECF6\",\"gridcolor\":\"white\",\"linecolor\":\"white\",\"showbackground\":true,\"ticks\":\"\",\"zerolinecolor\":\"white\",\"gridwidth\":2},\"yaxis\":{\"backgroundcolor\":\"#E5ECF6\",\"gridcolor\":\"white\",\"linecolor\":\"white\",\"showbackground\":true,\"ticks\":\"\",\"zerolinecolor\":\"white\",\"gridwidth\":2},\"zaxis\":{\"backgroundcolor\":\"#E5ECF6\",\"gridcolor\":\"white\",\"linecolor\":\"white\",\"showbackground\":true,\"ticks\":\"\",\"zerolinecolor\":\"white\",\"gridwidth\":2}},\"shapedefaults\":{\"line\":{\"color\":\"#2a3f5f\"}},\"annotationdefaults\":{\"arrowcolor\":\"#2a3f5f\",\"arrowhead\":0,\"arrowwidth\":1},\"geo\":{\"bgcolor\":\"white\",\"landcolor\":\"#E5ECF6\",\"subunitcolor\":\"white\",\"showland\":true,\"showlakes\":true,\"lakecolor\":\"white\"},\"title\":{\"x\":0.05},\"mapbox\":{\"style\":\"light\"}}},\"xaxis\":{\"anchor\":\"y\",\"domain\":[0.0,0.45],\"title\":{\"text\":\"Data Usage (MB)\"}},\"yaxis\":{\"anchor\":\"x\",\"domain\":[0.0,1.0],\"title\":{\"text\":\"Density\"}},\"xaxis2\":{\"anchor\":\"y2\",\"domain\":[0.55,1.0],\"title\":{\"text\":\"Duration (minutes)\"}},\"yaxis2\":{\"anchor\":\"x2\",\"domain\":[0.0,1.0],\"title\":{\"text\":\"Density\"}},\"annotations\":[{\"font\":{\"size\":16},\"showarrow\":false,\"text\":\"Test Case 3 - Data Usage\",\"x\":0.225,\"xanchor\":\"center\",\"xref\":\"paper\",\"y\":1.0,\"yanchor\":\"bottom\",\"yref\":\"paper\"},{\"font\":{\"size\":16},\"showarrow\":false,\"text\":\"Test Case 3 - Duration\",\"x\":0.775,\"xanchor\":\"center\",\"xref\":\"paper\",\"y\":1.0,\"yanchor\":\"bottom\",\"yref\":\"paper\"}],\"title\":{\"text\":\"Probability Density Function of Test Case 3 by AI Utilization with Means (bandwidth = 0.5)\"},\"width\":1200,\"height\":500},                        {\"responsive\": true}                    ).then(function(){\n",
              "                            \n",
              "var gd = document.getElementById('4370817d-5d3e-4dbb-86a4-68dc36cdbb80');\n",
              "var x = new MutationObserver(function (mutations, observer) {{\n",
              "        var display = window.getComputedStyle(gd).display;\n",
              "        if (!display || display === 'none') {{\n",
              "            console.log([gd, 'removed!']);\n",
              "            Plotly.purge(gd);\n",
              "            observer.disconnect();\n",
              "        }}\n",
              "}});\n",
              "\n",
              "// Listen for the removal of the full notebook cells\n",
              "var notebookContainer = gd.closest('#notebook-container');\n",
              "if (notebookContainer) {{\n",
              "    x.observe(notebookContainer, {childList: true});\n",
              "}}\n",
              "\n",
              "// Listen for the clearing of the current output cell\n",
              "var outputEl = gd.closest('.output');\n",
              "if (outputEl) {{\n",
              "    x.observe(outputEl, {childList: true});\n",
              "}}\n",
              "\n",
              "                        })                };                            </script>        </div>\n",
              "</body>\n",
              "</html>"
            ]
          },
          "metadata": {}
        }
      ]
    },
    {
      "cell_type": "markdown",
      "source": [
        "###Automatically set the **Bandwidth**"
      ],
      "metadata": {
        "id": "i0gSjLDvpvRO"
      }
    },
    {
      "cell_type": "code",
      "source": [
        "import plotly.graph_objects as go\n",
        "from plotly.subplots import make_subplots\n",
        "import numpy as np\n",
        "from scipy.stats import gaussian_kde\n",
        "\n",
        "# Data and labels for each combination of test case and AI utilization\n",
        "data_groups = [\n",
        "    (test_case_2_ai_0['data_usage_total_MB'], \"Test Case 2 - Non-AI\", \"Data Usage (MB)\", 'blue'),\n",
        "    (test_case_2_ai_0['duration_min'], \"Test Case 2 - Non-AI\", \"Duration (minutes)\", 'blue'),\n",
        "    (test_case_2_ai_1['data_usage_total_MB'], \"Test Case 2 - AI\", \"Data Usage (MB)\", 'orange'),\n",
        "    (test_case_2_ai_1['duration_min'], \"Test Case 2 - AI\", \"Duration (minutes)\", 'orange'),\n",
        "    (test_case_3_ai_0['data_usage_total_MB'], \"Test Case 3 - Non-AI\", \"Data Usage (MB)\", 'green'),\n",
        "    (test_case_3_ai_0['duration_min'], \"Test Case 3 - Non-AI\", \"Duration (minutes)\", 'green'),\n",
        "    (test_case_3_ai_1['data_usage_total_MB'], \"Test Case 3 - AI\", \"Data Usage (MB)\", 'red'),\n",
        "    (test_case_3_ai_1['duration_min'], \"Test Case 3 - AI\", \"Duration (minutes)\", 'red')\n",
        "]\n",
        "\n",
        "# Function to calculate KDE\n",
        "def get_density_curve(data):\n",
        "    kde = gaussian_kde(data)  # Optional: adjust bw_method for smoothness\n",
        "    x_values = np.linspace(max(0, min(data) - 10), max(data) + 10, 100)  # Ensure non-negative x range if needed\n",
        "    y_values = kde(x_values)\n",
        "    return x_values, y_values\n",
        "\n",
        "# Initialize separate figures for each test case\n",
        "fig_case2 = make_subplots(rows=1, cols=2, subplot_titles=[\"Test Case 2 - Data Usage\", \"Test Case 2 - Duration\"])\n",
        "fig_case3 = make_subplots(rows=1, cols=2, subplot_titles=[\"Test Case 3 - Data Usage\", \"Test Case 3 - Duration\"])\n",
        "\n",
        "# Add each KDE and mean line to the appropriate subplot\n",
        "for i, (data, title, x_label, color) in enumerate(data_groups):\n",
        "    x_values, y_values = get_density_curve(data)\n",
        "\n",
        "    # Determine target figure and column based on test case and data type\n",
        "    if \"Test Case 2\" in title:\n",
        "        target_fig = fig_case2\n",
        "        col = 1 if \"Data Usage\" in x_label else 2\n",
        "    else:\n",
        "        target_fig = fig_case3\n",
        "        col = 1 if \"Data Usage\" in x_label else 2\n",
        "\n",
        "    # Add KDE trace\n",
        "    target_fig.add_trace(\n",
        "        go.Scatter(\n",
        "            x=x_values,\n",
        "            y=y_values,\n",
        "            mode=\"lines\",\n",
        "            line=dict(color=color, width=2),\n",
        "            name=title\n",
        "        ),\n",
        "        row=1, col=col\n",
        "    )\n",
        "\n",
        "    # Calculate mean and add a vertical line to indicate it\n",
        "    mean_value = np.mean(data)\n",
        "    target_fig.add_trace(\n",
        "        go.Scatter(\n",
        "            x=[mean_value, mean_value],\n",
        "            y=[0, max(y_values)],\n",
        "            mode=\"lines\",\n",
        "            line=dict(color=color, dash=\"dash\"),\n",
        "            name=f\"Mean - {title}\",\n",
        "        ),\n",
        "        row=1, col=col\n",
        "    )\n",
        "\n",
        "    # Add an annotation for the mean value\n",
        "    target_fig.add_annotation(\n",
        "        x=mean_value,\n",
        "        y=max(y_values) * 0.9,  # Position the annotation slightly below the peak of the KDE curve\n",
        "        text=f\"Mean: {mean_value:.2f}\",\n",
        "        showarrow=True,\n",
        "        arrowhead=1,\n",
        "        ax=0,\n",
        "        ay=-20,\n",
        "        font=dict(color=color),\n",
        "        row=1, col=col\n",
        "    )\n",
        "\n",
        "# Update layout for both figures with static titles\n",
        "fig_case2.update_layout(\n",
        "    title_text= \"Probability Density Function of Test Case 2 by AI Utilization with Means\",\n",
        "    width=1200,\n",
        "    height=500\n",
        ")\n",
        "fig_case3.update_layout(\n",
        "    title_text= \"Probability Density Function of Test Case 3 by AI Utilization with Means\",\n",
        "    width=1200,\n",
        "    height=500\n",
        ")\n",
        "\n",
        "# Update axis labels\n",
        "for fig in [fig_case2, fig_case3]:\n",
        "    fig.update_yaxes(title_text=\"Density\")\n",
        "    fig.update_xaxes(title_text=\"Data Usage (MB)\", row=1, col=1)\n",
        "    fig.update_xaxes(title_text=\"Duration (minutes)\", row=1, col=2)\n",
        "\n",
        "# Display both figures\n",
        "fig_case2.show()\n",
        "fig_case3.show()\n"
      ],
      "metadata": {
        "colab": {
          "base_uri": "https://localhost:8080/",
          "height": 1000
        },
        "id": "jg2JZumwGpXn",
        "outputId": "2c13228e-762f-4306-c6ed-d4e8e22a8f24"
      },
      "execution_count": null,
      "outputs": [
        {
          "output_type": "display_data",
          "data": {
            "text/html": [
              "<html>\n",
              "<head><meta charset=\"utf-8\" /></head>\n",
              "<body>\n",
              "    <div>            <script src=\"https://cdnjs.cloudflare.com/ajax/libs/mathjax/2.7.5/MathJax.js?config=TeX-AMS-MML_SVG\"></script><script type=\"text/javascript\">if (window.MathJax && window.MathJax.Hub && window.MathJax.Hub.Config) {window.MathJax.Hub.Config({SVG: {font: \"STIX-Web\"}});}</script>                <script type=\"text/javascript\">window.PlotlyConfig = {MathJaxConfig: 'local'};</script>\n",
              "        <script charset=\"utf-8\" src=\"https://cdn.plot.ly/plotly-2.35.2.min.js\"></script>                <div id=\"5665da27-726c-4c4e-ab56-9f1ba44b04aa\" class=\"plotly-graph-div\" style=\"height:500px; width:1200px;\"></div>            <script type=\"text/javascript\">                                    window.PLOTLYENV=window.PLOTLYENV || {};                                    if (document.getElementById(\"5665da27-726c-4c4e-ab56-9f1ba44b04aa\")) {                    Plotly.newPlot(                        \"5665da27-726c-4c4e-ab56-9f1ba44b04aa\",                        [{\"line\":{\"color\":\"blue\",\"width\":2},\"mode\":\"lines\",\"name\":\"Test Case 2 - Non-AI\",\"x\":[21.458984375,27.967635337752526,34.47628630050505,40.98493726325758,47.493588226010104,54.00223918876262,60.51089015151515,67.01954111426767,73.52819207702021,80.03684303977272,86.54549400252525,93.05414496527777,99.5627959280303,106.07144689078282,112.58009785353535,119.08874881628788,125.5973997790404,132.10605074179293,138.61470170454544,145.12335266729798,151.6320036300505,158.14065459280303,164.64930555555554,171.15795651830808,177.6666074810606,184.17525844381314,190.68390940656565,197.1925603693182,203.7012113320707,210.20986229482324,216.71851325757575,223.2271642203283,229.7358151830808,236.24446614583331,242.75311710858585,249.26176807133837,255.7704190340909,262.2790699968434,268.78772095959596,275.2963719223485,281.805022885101,288.3136738478535,294.82232481060606,301.3309757733586,307.8396267361111,314.3482776988636,320.85692866161617,327.3655796243687,333.8742305871212,340.38288154987373,346.89153251262627,353.40018347537875,359.9088344381313,366.41748540088383,372.9261363636364,379.43478732638886,385.9434382891414,392.45208925189394,398.9607402146465,405.46939117739896,411.9780421401515,418.48669310290404,424.9953440656566,431.50399502840907,438.0126459911616,444.52129695391415,451.02994791666663,457.53859887941917,464.0472498421717,470.55590080492425,477.06455176767673,483.5732027304293,490.0818536931818,496.59050465593435,503.09915561868684,509.6078065814394,516.1164575441919,522.6251085069445,529.133759469697,535.6424104324495,542.151061395202,548.6597123579545,555.168363320707,561.6770142834596,568.1856652462121,574.6943162089647,581.2029671717172,587.7116181344696,594.2202690972222,600.7289200599747,607.2375710227273,613.7462219854798,620.2548729482323,626.7635239109849,633.2721748737374,639.7808258364898,646.2894767992424,652.7981277619949,659.3067787247475,665.8154296875],\"y\":[0.0006167083088484388,0.0006325275542282101,0.0006484373629854014,0.0006644556867896538,0.000680601889053996,0.0006968964102821294,0.0007133604024626715,0.0007300153370922182,0.0007468825919728366,0.0007639830224206337,0.0007813365229294184,0.0007989615856475207,0.0008168748622386008,0.0008350907358024608,0.0008536209095252913,0.0008724740186082146,0.0008916552717884728,0.0009111661284213692,0.0009310040166375557,0.0009511620975360341,0.0009716290797269538,0.000992389087810464,0.0010134215875807094,0.001034701369891281,0.0010561985942248585,0.001077878892091265,0.0010997035294510156,0.0011216296264423187,0.0011436104317949437,0.00116559564846049,0.0011875318061907942,0.001209362676068788,0.0012310297213520608,0.0012524725784400404,0.0012736295613306483,0.0012944381825990034,0.0013148356837146605,0.0013347595674180603,0.0013541481249022328,0.001372940950690839,0.0013910794383647366,0.0014085072506605705,0.0014251707579386549,0.0014410194395840052,0.0014560062435526318,0.0014700878999925544,0.0014832251856418783,0.0014953831365202193,0.0015065312072699655,0.0015166433763551734,0.0015256981971733486,0.0015336787959644006,0.001540572818197691,0.0015463723258693552,0.0015510736488360353,0.0015546771939372811,0.0015571872162080842,0.001558611556947823,0.0015589613537866217,0.0015582507281706915,0.0015564964558725037,0.001553717626219103,0.0015499352957238058,0.0015451721417057839,0.001539452121293022,0.0015328001409325776,0.0015252417411850165,0.0015168028011653227,0.0015075092665194974,0.0014973869043039714,0.0014864610875740664,0.001474756611898388,0.0014622975454087613,0.0014491071133805736,0.0014352076177263854,0.0014206203911862139,0.0014053657854202588,0.0013894631916626413,0.001372931092085753,0.0013557871395610459,0.0013380482630895114,0.001319730795818668,0.001300850622266605,0.0012814233411403116,0.001261464439967034,0.0012409894776544547,0.001220014271057788,0.0011985550816581859,0.001176628798544875,0.0011542531140401376,0.0011314466885076757,0.0011082293011364299,0.0010846219837882848,0.0010606471353335261,0.0010363286142660603,0.0010116918077848552,0.0009867636759418325,0.0009615727698827209,0.0009361492236391766,0.0009105247193609418],\"type\":\"scatter\",\"xaxis\":\"x\",\"yaxis\":\"y\"},{\"line\":{\"color\":\"blue\",\"dash\":\"dash\"},\"mode\":\"lines\",\"name\":\"Mean - Test Case 2 - Non-AI\",\"x\":[374.26544857025146,374.26544857025146],\"y\":[0,0.0015589613537866217],\"type\":\"scatter\",\"xaxis\":\"x\",\"yaxis\":\"y\"},{\"line\":{\"color\":\"blue\",\"width\":2},\"mode\":\"lines\",\"name\":\"Test Case 2 - Non-AI\",\"x\":[47.3,48.01919191919192,48.73838383838383,49.45757575757575,50.176767676767675,50.895959595959596,51.61515151515151,52.33434343434343,53.05353535353535,53.77272727272727,54.49191919191919,55.21111111111111,55.93030303030303,56.64949494949495,57.368686868686865,58.087878787878786,58.80707070707071,59.52626262626262,60.24545454545454,60.964646464646464,61.683838383838385,62.403030303030306,63.12222222222222,63.84141414141414,64.56060606060606,65.27979797979798,65.99898989898989,66.71818181818182,67.43737373737373,68.15656565656566,68.87575757575758,69.5949494949495,70.31414141414142,71.03333333333333,71.75252525252526,72.47171717171717,73.19090909090909,73.91010101010102,74.62929292929293,75.34848484848484,76.06767676767677,76.78686868686869,77.5060606060606,78.22525252525253,78.94444444444444,79.66363636363636,80.38282828282829,81.10202020202021,81.82121212121211,82.54040404040404,83.25959595959597,83.97878787878787,84.6979797979798,85.41717171717173,86.13636363636364,86.85555555555555,87.57474747474748,88.2939393939394,89.01313131313131,89.73232323232324,90.45151515151515,91.17070707070707,91.889898989899,92.60909090909091,93.32828282828282,94.04747474747475,94.76666666666667,95.48585858585858,96.20505050505051,96.92424242424244,97.64343434343434,98.36262626262626,99.08181818181819,99.8010101010101,100.52020202020202,101.23939393939395,101.95858585858586,102.67777777777778,103.3969696969697,104.11616161616162,104.83535353535353,105.55454545454546,106.27373737373738,106.99292929292929,107.71212121212122,108.43131313131313,109.15050505050505,109.86969696969697,110.5888888888889,111.30808080808082,112.02727272727273,112.74646464646464,113.46565656565657,114.18484848484849,114.90404040404042,115.62323232323233,116.34242424242424,117.06161616161617,117.78080808080809,118.5],\"y\":[0.004369921540748816,0.004658390561003182,0.004952967428114093,0.005253137888440666,0.00555848197990348,0.005868697529384118,0.00618362141030741,0.006503247579370907,0.006827740928379251,0.0071574460410231645,0.007492890036417601,0.007834778811055905,0.00818398615679182,0.008541535431205272,0.008908573683372598,0.00928633838633181,0.009676117189805582,0.010079201374360247,0.010496833951707338,0.010930153605429996,0.011380135892109068,0.011847533315031772,0.012332816032514267,0.012836115062596975,0.013357169889188147,0.013895282357132034,0.014449278662694402,0.01501748110134097,0.01559769102849705,0.016187184225608088,0.0167827195498942,0.017380561390396676,0.01797651606573302,0.01856598189235437,0.019144012239025895,0.019705390477311166,0.020244715352722743,0.020756494950182055,0.0212352471228967,0.021675604006717395,0.022072418061693938,0.02242086697596346,0.022716554738891403,0.022955606242533545,0.023134752902266176,0.023251406995402926,0.02330372269475248,0.023290642113967214,0.023211925072705943,0.023068161719910094,0.02286076760943804,0.022591961289710975,0.022264724933420296,0.021882748980493378,0.021450362183902203,0.02097244882120004,0.020454355154136315,0.01990178747549574,0.019320704269768865,0.018717205128059907,0.018097419095865062,0.017467395095515537,0.01683299695600175,0.016199805406559426,0.015573029153710291,0.014957426872945942,0.014357241615760416,0.013776148771057433,0.013217218338432488,0.012682891881003877,0.012174974138721295,0.01169463891029034,0.011242448463076406,0.010818385414570923,0.010421895753891942,0.010051941443544274,0.009707060864876018,0.009385435248261255,0.009084959162243778,0.008803313124263086,0.00853803643713807,0.008286598446725066,0.00804646655230717,0.007815169476404846,0.007590354508015589,0.007369837665319242,0.0071516459727363245,0.006934051304850273,0.006715595508143283,0.006495106763129323,0.006271707387238113,0.0060448134964170685,0.005814127135515256,0.005579621649807624,0.005341521199385991,0.0051002754126810435,0.004856530234405023,0.004611096047226007,0.004364914137118559,0.004119022532195969],\"type\":\"scatter\",\"xaxis\":\"x2\",\"yaxis\":\"y2\"},{\"line\":{\"color\":\"blue\",\"dash\":\"dash\"},\"mode\":\"lines\",\"name\":\"Mean - Test Case 2 - Non-AI\",\"x\":[81.64722222222223,81.64722222222223],\"y\":[0,0.02330372269475248],\"type\":\"scatter\",\"xaxis\":\"x2\",\"yaxis\":\"y2\"},{\"line\":{\"color\":\"orange\",\"width\":2},\"mode\":\"lines\",\"name\":\"Test Case 2 - AI\",\"x\":[0.0,1.2513316761363635,2.502663352272727,3.753995028409091,5.005326704545454,6.2566583806818175,7.507990056818182,8.759321732954545,10.010653409090908,11.261985085227272,12.513316761363635,13.764648437499998,15.015980113636363,16.267311789772727,17.51864346590909,18.769975142045453,20.021306818181817,21.27263849431818,22.523970170454543,23.775301846590907,25.02663352272727,26.277965198863633,27.529296874999996,28.78062855113636,30.031960227272727,31.28329190340909,32.53462357954545,33.78595525568181,35.03728693181818,36.28861860795454,37.53995028409091,38.791281960227266,40.04261363636363,41.2939453125,42.54527698863636,43.79660866477273,45.047940340909086,46.29927201704545,47.55060369318181,48.80193536931818,50.05326704545454,51.30459872159091,52.555930397727266,53.80726207386363,55.05859374999999,56.30992542613636,57.56125710227272,58.812588778409086,60.06392045454545,61.31525213068181,62.56658380681818,63.81791548295454,65.0692471590909,66.32057883522727,67.57191051136363,68.8232421875,70.07457386363636,71.32590553977272,72.57723721590908,73.82856889204545,75.07990056818181,76.33123224431817,77.58256392045453,78.8338955965909,80.08522727272727,81.33655894886363,82.587890625,83.83922230113636,85.09055397727272,86.34188565340908,87.59321732954545,88.84454900568181,90.09588068181817,91.34721235795453,92.5985440340909,93.84987571022727,95.10120738636363,96.35253906249999,97.60387073863636,98.85520241477272,100.10653409090908,101.35786576704545,102.60919744318181,103.86052911931817,105.11186079545453,106.3631924715909,107.61452414772727,108.86585582386363,110.11718749999999,111.36851917613636,112.61985085227272,113.87118252840908,115.12251420454544,116.37384588068181,117.62517755681817,118.87650923295453,120.1278409090909,121.37917258522727,122.63050426136363,123.8818359375],\"y\":[0.007219002304854583,0.007265058943707656,0.007303365246963894,0.007333845810066378,0.007356455928481408,0.007371182057671151,0.007378042089299744,0.007377085440251594,0.007368392952487976,0.007352076603237067,0.007328279026488706,0.0072971728482338774,0.007258959839335896,0.007213869891331349,0.007162159821820639,0.007104112017407534,0.007040032923372441,0.006970251390404109,0.006895116889759134,0.006814997609159127,0.006730278442564206,0.006641358887672257,0.006548650865581508,0.006452576477515619,0.006353565713844032,0.006252054130834761,0.006148480510653078,0.006043284520069548,0.005936904383167901,0.005829774583051744,0.005722323607144514,0.005614971750165927,0.005508128988257682,0.005402192937029379,0.005297546905511179,0.005194558057141704,0.005093575687997466,0.00499492963149351,0.004898928797763498,0.004805859854871085,0.004715986057922655,0.004629546231053594,0.004546753906155565,0.004467796621109125,0.0043928353791928675,0.004322004270264725,0.00425541025326019,0.004193133098532697,0.0041352254875789245,0.004081713266751974,0.004032595850672505,0.003987846770206522,0.0039474143590915245,0.003911222572563657,0.003879171930669107,0.003851140578335622,0.003826985453735745,0.0038065435559932735,0.0037896333028691245,0.0037760559687123373,0.003765597192676392,0.0037580285469799237,0.003753109154833595,0.0037505873475606284,0.0037502023504060876,0.0037516859865583175,0.003754764388993556,0.0037591597099000387,0.0037645918176392908,0.0037707799714577412,0.003777444464469489,0.0037843082257885455,0.0037910983730941195,0.0037975477073627483,0.003803396141993711,0.003808392059086294,0.0038122935861959746,0.0038148697874981347,0.003815901763919086,0.0038151836574510842,0.0038125235555469387,0.0038077442921863863,0.0038006841429165652,0.003791197411887953,0.003779154909630626,0.0037644443210387733,0.003746970463749291,0.0037266554378081332,0.003703438668211003,0.0036772768425781203,0.0036481437468714045,0.0036160300026818783,0.003580942710200969,0.0035429050015374094,0.0035019555095477124,0.0034581477578090945,0.003411549477775969,0.0033622418595218874,0.0033103187427757142,0.0032558857552118913],\"type\":\"scatter\",\"xaxis\":\"x\",\"yaxis\":\"y\"},{\"line\":{\"color\":\"orange\",\"dash\":\"dash\"},\"mode\":\"lines\",\"name\":\"Mean - Test Case 2 - AI\",\"x\":[39.88949998219808,39.88949998219808],\"y\":[0,0.007378042089299744],\"type\":\"scatter\",\"xaxis\":\"x\",\"yaxis\":\"y\"},{\"line\":{\"color\":\"orange\",\"width\":2},\"mode\":\"lines\",\"name\":\"Test Case 2 - AI\",\"x\":[0.0,0.45202020202020204,0.9040404040404041,1.3560606060606062,1.8080808080808082,2.2601010101010104,2.7121212121212124,3.1641414141414144,3.6161616161616164,4.068181818181818,4.520202020202021,4.972222222222222,5.424242424242425,5.876262626262626,6.328282828282829,6.78030303030303,7.232323232323233,7.684343434343435,8.136363636363637,8.58838383838384,9.040404040404042,9.492424242424242,9.944444444444445,10.396464646464647,10.84848484848485,11.300505050505052,11.752525252525253,12.204545454545455,12.656565656565657,13.10858585858586,13.56060606060606,14.012626262626263,14.464646464646465,14.916666666666668,15.36868686868687,15.820707070707071,16.272727272727273,16.724747474747474,17.17676767676768,17.62878787878788,18.080808080808083,18.532828282828284,18.984848484848484,19.43686868686869,19.88888888888889,20.340909090909093,20.792929292929294,21.244949494949495,21.6969696969697,22.1489898989899,22.601010101010104,23.053030303030305,23.505050505050505,23.95707070707071,24.40909090909091,24.86111111111111,25.313131313131315,25.765151515151516,26.21717171717172,26.66919191919192,27.12121212121212,27.573232323232325,28.025252525252526,28.47727272727273,28.92929292929293,29.38131313131313,29.833333333333336,30.285353535353536,30.73737373737374,31.18939393939394,31.641414141414142,32.093434343434346,32.54545454545455,32.99747474747475,33.44949494949495,33.901515151515156,34.35353535353536,34.80555555555556,35.25757575757576,35.70959595959596,36.161616161616166,36.61363636363637,37.06565656565657,37.51767676767677,37.96969696969697,38.42171717171718,38.87373737373738,39.32575757575758,39.77777777777778,40.22979797979798,40.68181818181819,41.13383838383839,41.58585858585859,42.03787878787879,42.48989898989899,42.9419191919192,43.3939393939394,43.8459595959596,44.2979797979798,44.75],\"y\":[0.008212040551602299,0.009037168521411208,0.009912890057139915,0.010838785287220622,0.011814042110008542,0.012837436755879027,0.01390731536969387,0.015021576504951112,0.01617765451028156,0.01737250391803263,0.01860258510874574,0.01986385171635307,0.021151740445796586,0.022461164183822664,0.02378650947937095,0.025121639635724294,0.026459904775969448,0.027794160301092524,0.029116795143295803,0.03041977111635275,0.031694674474765074,0.03293278051382136,0.034125131678336404,0.03526262920914648,0.036336137858632295,0.03733660266928276,0.038255176255673304,0.0390833544855201,0.03981311794588484,0.04043707613179253,0.04094861093016887,0.0413420157125006,0.04161262621095377,0.041756939345546654,0.04177271629921614,0.041659066402010544,0.041416508778006206,0.04104700921617119,0.040553990331783724,0.039942313766793726,0.039218233911586256,0.03838932339129554,0.03746437132108997,0.03645325607143258,0.03536679497271735,0.034216574008006095,0.03301476107520545,0.031773906831963634,0.03050673745774614,0.029225943871772075,0.027943972030294528,0.026672818893070105,0.02542383850082119,0.02420756234972276,0.023033537894297306,0.021910188567198216,0.02084469818521308,0.019842922028499813,0.018909326248473864,0.018046956593402698,0.01725743675460704,0.016540995945525896,0.015896524646288213,0.01532165679342047,0.01481287608334264,0.01436564350440806,0.013974542729762868,0.013633439605470105,0.013335651666852567,0.013074123420516117,0.012841603047155682,0.012630816215165092,0.012434632848011547,0.012246222956341006,0.01205919802202422,0.01186773489514191,0.011666679721867272,0.011451630043665121,0.011218993875797363,0.010966025263434535,0.010690836503260626,0.010392387883746705,0.010070456415587958,0.00972558557439304,0.009359018542671195,0.008972617803215448,0.008568774191131312,0.008150308651684304,0.00772036997535289,0.0072823316942452095,0.006839691134069854,0.0063959733357270435,0.0059546422060467825,0.005519020846275466,0.0050922225589710495,0.004677093568747086,0.004276168028966988,0.0038916354427534472,0.003525320218096193,0.0031786727162204996],\"type\":\"scatter\",\"xaxis\":\"x2\",\"yaxis\":\"y2\"},{\"line\":{\"color\":\"orange\",\"dash\":\"dash\"},\"mode\":\"lines\",\"name\":\"Mean - Test Case 2 - AI\",\"x\":[17.905555555555555,17.905555555555555],\"y\":[0,0.04177271629921614],\"type\":\"scatter\",\"xaxis\":\"x2\",\"yaxis\":\"y2\"}],                        {\"template\":{\"data\":{\"histogram2dcontour\":[{\"type\":\"histogram2dcontour\",\"colorbar\":{\"outlinewidth\":0,\"ticks\":\"\"},\"colorscale\":[[0.0,\"#0d0887\"],[0.1111111111111111,\"#46039f\"],[0.2222222222222222,\"#7201a8\"],[0.3333333333333333,\"#9c179e\"],[0.4444444444444444,\"#bd3786\"],[0.5555555555555556,\"#d8576b\"],[0.6666666666666666,\"#ed7953\"],[0.7777777777777778,\"#fb9f3a\"],[0.8888888888888888,\"#fdca26\"],[1.0,\"#f0f921\"]]}],\"choropleth\":[{\"type\":\"choropleth\",\"colorbar\":{\"outlinewidth\":0,\"ticks\":\"\"}}],\"histogram2d\":[{\"type\":\"histogram2d\",\"colorbar\":{\"outlinewidth\":0,\"ticks\":\"\"},\"colorscale\":[[0.0,\"#0d0887\"],[0.1111111111111111,\"#46039f\"],[0.2222222222222222,\"#7201a8\"],[0.3333333333333333,\"#9c179e\"],[0.4444444444444444,\"#bd3786\"],[0.5555555555555556,\"#d8576b\"],[0.6666666666666666,\"#ed7953\"],[0.7777777777777778,\"#fb9f3a\"],[0.8888888888888888,\"#fdca26\"],[1.0,\"#f0f921\"]]}],\"heatmap\":[{\"type\":\"heatmap\",\"colorbar\":{\"outlinewidth\":0,\"ticks\":\"\"},\"colorscale\":[[0.0,\"#0d0887\"],[0.1111111111111111,\"#46039f\"],[0.2222222222222222,\"#7201a8\"],[0.3333333333333333,\"#9c179e\"],[0.4444444444444444,\"#bd3786\"],[0.5555555555555556,\"#d8576b\"],[0.6666666666666666,\"#ed7953\"],[0.7777777777777778,\"#fb9f3a\"],[0.8888888888888888,\"#fdca26\"],[1.0,\"#f0f921\"]]}],\"heatmapgl\":[{\"type\":\"heatmapgl\",\"colorbar\":{\"outlinewidth\":0,\"ticks\":\"\"},\"colorscale\":[[0.0,\"#0d0887\"],[0.1111111111111111,\"#46039f\"],[0.2222222222222222,\"#7201a8\"],[0.3333333333333333,\"#9c179e\"],[0.4444444444444444,\"#bd3786\"],[0.5555555555555556,\"#d8576b\"],[0.6666666666666666,\"#ed7953\"],[0.7777777777777778,\"#fb9f3a\"],[0.8888888888888888,\"#fdca26\"],[1.0,\"#f0f921\"]]}],\"contourcarpet\":[{\"type\":\"contourcarpet\",\"colorbar\":{\"outlinewidth\":0,\"ticks\":\"\"}}],\"contour\":[{\"type\":\"contour\",\"colorbar\":{\"outlinewidth\":0,\"ticks\":\"\"},\"colorscale\":[[0.0,\"#0d0887\"],[0.1111111111111111,\"#46039f\"],[0.2222222222222222,\"#7201a8\"],[0.3333333333333333,\"#9c179e\"],[0.4444444444444444,\"#bd3786\"],[0.5555555555555556,\"#d8576b\"],[0.6666666666666666,\"#ed7953\"],[0.7777777777777778,\"#fb9f3a\"],[0.8888888888888888,\"#fdca26\"],[1.0,\"#f0f921\"]]}],\"surface\":[{\"type\":\"surface\",\"colorbar\":{\"outlinewidth\":0,\"ticks\":\"\"},\"colorscale\":[[0.0,\"#0d0887\"],[0.1111111111111111,\"#46039f\"],[0.2222222222222222,\"#7201a8\"],[0.3333333333333333,\"#9c179e\"],[0.4444444444444444,\"#bd3786\"],[0.5555555555555556,\"#d8576b\"],[0.6666666666666666,\"#ed7953\"],[0.7777777777777778,\"#fb9f3a\"],[0.8888888888888888,\"#fdca26\"],[1.0,\"#f0f921\"]]}],\"mesh3d\":[{\"type\":\"mesh3d\",\"colorbar\":{\"outlinewidth\":0,\"ticks\":\"\"}}],\"scatter\":[{\"fillpattern\":{\"fillmode\":\"overlay\",\"size\":10,\"solidity\":0.2},\"type\":\"scatter\"}],\"parcoords\":[{\"type\":\"parcoords\",\"line\":{\"colorbar\":{\"outlinewidth\":0,\"ticks\":\"\"}}}],\"scatterpolargl\":[{\"type\":\"scatterpolargl\",\"marker\":{\"colorbar\":{\"outlinewidth\":0,\"ticks\":\"\"}}}],\"bar\":[{\"error_x\":{\"color\":\"#2a3f5f\"},\"error_y\":{\"color\":\"#2a3f5f\"},\"marker\":{\"line\":{\"color\":\"#E5ECF6\",\"width\":0.5},\"pattern\":{\"fillmode\":\"overlay\",\"size\":10,\"solidity\":0.2}},\"type\":\"bar\"}],\"scattergeo\":[{\"type\":\"scattergeo\",\"marker\":{\"colorbar\":{\"outlinewidth\":0,\"ticks\":\"\"}}}],\"scatterpolar\":[{\"type\":\"scatterpolar\",\"marker\":{\"colorbar\":{\"outlinewidth\":0,\"ticks\":\"\"}}}],\"histogram\":[{\"marker\":{\"pattern\":{\"fillmode\":\"overlay\",\"size\":10,\"solidity\":0.2}},\"type\":\"histogram\"}],\"scattergl\":[{\"type\":\"scattergl\",\"marker\":{\"colorbar\":{\"outlinewidth\":0,\"ticks\":\"\"}}}],\"scatter3d\":[{\"type\":\"scatter3d\",\"line\":{\"colorbar\":{\"outlinewidth\":0,\"ticks\":\"\"}},\"marker\":{\"colorbar\":{\"outlinewidth\":0,\"ticks\":\"\"}}}],\"scattermapbox\":[{\"type\":\"scattermapbox\",\"marker\":{\"colorbar\":{\"outlinewidth\":0,\"ticks\":\"\"}}}],\"scatterternary\":[{\"type\":\"scatterternary\",\"marker\":{\"colorbar\":{\"outlinewidth\":0,\"ticks\":\"\"}}}],\"scattercarpet\":[{\"type\":\"scattercarpet\",\"marker\":{\"colorbar\":{\"outlinewidth\":0,\"ticks\":\"\"}}}],\"carpet\":[{\"aaxis\":{\"endlinecolor\":\"#2a3f5f\",\"gridcolor\":\"white\",\"linecolor\":\"white\",\"minorgridcolor\":\"white\",\"startlinecolor\":\"#2a3f5f\"},\"baxis\":{\"endlinecolor\":\"#2a3f5f\",\"gridcolor\":\"white\",\"linecolor\":\"white\",\"minorgridcolor\":\"white\",\"startlinecolor\":\"#2a3f5f\"},\"type\":\"carpet\"}],\"table\":[{\"cells\":{\"fill\":{\"color\":\"#EBF0F8\"},\"line\":{\"color\":\"white\"}},\"header\":{\"fill\":{\"color\":\"#C8D4E3\"},\"line\":{\"color\":\"white\"}},\"type\":\"table\"}],\"barpolar\":[{\"marker\":{\"line\":{\"color\":\"#E5ECF6\",\"width\":0.5},\"pattern\":{\"fillmode\":\"overlay\",\"size\":10,\"solidity\":0.2}},\"type\":\"barpolar\"}],\"pie\":[{\"automargin\":true,\"type\":\"pie\"}]},\"layout\":{\"autotypenumbers\":\"strict\",\"colorway\":[\"#636efa\",\"#EF553B\",\"#00cc96\",\"#ab63fa\",\"#FFA15A\",\"#19d3f3\",\"#FF6692\",\"#B6E880\",\"#FF97FF\",\"#FECB52\"],\"font\":{\"color\":\"#2a3f5f\"},\"hovermode\":\"closest\",\"hoverlabel\":{\"align\":\"left\"},\"paper_bgcolor\":\"white\",\"plot_bgcolor\":\"#E5ECF6\",\"polar\":{\"bgcolor\":\"#E5ECF6\",\"angularaxis\":{\"gridcolor\":\"white\",\"linecolor\":\"white\",\"ticks\":\"\"},\"radialaxis\":{\"gridcolor\":\"white\",\"linecolor\":\"white\",\"ticks\":\"\"}},\"ternary\":{\"bgcolor\":\"#E5ECF6\",\"aaxis\":{\"gridcolor\":\"white\",\"linecolor\":\"white\",\"ticks\":\"\"},\"baxis\":{\"gridcolor\":\"white\",\"linecolor\":\"white\",\"ticks\":\"\"},\"caxis\":{\"gridcolor\":\"white\",\"linecolor\":\"white\",\"ticks\":\"\"}},\"coloraxis\":{\"colorbar\":{\"outlinewidth\":0,\"ticks\":\"\"}},\"colorscale\":{\"sequential\":[[0.0,\"#0d0887\"],[0.1111111111111111,\"#46039f\"],[0.2222222222222222,\"#7201a8\"],[0.3333333333333333,\"#9c179e\"],[0.4444444444444444,\"#bd3786\"],[0.5555555555555556,\"#d8576b\"],[0.6666666666666666,\"#ed7953\"],[0.7777777777777778,\"#fb9f3a\"],[0.8888888888888888,\"#fdca26\"],[1.0,\"#f0f921\"]],\"sequentialminus\":[[0.0,\"#0d0887\"],[0.1111111111111111,\"#46039f\"],[0.2222222222222222,\"#7201a8\"],[0.3333333333333333,\"#9c179e\"],[0.4444444444444444,\"#bd3786\"],[0.5555555555555556,\"#d8576b\"],[0.6666666666666666,\"#ed7953\"],[0.7777777777777778,\"#fb9f3a\"],[0.8888888888888888,\"#fdca26\"],[1.0,\"#f0f921\"]],\"diverging\":[[0,\"#8e0152\"],[0.1,\"#c51b7d\"],[0.2,\"#de77ae\"],[0.3,\"#f1b6da\"],[0.4,\"#fde0ef\"],[0.5,\"#f7f7f7\"],[0.6,\"#e6f5d0\"],[0.7,\"#b8e186\"],[0.8,\"#7fbc41\"],[0.9,\"#4d9221\"],[1,\"#276419\"]]},\"xaxis\":{\"gridcolor\":\"white\",\"linecolor\":\"white\",\"ticks\":\"\",\"title\":{\"standoff\":15},\"zerolinecolor\":\"white\",\"automargin\":true,\"zerolinewidth\":2},\"yaxis\":{\"gridcolor\":\"white\",\"linecolor\":\"white\",\"ticks\":\"\",\"title\":{\"standoff\":15},\"zerolinecolor\":\"white\",\"automargin\":true,\"zerolinewidth\":2},\"scene\":{\"xaxis\":{\"backgroundcolor\":\"#E5ECF6\",\"gridcolor\":\"white\",\"linecolor\":\"white\",\"showbackground\":true,\"ticks\":\"\",\"zerolinecolor\":\"white\",\"gridwidth\":2},\"yaxis\":{\"backgroundcolor\":\"#E5ECF6\",\"gridcolor\":\"white\",\"linecolor\":\"white\",\"showbackground\":true,\"ticks\":\"\",\"zerolinecolor\":\"white\",\"gridwidth\":2},\"zaxis\":{\"backgroundcolor\":\"#E5ECF6\",\"gridcolor\":\"white\",\"linecolor\":\"white\",\"showbackground\":true,\"ticks\":\"\",\"zerolinecolor\":\"white\",\"gridwidth\":2}},\"shapedefaults\":{\"line\":{\"color\":\"#2a3f5f\"}},\"annotationdefaults\":{\"arrowcolor\":\"#2a3f5f\",\"arrowhead\":0,\"arrowwidth\":1},\"geo\":{\"bgcolor\":\"white\",\"landcolor\":\"#E5ECF6\",\"subunitcolor\":\"white\",\"showland\":true,\"showlakes\":true,\"lakecolor\":\"white\"},\"title\":{\"x\":0.05},\"mapbox\":{\"style\":\"light\"}}},\"xaxis\":{\"anchor\":\"y\",\"domain\":[0.0,0.45],\"title\":{\"text\":\"Data Usage (MB)\"}},\"yaxis\":{\"anchor\":\"x\",\"domain\":[0.0,1.0],\"title\":{\"text\":\"Density\"}},\"xaxis2\":{\"anchor\":\"y2\",\"domain\":[0.55,1.0],\"title\":{\"text\":\"Duration (minutes)\"}},\"yaxis2\":{\"anchor\":\"x2\",\"domain\":[0.0,1.0],\"title\":{\"text\":\"Density\"}},\"annotations\":[{\"font\":{\"size\":16},\"showarrow\":false,\"text\":\"Test Case 2 - Data Usage\",\"x\":0.225,\"xanchor\":\"center\",\"xref\":\"paper\",\"y\":1.0,\"yanchor\":\"bottom\",\"yref\":\"paper\"},{\"font\":{\"size\":16},\"showarrow\":false,\"text\":\"Test Case 2 - Duration\",\"x\":0.775,\"xanchor\":\"center\",\"xref\":\"paper\",\"y\":1.0,\"yanchor\":\"bottom\",\"yref\":\"paper\"},{\"arrowhead\":1,\"ax\":0,\"ay\":-20,\"font\":{\"color\":\"blue\"},\"showarrow\":true,\"text\":\"Mean: 374.27\",\"x\":374.26544857025146,\"xref\":\"x\",\"y\":0.0014030652184079597,\"yref\":\"y\"},{\"arrowhead\":1,\"ax\":0,\"ay\":-20,\"font\":{\"color\":\"blue\"},\"showarrow\":true,\"text\":\"Mean: 81.65\",\"x\":81.64722222222223,\"xref\":\"x2\",\"y\":0.020973350425277232,\"yref\":\"y2\"},{\"arrowhead\":1,\"ax\":0,\"ay\":-20,\"font\":{\"color\":\"orange\"},\"showarrow\":true,\"text\":\"Mean: 39.89\",\"x\":39.88949998219808,\"xref\":\"x\",\"y\":0.00664023788036977,\"yref\":\"y\"},{\"arrowhead\":1,\"ax\":0,\"ay\":-20,\"font\":{\"color\":\"orange\"},\"showarrow\":true,\"text\":\"Mean: 17.91\",\"x\":17.905555555555555,\"xref\":\"x2\",\"y\":0.03759544466929453,\"yref\":\"y2\"}],\"title\":{\"text\":\"Probability Density Function of Test Case 2 by AI Utilization with Means\"},\"width\":1200,\"height\":500},                        {\"responsive\": true}                    ).then(function(){\n",
              "                            \n",
              "var gd = document.getElementById('5665da27-726c-4c4e-ab56-9f1ba44b04aa');\n",
              "var x = new MutationObserver(function (mutations, observer) {{\n",
              "        var display = window.getComputedStyle(gd).display;\n",
              "        if (!display || display === 'none') {{\n",
              "            console.log([gd, 'removed!']);\n",
              "            Plotly.purge(gd);\n",
              "            observer.disconnect();\n",
              "        }}\n",
              "}});\n",
              "\n",
              "// Listen for the removal of the full notebook cells\n",
              "var notebookContainer = gd.closest('#notebook-container');\n",
              "if (notebookContainer) {{\n",
              "    x.observe(notebookContainer, {childList: true});\n",
              "}}\n",
              "\n",
              "// Listen for the clearing of the current output cell\n",
              "var outputEl = gd.closest('.output');\n",
              "if (outputEl) {{\n",
              "    x.observe(outputEl, {childList: true});\n",
              "}}\n",
              "\n",
              "                        })                };                            </script>        </div>\n",
              "</body>\n",
              "</html>"
            ]
          },
          "metadata": {}
        },
        {
          "output_type": "display_data",
          "data": {
            "text/html": [
              "<html>\n",
              "<head><meta charset=\"utf-8\" /></head>\n",
              "<body>\n",
              "    <div>            <script src=\"https://cdnjs.cloudflare.com/ajax/libs/mathjax/2.7.5/MathJax.js?config=TeX-AMS-MML_SVG\"></script><script type=\"text/javascript\">if (window.MathJax && window.MathJax.Hub && window.MathJax.Hub.Config) {window.MathJax.Hub.Config({SVG: {font: \"STIX-Web\"}});}</script>                <script type=\"text/javascript\">window.PlotlyConfig = {MathJaxConfig: 'local'};</script>\n",
              "        <script charset=\"utf-8\" src=\"https://cdn.plot.ly/plotly-2.35.2.min.js\"></script>                <div id=\"c3838d5c-db95-42e4-988a-e1294778fd16\" class=\"plotly-graph-div\" style=\"height:500px; width:1200px;\"></div>            <script type=\"text/javascript\">                                    window.PLOTLYENV=window.PLOTLYENV || {};                                    if (document.getElementById(\"c3838d5c-db95-42e4-988a-e1294778fd16\")) {                    Plotly.newPlot(                        \"c3838d5c-db95-42e4-988a-e1294778fd16\",                        [{\"line\":{\"color\":\"green\",\"width\":2},\"mode\":\"lines\",\"name\":\"Test Case 3 - Non-AI\",\"x\":[42.88867188,49.86204797111111,56.835424062222216,63.80880015333333,70.78217624444444,77.75555233555556,84.72892842666667,91.70230451777778,98.67568060888888,105.6490567,112.62243279111112,119.59580888222223,126.56918497333334,133.54256106444444,140.51593715555555,147.48931324666668,154.4626893377778,161.4360654288889,168.40944152,175.38281761111114,182.35619370222224,189.32956979333335,196.30294588444445,203.27632197555556,210.24969806666667,217.2230741577778,224.1964502488889,231.16982634000001,238.14320243111112,245.11657852222223,252.08995461333336,259.06333070444447,266.0367067955556,273.0100828866667,279.9834589777778,286.9568350688889,293.93021116,300.9035872511111,307.87696334222227,314.8503394333334,321.8237155244445,328.7970916155556,335.7704677066667,342.7438437977778,349.7172198888889,356.69059598,363.6639720711111,370.6373481622222,377.61072425333333,384.5841003444445,391.5574764355556,398.5308525266667,405.5042286177778,412.4776047088889,419.4509808,426.42435689111113,433.39773298222224,440.37110907333334,447.34448516444445,454.3178612555556,461.2912373466667,468.2646134377778,475.23798952888893,482.21136562000004,489.18474171111114,496.15811780222225,503.13149389333336,510.10486998444446,517.0782460755555,524.0516221666667,531.0249982577778,537.9983743488889,544.97175044,551.9451265311111,558.9185026222221,565.8918787133333,572.8652548044445,579.8386308955555,586.8120069866667,593.7853830777777,600.7587591688889,607.73213526,614.7055113511111,621.6788874422222,628.6522635333333,635.6256396244444,642.5990157155555,649.5723918066667,656.5457678977778,663.5191439888889,670.49252008,677.4658961711111,684.4392722622222,691.4126483533333,698.3860244444444,705.3594005355556,712.3327766266666,719.3061527177778,726.2795288088889,733.2529049],\"y\":[0.0005014985010399331,0.0005107087226468091,0.0005198185576331375,0.0005288728887829842,0.0005379217812527027,0.0005470201023846609,0.0005562270619405201,0.000565605675475315,0.0005752221547544579,0.0005851452302797655,0.0005954454121190879,0.0006061941963085072,0.0006174632250982139,0.0006293234102255447,0.0006418440292047551,0.000655091805307644,0.0006691299824584464,0.0006840174066685182,0.0006998076258813875,0.0007165480201790431,0.0007342789742106091,0.0007530331034420936,0.0007728345453905526,0.0007936983264004283,0.0008156298137492772,0.0008386242619426321,0.0008626664609839963,0.0008877304931991193,0.0009137796038693163,0.0009407661895044015,0.0009686319060815152,0.0009973078980130752,0.0010267151470080408,0.0010567649383793555,0.0010873594407512874,0.0011183923935580299,0.0011497498952239265,0.001181311283499972,0.0012129500981237797,0.001244535114792579,0.0012759314384107757,0.0013070016427127354,0.0013376069426828347,0.0013676083857106325,0.001396868047138402,0.0014252502157870185,0.0014526225551866059,0.0014788572265892759,0.001503831960397821,0.0015274310633980766,0.0015495463501220784,0.0015700779877790517,0.0015889352454537533,0.0016060371396660411,0.0016213129698888146,0.0016347027392087908,0.0016461574569596655,0.001655639321832817,0.0016631217856491844,0.0016685894996297038,0.001672038146603736,0.0016734741641194054,0.001672914364842414,0.0016703854619284342,0.0016659235082088827,0.001659573259023664,0.0016513874693534947,0.0016414261365380778,0.0016297557003075588,0.0016164482120998636,0.0016015804856856974,0.001585233240979749,0.0015674902525879809,0.0015484375141369214,0.0015281624287647713,0.0015067530353416012,0.0014842972790450643,0.0014608823338687388,0.001436593983503932,0.001411516065834917,0.0013857299850451366,0.0013593142940710923,0.0013323443488841458,0.0013048920348504717,0.0012770255642366622,0.0012488093428125327,0.001220303902470872,0.001191565895851736,0.0011626481481392826,0.0011335997605026675,0.0011044662590868662,0.0010752897830294838,0.0010461093046880865,0.0010169608751087076,0.0009878778877471376,0.0009588913535647403,0.0009300301808522387,0.0009013214534782191,0.0008727907017026831,0.0008444621602265205],\"type\":\"scatter\",\"xaxis\":\"x\",\"yaxis\":\"y\"},{\"line\":{\"color\":\"green\",\"dash\":\"dash\"},\"mode\":\"lines\",\"name\":\"Mean - Test Case 3 - Non-AI\",\"x\":[433.6554708466667,433.6554708466667],\"y\":[0,0.0016734741641194054],\"type\":\"scatter\",\"xaxis\":\"x\",\"yaxis\":\"y\"},{\"line\":{\"color\":\"green\",\"width\":2},\"mode\":\"lines\",\"name\":\"Test Case 3 - Non-AI\",\"x\":[14.416666670000001,15.053030306363638,15.689393942727275,16.32575757909091,16.962121215454548,17.598484851818185,18.234848488181818,18.871212124545455,19.50757576090909,20.143939397272728,20.780303033636365,21.41666667,22.053030306363638,22.689393942727275,23.32575757909091,23.962121215454545,24.598484851818185,25.234848488181818,25.87121212454546,26.50757576090909,27.143939397272728,27.780303033636365,28.41666667,29.053030306363638,29.689393942727275,30.32575757909091,30.962121215454548,31.59848485181818,32.23484848818182,32.87121212454545,33.50757576090909,34.14393939727273,34.780303033636365,35.41666667,36.05303030636364,36.68939394272728,37.32575757909091,37.962121215454545,38.598484851818185,39.23484848818182,39.87121212454545,40.50757576090909,41.14393939727273,41.780303033636365,42.41666667,43.05303030636364,43.68939394272728,44.32575757909091,44.962121215454545,45.598484851818185,46.23484848818182,46.87121212454545,47.50757576090909,48.14393939727273,48.78030303363636,49.41666667,50.05303030636364,50.68939394272728,51.325757579090904,51.962121215454545,52.598484851818185,53.234848488181825,53.87121212454545,54.50757576090909,55.14393939727273,55.78030303363636,56.41666667,57.05303030636364,57.68939394272728,58.325757579090904,58.962121215454545,59.598484851818185,60.234848488181825,60.87121212454545,61.50757576090909,62.14393939727273,62.78030303363636,63.41666667,64.05303030636364,64.68939394272728,65.3257575790909,65.96212121545454,66.59848485181818,67.23484848818183,67.87121212454545,68.50757576090909,69.14393939727273,69.78030303363636,70.41666667,71.05303030636364,71.68939394272728,72.3257575790909,72.96212121545454,73.59848485181818,74.23484848818183,74.87121212454545,75.50757576090909,76.14393939727273,76.78030303363636,77.41666667],\"y\":[0.008698472667631041,0.009230360762174868,0.009769353840902903,0.010313198000354616,0.010859522798331916,0.011405864956869988,0.011949694454757725,0.012488442634248805,0.013019531885517197,0.013540406418779764,0.014048563589631904,0.014541585209641657,0.015017168253012112,0.015473154362251414,0.01590755756205008,0.016318589611351023,0.016704682458900735,0.01706450731696932,0.017396989930581214,0.017701321694257862,0.01797696635330553,0.018223662120104858,0.018441419135394533,0.01863051230767373,0.018791469667891966,0.01892505647877568,0.019032255435673592,0.01911424338598009,0.019172365074467793,0.01920810448992034,0.019223054442312457,0.01921888503782862,0.01919731174007566,0.019160063709242062,0.01910885309651285,0.019045345939112727,0.018971135252789935,0.01888771685473695,0.018796468372701186,0.018698631807606187,0.018595299919961672,0.01848740660753064,0.01837572133615855,0.018260847580447787,0.01814322512915223,0.01802313601472468,0.017900713740110562,0.017775955401075752,0.017648736241130194,0.017518826130057015,0.017385907427269687,0.0172495936782516,0.01710944859618512,0.016965004801002697,0.01681578182341919,0.016661302930476442,0.016501110389767207,0.016334778859476942,0.016161926668092432,0.015982224828313497,0.01579540371153559,0.015601257389448729,0.0153996457251571,0.015190494365325862,0.014973792845078712,0.014749591066955677,0.01451799445288509,0.014279158092989536,0.014033280226789534,0.013780595391139072,0.013521367555644107,0.013255883541435547,0.01298444698443,0.012707373061368037,0.012424984147962167,0.01213760652555973,0.011845568198038978,0.011549197826397243,0.011248824736738772,0.010944779910022878,0.010637397820637193,0.010327018956956544,0.010013992831530856,0.00969868127204122,0.009381461776918204,0.009062730721405649,0.008742906210400529,0.00842243039281377,0.00810177107741817,0.007781422520901667,0.007461905293698538,0.007143765166609707,0.00682757099970116,0.00651391165298159,0.006203391974492886,0.005896627954433599,0.005594241162694205,0.005296852610850401,0.005005076197612846,0.004719511908593019],\"type\":\"scatter\",\"xaxis\":\"x2\",\"yaxis\":\"y2\"},{\"line\":{\"color\":\"green\",\"dash\":\"dash\"},\"mode\":\"lines\",\"name\":\"Mean - Test Case 3 - Non-AI\",\"x\":[42.06666666833334,42.06666666833334],\"y\":[0,0.019223054442312457],\"type\":\"scatter\",\"xaxis\":\"x2\",\"yaxis\":\"y2\"},{\"line\":{\"color\":\"red\",\"width\":2},\"mode\":\"lines\",\"name\":\"Test Case 3 - AI\",\"x\":[0.0,3.1753965434343434,6.350793086868687,9.52618963030303,12.701586173737374,15.876982717171717,19.05237926060606,22.227775804040405,25.403172347474747,28.57856889090909,31.753965434343435,34.92936197777778,38.10475852121212,41.280155064646465,44.45555160808081,47.63094815151515,50.806344694949495,53.98174123838384,57.15713778181818,60.332534325252524,63.50793086868687,66.68332741212122,69.85872395555556,73.03412049898989,76.20951704242424,79.38491358585858,82.56031012929293,85.73570667272728,88.91110321616162,92.08649975959595,95.2618963030303,98.43729284646464,101.61268938989899,104.78808593333333,107.96348247676768,111.13887902020203,114.31427556363636,117.4896721070707,120.66506865050505,123.8404651939394,127.01586173737374,130.19125828080809,133.36665482424243,136.54205136767678,139.71744791111112,142.89284445454544,146.06824099797979,149.24363754141413,152.41903408484848,155.59443062828282,158.76982717171717,161.9452237151515,165.12062025858586,168.2960168020202,171.47141334545455,174.6468098888889,177.82220643232324,180.9976029757576,184.1729995191919,187.34839606262625,190.5237926060606,193.69918914949494,196.8745856929293,200.04998223636363,203.22537877979798,206.40077532323232,209.57617186666667,212.75156841010102,215.92696495353536,219.1023614969697,222.27775804040405,225.45315458383837,228.62855112727271,231.80394767070706,234.9793442141414,238.15474075757575,241.3301373010101,244.50553384444444,247.6809303878788,250.85632693131313,254.03172347474748,257.2071200181818,260.38251656161617,263.5579131050505,266.73330964848486,269.9087061919192,273.08410273535355,276.25949927878787,279.43489582222224,282.61029236565656,285.7856889090909,288.96108545252525,292.13648199595957,295.31187853939394,298.48727508282826,301.66267162626264,304.83806816969695,308.0134647131313,311.18886125656564,314.3642578],\"y\":[0.001559974592932355,0.001602009187597942,0.0016437387137056704,0.0016851050915592392,0.001726051099077679,0.0017665205465035394,0.0018064584561823074,0.0018458112482375958,0.0018845269327610068,0.001922555308873783,0.001959848170703529,0.00199635951995932,0.0020320457843898397,0.0020668660409808768,0.002100782242300861,0.002133759443947675,0.0021657660305990437,0.002196773937735405,0.0022267588657014495,0.0022557004824137424,0.002283582610719675,0.0023103933961795137,0.0023361254508893676,0.002360775968897982,0.002384346808802086,0.0024068445392393936,0.002428280443238704,0.002448670477734066,0.0024680351850032466,0.002486399553345804,0.00250379282496637,0.0025202482497652724,0.0025358027845499326,0.002550496738053044,0.002564373363061761,0.0025774783979090467,0.0025898595605354457,0.0026015659992777856,0.0026126477054608747,0.002623154893739675,0.0026331373569433917,0.0026426438028911998,0.0026517211812650083,0.0026604140091225446,0.0026687637040010096,0.002676807933787056,0.002684579992604888,0.002692108211895862,0.002699415415628254,0.0027065184281858923,0.002713427642943595,0.002720146658853179,0.0027266719915464907,0.002732992864524564,0.002739091084960094,0.0027449410075114497,0.002750509588349938,0.00275575653035844,0.002760634519190566,0.002765089548607074,0.002769061332252387,0.0027724837978201963,0.002775285658403847,0.0027773910547537763,0.002778720261188217,0.0027791904470402013,0.002778716484786857,0.002777211795406633,0.0027745892210545254,0.002770761914839685,0.002765644237336315,0.002759152649457159,0.0027512065914658272,0.0027417293381941186,0.00273064882095515,0.002717898407192364,0.002703417629566178,0.002687152856940588,0.0026690579005765698,0.0026490945497518533,0.0026272330319913706,0.0026034523940928677,0.0025777408011514575,0.00255009575180942,0.0025205242089680257,0.0024890426461824035,0.0024556770109053316,0.0024204626066396963,0.002383443896891844,0.002344674234580688,0.002304215521243014,0.002262137800978819,0.0022185187945977817,0.0021734433798571606,0.002127003024021832,0.002079295175229562,0.002030422619311087,0.0019804928087982228,0.0019296171708582412,0.001877910400824067],\"type\":\"scatter\",\"xaxis\":\"x\",\"yaxis\":\"y\"},{\"line\":{\"color\":\"red\",\"dash\":\"dash\"},\"mode\":\"lines\",\"name\":\"Mean - Test Case 3 - AI\",\"x\":[164.21412928383333,164.21412928383333],\"y\":[0,0.0027791904470402013],\"type\":\"scatter\",\"xaxis\":\"x\",\"yaxis\":\"y\"},{\"line\":{\"color\":\"red\",\"width\":2},\"mode\":\"lines\",\"name\":\"Test Case 3 - AI\",\"x\":[0.0,0.5845117845454546,1.1690235690909092,1.7535353536363638,2.3380471381818184,2.922558922727273,3.5070707072727276,4.0915824918181825,4.676094276363637,5.260606060909091,5.845117845454546,6.429629630000001,7.014141414545455,7.59865319909091,8.183164983636365,8.767676768181818,9.352188552727274,9.936700337272729,10.521212121818182,11.105723906363638,11.690235690909091,12.274747475454546,12.859259260000002,13.443771044545455,14.02828282909091,14.612794613636366,15.19730639818182,15.781818182727275,16.36632996727273,16.950841751818185,17.535353536363637,18.119865320909092,18.704377105454547,19.288888890000003,19.873400674545458,20.45791245909091,21.042424243636365,21.62693602818182,22.211447812727275,22.79595959727273,23.380471381818182,23.964983166363638,24.549494950909093,25.134006735454548,25.718518520000003,26.30303030454546,26.88754208909091,27.472053873636366,28.05656565818182,28.641077442727276,29.22558922727273,29.810101011818183,30.39461279636364,30.979124580909094,31.56363636545455,32.148148150000004,32.73265993454546,33.317171719090915,33.90168350363637,34.48619528818182,35.070707072727274,35.65521885727273,36.239730641818184,36.82424242636364,37.408754210909095,37.99326599545455,38.577777780000005,39.16228956454546,39.746801349090916,40.33131313363637,40.91582491818182,41.500336702727274,42.08484848727273,42.669360271818185,43.25387205636364,43.838383840909096,44.42289562545455,45.007407410000006,45.59191919454546,46.17643097909092,46.760942763636365,47.34545454818182,47.929966332727275,48.51447811727273,49.098989901818186,49.68350168636364,50.268013470909096,50.85252525545455,51.43703704000001,52.02154882454546,52.60606060909092,53.190572393636366,53.77508417818182,54.359595962727276,54.94410774727273,55.52861953181819,56.11313131636364,56.6976431009091,57.28215488545455,57.86666667],\"y\":[0.007264924151233114,0.007746657187029773,0.008241593189167302,0.008748566328121774,0.009266311971062974,0.009793474238517846,0.0103286142241095,0.010870218722874978,0.011416709315029087,0.011966451659489237,0.01251776486474547,0.01306893082321397,0.013618203418247281,0.014163817539443917,0.014703997870548212,0.015236967443641669,0.01576095598197906,0.016274208080157164,0.016774991292794996,0.017261604220131867,0.01773238468967336,0.018185718136242146,0.018620046277837213,0.0190338761712445,0.01942578970944332,0.01979445359299633,0.020138629770692064,0.020457186302018694,0.02074910854723667,0.02101351054183806,0.021249646363217235,0.021456921250758182,0.0216349021986453,0.021783327705846314,0.021902116342056934,0.02199137377382991,0.02205139789316975,0.022082681702647627,0.022085913637156663,0.022061975042805854,0.022011934587577577,0.021937039445102308,0.02183870317052949,0.02171849027378171,0.021578097587819523,0.02141933262492359,0.021244089209190686,0.021054320765102285,0.02085201172683521,0.02063914760776766,0.020417684331488876,0.020189517472033576,0.01995645208001356,0.019720173781363697,0.01948222182574927,0.019243964732160668,0.01900657913039467,0.018771032330198466,0.01853806906666496,0.018308202773400718,0.018081711626895855,0.017858639489625468,0.01763880175917054,0.017421796009653212,0.01720701719362492,0.016993677060691582,0.0167808273468317,0.016567386198442117,0.016352167220080087,0.016133910476604174,0.01591131474034079,0.015683070252824977,0.01544789126879785,0.015204547667123505,0.014951894948200576,0.014688901988873508,0.014414675991942138,0.014128484145910131,0.013829771599104453,0.013518175448049563,0.013193534540195818,0.01285589499297132,0.012505511431907522,0.012142844047684195,0.011768551662966985,0.01138348108276105,0.010988653074889037,0.010585245388687079,0.010174573269044163,0.009758067958820865,0.009337253705193716,0.008913723794675203,0.008489116137902418,0.008065088909534932,0.007643296721800249,0.0072253677736559005,0.0068128823726692905,0.006407353175154766,0.006010207433539798,0.005622771480077133],\"type\":\"scatter\",\"xaxis\":\"x2\",\"yaxis\":\"y2\"},{\"line\":{\"color\":\"red\",\"dash\":\"dash\"},\"mode\":\"lines\",\"name\":\"Mean - Test Case 3 - AI\",\"x\":[27.094444445500002,27.094444445500002],\"y\":[0,0.022085913637156663],\"type\":\"scatter\",\"xaxis\":\"x2\",\"yaxis\":\"y2\"}],                        {\"template\":{\"data\":{\"histogram2dcontour\":[{\"type\":\"histogram2dcontour\",\"colorbar\":{\"outlinewidth\":0,\"ticks\":\"\"},\"colorscale\":[[0.0,\"#0d0887\"],[0.1111111111111111,\"#46039f\"],[0.2222222222222222,\"#7201a8\"],[0.3333333333333333,\"#9c179e\"],[0.4444444444444444,\"#bd3786\"],[0.5555555555555556,\"#d8576b\"],[0.6666666666666666,\"#ed7953\"],[0.7777777777777778,\"#fb9f3a\"],[0.8888888888888888,\"#fdca26\"],[1.0,\"#f0f921\"]]}],\"choropleth\":[{\"type\":\"choropleth\",\"colorbar\":{\"outlinewidth\":0,\"ticks\":\"\"}}],\"histogram2d\":[{\"type\":\"histogram2d\",\"colorbar\":{\"outlinewidth\":0,\"ticks\":\"\"},\"colorscale\":[[0.0,\"#0d0887\"],[0.1111111111111111,\"#46039f\"],[0.2222222222222222,\"#7201a8\"],[0.3333333333333333,\"#9c179e\"],[0.4444444444444444,\"#bd3786\"],[0.5555555555555556,\"#d8576b\"],[0.6666666666666666,\"#ed7953\"],[0.7777777777777778,\"#fb9f3a\"],[0.8888888888888888,\"#fdca26\"],[1.0,\"#f0f921\"]]}],\"heatmap\":[{\"type\":\"heatmap\",\"colorbar\":{\"outlinewidth\":0,\"ticks\":\"\"},\"colorscale\":[[0.0,\"#0d0887\"],[0.1111111111111111,\"#46039f\"],[0.2222222222222222,\"#7201a8\"],[0.3333333333333333,\"#9c179e\"],[0.4444444444444444,\"#bd3786\"],[0.5555555555555556,\"#d8576b\"],[0.6666666666666666,\"#ed7953\"],[0.7777777777777778,\"#fb9f3a\"],[0.8888888888888888,\"#fdca26\"],[1.0,\"#f0f921\"]]}],\"heatmapgl\":[{\"type\":\"heatmapgl\",\"colorbar\":{\"outlinewidth\":0,\"ticks\":\"\"},\"colorscale\":[[0.0,\"#0d0887\"],[0.1111111111111111,\"#46039f\"],[0.2222222222222222,\"#7201a8\"],[0.3333333333333333,\"#9c179e\"],[0.4444444444444444,\"#bd3786\"],[0.5555555555555556,\"#d8576b\"],[0.6666666666666666,\"#ed7953\"],[0.7777777777777778,\"#fb9f3a\"],[0.8888888888888888,\"#fdca26\"],[1.0,\"#f0f921\"]]}],\"contourcarpet\":[{\"type\":\"contourcarpet\",\"colorbar\":{\"outlinewidth\":0,\"ticks\":\"\"}}],\"contour\":[{\"type\":\"contour\",\"colorbar\":{\"outlinewidth\":0,\"ticks\":\"\"},\"colorscale\":[[0.0,\"#0d0887\"],[0.1111111111111111,\"#46039f\"],[0.2222222222222222,\"#7201a8\"],[0.3333333333333333,\"#9c179e\"],[0.4444444444444444,\"#bd3786\"],[0.5555555555555556,\"#d8576b\"],[0.6666666666666666,\"#ed7953\"],[0.7777777777777778,\"#fb9f3a\"],[0.8888888888888888,\"#fdca26\"],[1.0,\"#f0f921\"]]}],\"surface\":[{\"type\":\"surface\",\"colorbar\":{\"outlinewidth\":0,\"ticks\":\"\"},\"colorscale\":[[0.0,\"#0d0887\"],[0.1111111111111111,\"#46039f\"],[0.2222222222222222,\"#7201a8\"],[0.3333333333333333,\"#9c179e\"],[0.4444444444444444,\"#bd3786\"],[0.5555555555555556,\"#d8576b\"],[0.6666666666666666,\"#ed7953\"],[0.7777777777777778,\"#fb9f3a\"],[0.8888888888888888,\"#fdca26\"],[1.0,\"#f0f921\"]]}],\"mesh3d\":[{\"type\":\"mesh3d\",\"colorbar\":{\"outlinewidth\":0,\"ticks\":\"\"}}],\"scatter\":[{\"fillpattern\":{\"fillmode\":\"overlay\",\"size\":10,\"solidity\":0.2},\"type\":\"scatter\"}],\"parcoords\":[{\"type\":\"parcoords\",\"line\":{\"colorbar\":{\"outlinewidth\":0,\"ticks\":\"\"}}}],\"scatterpolargl\":[{\"type\":\"scatterpolargl\",\"marker\":{\"colorbar\":{\"outlinewidth\":0,\"ticks\":\"\"}}}],\"bar\":[{\"error_x\":{\"color\":\"#2a3f5f\"},\"error_y\":{\"color\":\"#2a3f5f\"},\"marker\":{\"line\":{\"color\":\"#E5ECF6\",\"width\":0.5},\"pattern\":{\"fillmode\":\"overlay\",\"size\":10,\"solidity\":0.2}},\"type\":\"bar\"}],\"scattergeo\":[{\"type\":\"scattergeo\",\"marker\":{\"colorbar\":{\"outlinewidth\":0,\"ticks\":\"\"}}}],\"scatterpolar\":[{\"type\":\"scatterpolar\",\"marker\":{\"colorbar\":{\"outlinewidth\":0,\"ticks\":\"\"}}}],\"histogram\":[{\"marker\":{\"pattern\":{\"fillmode\":\"overlay\",\"size\":10,\"solidity\":0.2}},\"type\":\"histogram\"}],\"scattergl\":[{\"type\":\"scattergl\",\"marker\":{\"colorbar\":{\"outlinewidth\":0,\"ticks\":\"\"}}}],\"scatter3d\":[{\"type\":\"scatter3d\",\"line\":{\"colorbar\":{\"outlinewidth\":0,\"ticks\":\"\"}},\"marker\":{\"colorbar\":{\"outlinewidth\":0,\"ticks\":\"\"}}}],\"scattermapbox\":[{\"type\":\"scattermapbox\",\"marker\":{\"colorbar\":{\"outlinewidth\":0,\"ticks\":\"\"}}}],\"scatterternary\":[{\"type\":\"scatterternary\",\"marker\":{\"colorbar\":{\"outlinewidth\":0,\"ticks\":\"\"}}}],\"scattercarpet\":[{\"type\":\"scattercarpet\",\"marker\":{\"colorbar\":{\"outlinewidth\":0,\"ticks\":\"\"}}}],\"carpet\":[{\"aaxis\":{\"endlinecolor\":\"#2a3f5f\",\"gridcolor\":\"white\",\"linecolor\":\"white\",\"minorgridcolor\":\"white\",\"startlinecolor\":\"#2a3f5f\"},\"baxis\":{\"endlinecolor\":\"#2a3f5f\",\"gridcolor\":\"white\",\"linecolor\":\"white\",\"minorgridcolor\":\"white\",\"startlinecolor\":\"#2a3f5f\"},\"type\":\"carpet\"}],\"table\":[{\"cells\":{\"fill\":{\"color\":\"#EBF0F8\"},\"line\":{\"color\":\"white\"}},\"header\":{\"fill\":{\"color\":\"#C8D4E3\"},\"line\":{\"color\":\"white\"}},\"type\":\"table\"}],\"barpolar\":[{\"marker\":{\"line\":{\"color\":\"#E5ECF6\",\"width\":0.5},\"pattern\":{\"fillmode\":\"overlay\",\"size\":10,\"solidity\":0.2}},\"type\":\"barpolar\"}],\"pie\":[{\"automargin\":true,\"type\":\"pie\"}]},\"layout\":{\"autotypenumbers\":\"strict\",\"colorway\":[\"#636efa\",\"#EF553B\",\"#00cc96\",\"#ab63fa\",\"#FFA15A\",\"#19d3f3\",\"#FF6692\",\"#B6E880\",\"#FF97FF\",\"#FECB52\"],\"font\":{\"color\":\"#2a3f5f\"},\"hovermode\":\"closest\",\"hoverlabel\":{\"align\":\"left\"},\"paper_bgcolor\":\"white\",\"plot_bgcolor\":\"#E5ECF6\",\"polar\":{\"bgcolor\":\"#E5ECF6\",\"angularaxis\":{\"gridcolor\":\"white\",\"linecolor\":\"white\",\"ticks\":\"\"},\"radialaxis\":{\"gridcolor\":\"white\",\"linecolor\":\"white\",\"ticks\":\"\"}},\"ternary\":{\"bgcolor\":\"#E5ECF6\",\"aaxis\":{\"gridcolor\":\"white\",\"linecolor\":\"white\",\"ticks\":\"\"},\"baxis\":{\"gridcolor\":\"white\",\"linecolor\":\"white\",\"ticks\":\"\"},\"caxis\":{\"gridcolor\":\"white\",\"linecolor\":\"white\",\"ticks\":\"\"}},\"coloraxis\":{\"colorbar\":{\"outlinewidth\":0,\"ticks\":\"\"}},\"colorscale\":{\"sequential\":[[0.0,\"#0d0887\"],[0.1111111111111111,\"#46039f\"],[0.2222222222222222,\"#7201a8\"],[0.3333333333333333,\"#9c179e\"],[0.4444444444444444,\"#bd3786\"],[0.5555555555555556,\"#d8576b\"],[0.6666666666666666,\"#ed7953\"],[0.7777777777777778,\"#fb9f3a\"],[0.8888888888888888,\"#fdca26\"],[1.0,\"#f0f921\"]],\"sequentialminus\":[[0.0,\"#0d0887\"],[0.1111111111111111,\"#46039f\"],[0.2222222222222222,\"#7201a8\"],[0.3333333333333333,\"#9c179e\"],[0.4444444444444444,\"#bd3786\"],[0.5555555555555556,\"#d8576b\"],[0.6666666666666666,\"#ed7953\"],[0.7777777777777778,\"#fb9f3a\"],[0.8888888888888888,\"#fdca26\"],[1.0,\"#f0f921\"]],\"diverging\":[[0,\"#8e0152\"],[0.1,\"#c51b7d\"],[0.2,\"#de77ae\"],[0.3,\"#f1b6da\"],[0.4,\"#fde0ef\"],[0.5,\"#f7f7f7\"],[0.6,\"#e6f5d0\"],[0.7,\"#b8e186\"],[0.8,\"#7fbc41\"],[0.9,\"#4d9221\"],[1,\"#276419\"]]},\"xaxis\":{\"gridcolor\":\"white\",\"linecolor\":\"white\",\"ticks\":\"\",\"title\":{\"standoff\":15},\"zerolinecolor\":\"white\",\"automargin\":true,\"zerolinewidth\":2},\"yaxis\":{\"gridcolor\":\"white\",\"linecolor\":\"white\",\"ticks\":\"\",\"title\":{\"standoff\":15},\"zerolinecolor\":\"white\",\"automargin\":true,\"zerolinewidth\":2},\"scene\":{\"xaxis\":{\"backgroundcolor\":\"#E5ECF6\",\"gridcolor\":\"white\",\"linecolor\":\"white\",\"showbackground\":true,\"ticks\":\"\",\"zerolinecolor\":\"white\",\"gridwidth\":2},\"yaxis\":{\"backgroundcolor\":\"#E5ECF6\",\"gridcolor\":\"white\",\"linecolor\":\"white\",\"showbackground\":true,\"ticks\":\"\",\"zerolinecolor\":\"white\",\"gridwidth\":2},\"zaxis\":{\"backgroundcolor\":\"#E5ECF6\",\"gridcolor\":\"white\",\"linecolor\":\"white\",\"showbackground\":true,\"ticks\":\"\",\"zerolinecolor\":\"white\",\"gridwidth\":2}},\"shapedefaults\":{\"line\":{\"color\":\"#2a3f5f\"}},\"annotationdefaults\":{\"arrowcolor\":\"#2a3f5f\",\"arrowhead\":0,\"arrowwidth\":1},\"geo\":{\"bgcolor\":\"white\",\"landcolor\":\"#E5ECF6\",\"subunitcolor\":\"white\",\"showland\":true,\"showlakes\":true,\"lakecolor\":\"white\"},\"title\":{\"x\":0.05},\"mapbox\":{\"style\":\"light\"}}},\"xaxis\":{\"anchor\":\"y\",\"domain\":[0.0,0.45],\"title\":{\"text\":\"Data Usage (MB)\"}},\"yaxis\":{\"anchor\":\"x\",\"domain\":[0.0,1.0],\"title\":{\"text\":\"Density\"}},\"xaxis2\":{\"anchor\":\"y2\",\"domain\":[0.55,1.0],\"title\":{\"text\":\"Duration (minutes)\"}},\"yaxis2\":{\"anchor\":\"x2\",\"domain\":[0.0,1.0],\"title\":{\"text\":\"Density\"}},\"annotations\":[{\"font\":{\"size\":16},\"showarrow\":false,\"text\":\"Test Case 3 - Data Usage\",\"x\":0.225,\"xanchor\":\"center\",\"xref\":\"paper\",\"y\":1.0,\"yanchor\":\"bottom\",\"yref\":\"paper\"},{\"font\":{\"size\":16},\"showarrow\":false,\"text\":\"Test Case 3 - Duration\",\"x\":0.775,\"xanchor\":\"center\",\"xref\":\"paper\",\"y\":1.0,\"yanchor\":\"bottom\",\"yref\":\"paper\"},{\"arrowhead\":1,\"ax\":0,\"ay\":-20,\"font\":{\"color\":\"green\"},\"showarrow\":true,\"text\":\"Mean: 433.66\",\"x\":433.6554708466667,\"xref\":\"x\",\"y\":0.001506126747707465,\"yref\":\"y\"},{\"arrowhead\":1,\"ax\":0,\"ay\":-20,\"font\":{\"color\":\"green\"},\"showarrow\":true,\"text\":\"Mean: 42.07\",\"x\":42.06666666833334,\"xref\":\"x2\",\"y\":0.017300748998081213,\"yref\":\"y2\"},{\"arrowhead\":1,\"ax\":0,\"ay\":-20,\"font\":{\"color\":\"red\"},\"showarrow\":true,\"text\":\"Mean: 164.21\",\"x\":164.21412928383333,\"xref\":\"x\",\"y\":0.002501271402336181,\"yref\":\"y\"},{\"arrowhead\":1,\"ax\":0,\"ay\":-20,\"font\":{\"color\":\"red\"},\"showarrow\":true,\"text\":\"Mean: 27.09\",\"x\":27.094444445500002,\"xref\":\"x2\",\"y\":0.019877322273441,\"yref\":\"y2\"}],\"title\":{\"text\":\"Probability Density Function of Test Case 3 by AI Utilization with Means\"},\"width\":1200,\"height\":500},                        {\"responsive\": true}                    ).then(function(){\n",
              "                            \n",
              "var gd = document.getElementById('c3838d5c-db95-42e4-988a-e1294778fd16');\n",
              "var x = new MutationObserver(function (mutations, observer) {{\n",
              "        var display = window.getComputedStyle(gd).display;\n",
              "        if (!display || display === 'none') {{\n",
              "            console.log([gd, 'removed!']);\n",
              "            Plotly.purge(gd);\n",
              "            observer.disconnect();\n",
              "        }}\n",
              "}});\n",
              "\n",
              "// Listen for the removal of the full notebook cells\n",
              "var notebookContainer = gd.closest('#notebook-container');\n",
              "if (notebookContainer) {{\n",
              "    x.observe(notebookContainer, {childList: true});\n",
              "}}\n",
              "\n",
              "// Listen for the clearing of the current output cell\n",
              "var outputEl = gd.closest('.output');\n",
              "if (outputEl) {{\n",
              "    x.observe(outputEl, {childList: true});\n",
              "}}\n",
              "\n",
              "                        })                };                            </script>        </div>\n",
              "</body>\n",
              "</html>"
            ]
          },
          "metadata": {}
        }
      ]
    },
    {
      "cell_type": "code",
      "source": [
        "import plotly.graph_objects as go\n",
        "import numpy as np\n",
        "from scipy.stats import gaussian_kde\n",
        "\n",
        "test_case_2_ai_0_data_usage = test_case_2_ai_0['data_usage_total_MB']\n",
        "test_case_2_ai_1_data_usage = test_case_2_ai_1['data_usage_total_MB']\n",
        "test_case_3_ai_0_data_usage = test_case_3_ai_0['data_usage_total_MB']\n",
        "test_case_3_ai_1_data_usage = test_case_3_ai_1['data_usage_total_MB']\n",
        "\n",
        "# Function to calculate KDE with non-negative x_values\n",
        "def get_density_curve(data):\n",
        "    kde = gaussian_kde(data)\n",
        "    x_min = max(0, min(data) - 10)  # Ensure minimum is non-negative\n",
        "    x_values = np.linspace(x_min, max(data) + 10, 100)  # Generate x values across the range of data\n",
        "    y_values = kde(x_values)  # Get the density values for each x\n",
        "    return x_values, y_values\n",
        "\n",
        "# Calculate density curves and means for each group\n",
        "x_non_ai_test2, y_non_ai_test2 = get_density_curve(test_case_2_ai_0_data_usage)\n",
        "mean_non_ai_test2 = np.mean(test_case_2_ai_0_data_usage)\n",
        "\n",
        "x_ai_test2, y_ai_test2 = get_density_curve(test_case_2_ai_1_data_usage)\n",
        "mean_ai_test2 = np.mean(test_case_2_ai_1_data_usage)\n",
        "\n",
        "x_non_ai_test3, y_non_ai_test3 = get_density_curve(test_case_3_ai_0_data_usage)\n",
        "mean_non_ai_test3 = np.mean(test_case_3_ai_0_data_usage)\n",
        "\n",
        "x_ai_test3, y_ai_test3 = get_density_curve(test_case_3_ai_1_data_usage)\n",
        "mean_ai_test3 = np.mean(test_case_3_ai_1_data_usage)\n",
        "\n",
        "# Create the interactive density plot\n",
        "fig = go.Figure()\n",
        "\n",
        "# Add each KDE trace\n",
        "fig.add_trace(go.Scatter(x=x_non_ai_test2, y=y_non_ai_test2, mode='lines', name=\"Test Case 2 - Non-AI\", line=dict(color='blue')))\n",
        "fig.add_trace(go.Scatter(x=x_ai_test2, y=y_ai_test2, mode='lines', name=\"Test Case 2 - AI\", line=dict(color='orange')))\n",
        "fig.add_trace(go.Scatter(x=x_non_ai_test3, y=y_non_ai_test3, mode='lines', name=\"Test Case 3 - Non-AI\", line=dict(color='green')))\n",
        "fig.add_trace(go.Scatter(x=x_ai_test3, y=y_ai_test3, mode='lines', name=\"Test Case 3 - AI\", line=dict(color='red')))\n",
        "\n",
        "# Add vertical lines and annotations for each mean\n",
        "fig.add_shape(type=\"line\", x0=mean_non_ai_test2, y0=0, x1=mean_non_ai_test2, y1=max(y_non_ai_test2),\n",
        "              line=dict(color=\"blue\", dash=\"dash\"), name=\"Mean Test Case 2 - Non-AI\")\n",
        "fig.add_annotation(x=mean_non_ai_test2, y=max(y_non_ai_test2), text=f\"Mean: {mean_non_ai_test2:.2f}\", showarrow=True, arrowhead=1, ax=20, ay=-20, font=dict(color=\"blue\"))\n",
        "\n",
        "fig.add_shape(type=\"line\", x0=mean_ai_test2, y0=0, x1=mean_ai_test2, y1=max(y_ai_test2),\n",
        "              line=dict(color=\"orange\", dash=\"dash\"), name=\"Mean Test Case 2 - AI\")\n",
        "fig.add_annotation(x=mean_ai_test2, y=max(y_ai_test2), text=f\"Mean: {mean_ai_test2:.2f}\", showarrow=True, arrowhead=1, ax=20, ay=-20, font=dict(color=\"orange\"))\n",
        "\n",
        "fig.add_shape(type=\"line\", x0=mean_non_ai_test3, y0=0, x1=mean_non_ai_test3, y1=max(y_non_ai_test3),\n",
        "              line=dict(color=\"green\", dash=\"dash\"), name=\"Mean Test Case 3 - Non-AI\")\n",
        "fig.add_annotation(x=mean_non_ai_test3, y=max(y_non_ai_test3), text=f\"Mean: {mean_non_ai_test3:.2f}\", showarrow=True, arrowhead=1, ax=20, ay=-20, font=dict(color=\"green\"))\n",
        "\n",
        "fig.add_shape(type=\"line\", x0=mean_ai_test3, y0=0, x1=mean_ai_test3, y1=max(y_ai_test3),\n",
        "              line=dict(color=\"red\", dash=\"dash\"), name=\"Mean Test Case 3 - AI\")\n",
        "fig.add_annotation(x=mean_ai_test3, y=max(y_ai_test3), text=f\"Mean: {mean_ai_test3:.2f}\", showarrow=True, arrowhead=1, ax=20, ay=-20, font=dict(color=\"red\"))\n",
        "\n",
        "# Customize layout\n",
        "fig.update_layout(\n",
        "    title=\"Probability Density Function of Data Usage by Test Case and AI Utilization with Means\",\n",
        "    xaxis_title=\"Data Usage (MB)\",\n",
        "    yaxis_title=\"Density\",\n",
        "    width=1000,\n",
        "    height=600\n",
        ")\n",
        "\n",
        "# Show the interactive figure\n",
        "fig.show()\n"
      ],
      "metadata": {
        "colab": {
          "base_uri": "https://localhost:8080/",
          "height": 617
        },
        "id": "q7n6chXjFxoU",
        "outputId": "7b961679-1f25-45b3-9cc7-2e9f659fb5a6"
      },
      "execution_count": null,
      "outputs": [
        {
          "output_type": "display_data",
          "data": {
            "text/html": [
              "<html>\n",
              "<head><meta charset=\"utf-8\" /></head>\n",
              "<body>\n",
              "    <div>            <script src=\"https://cdnjs.cloudflare.com/ajax/libs/mathjax/2.7.5/MathJax.js?config=TeX-AMS-MML_SVG\"></script><script type=\"text/javascript\">if (window.MathJax && window.MathJax.Hub && window.MathJax.Hub.Config) {window.MathJax.Hub.Config({SVG: {font: \"STIX-Web\"}});}</script>                <script type=\"text/javascript\">window.PlotlyConfig = {MathJaxConfig: 'local'};</script>\n",
              "        <script charset=\"utf-8\" src=\"https://cdn.plot.ly/plotly-2.35.2.min.js\"></script>                <div id=\"ee213099-f647-4f22-b50f-544958e38916\" class=\"plotly-graph-div\" style=\"height:600px; width:1000px;\"></div>            <script type=\"text/javascript\">                                    window.PLOTLYENV=window.PLOTLYENV || {};                                    if (document.getElementById(\"ee213099-f647-4f22-b50f-544958e38916\")) {                    Plotly.newPlot(                        \"ee213099-f647-4f22-b50f-544958e38916\",                        [{\"line\":{\"color\":\"blue\"},\"mode\":\"lines\",\"name\":\"Test Case 2 - Non-AI\",\"x\":[21.458984375,27.967635337752526,34.47628630050505,40.98493726325758,47.493588226010104,54.00223918876262,60.51089015151515,67.01954111426767,73.52819207702021,80.03684303977272,86.54549400252525,93.05414496527777,99.5627959280303,106.07144689078282,112.58009785353535,119.08874881628788,125.5973997790404,132.10605074179293,138.61470170454544,145.12335266729798,151.6320036300505,158.14065459280303,164.64930555555554,171.15795651830808,177.6666074810606,184.17525844381314,190.68390940656565,197.1925603693182,203.7012113320707,210.20986229482324,216.71851325757575,223.2271642203283,229.7358151830808,236.24446614583331,242.75311710858585,249.26176807133837,255.7704190340909,262.2790699968434,268.78772095959596,275.2963719223485,281.805022885101,288.3136738478535,294.82232481060606,301.3309757733586,307.8396267361111,314.3482776988636,320.85692866161617,327.3655796243687,333.8742305871212,340.38288154987373,346.89153251262627,353.40018347537875,359.9088344381313,366.41748540088383,372.9261363636364,379.43478732638886,385.9434382891414,392.45208925189394,398.9607402146465,405.46939117739896,411.9780421401515,418.48669310290404,424.9953440656566,431.50399502840907,438.0126459911616,444.52129695391415,451.02994791666663,457.53859887941917,464.0472498421717,470.55590080492425,477.06455176767673,483.5732027304293,490.0818536931818,496.59050465593435,503.09915561868684,509.6078065814394,516.1164575441919,522.6251085069445,529.133759469697,535.6424104324495,542.151061395202,548.6597123579545,555.168363320707,561.6770142834596,568.1856652462121,574.6943162089647,581.2029671717172,587.7116181344696,594.2202690972222,600.7289200599747,607.2375710227273,613.7462219854798,620.2548729482323,626.7635239109849,633.2721748737374,639.7808258364898,646.2894767992424,652.7981277619949,659.3067787247475,665.8154296875],\"y\":[0.0006167083088484388,0.0006325275542282101,0.0006484373629854014,0.0006644556867896538,0.000680601889053996,0.0006968964102821294,0.0007133604024626715,0.0007300153370922182,0.0007468825919728366,0.0007639830224206337,0.0007813365229294184,0.0007989615856475207,0.0008168748622386008,0.0008350907358024608,0.0008536209095252913,0.0008724740186082146,0.0008916552717884728,0.0009111661284213692,0.0009310040166375557,0.0009511620975360341,0.0009716290797269538,0.000992389087810464,0.0010134215875807094,0.001034701369891281,0.0010561985942248585,0.001077878892091265,0.0010997035294510156,0.0011216296264423187,0.0011436104317949437,0.00116559564846049,0.0011875318061907942,0.001209362676068788,0.0012310297213520608,0.0012524725784400404,0.0012736295613306483,0.0012944381825990034,0.0013148356837146605,0.0013347595674180603,0.0013541481249022328,0.001372940950690839,0.0013910794383647366,0.0014085072506605705,0.0014251707579386549,0.0014410194395840052,0.0014560062435526318,0.0014700878999925544,0.0014832251856418783,0.0014953831365202193,0.0015065312072699655,0.0015166433763551734,0.0015256981971733486,0.0015336787959644006,0.001540572818197691,0.0015463723258693552,0.0015510736488360353,0.0015546771939372811,0.0015571872162080842,0.001558611556947823,0.0015589613537866217,0.0015582507281706915,0.0015564964558725037,0.001553717626219103,0.0015499352957238058,0.0015451721417057839,0.001539452121293022,0.0015328001409325776,0.0015252417411850165,0.0015168028011653227,0.0015075092665194974,0.0014973869043039714,0.0014864610875740664,0.001474756611898388,0.0014622975454087613,0.0014491071133805736,0.0014352076177263854,0.0014206203911862139,0.0014053657854202588,0.0013894631916626413,0.001372931092085753,0.0013557871395610459,0.0013380482630895114,0.001319730795818668,0.001300850622266605,0.0012814233411403116,0.001261464439967034,0.0012409894776544547,0.001220014271057788,0.0011985550816581859,0.001176628798544875,0.0011542531140401376,0.0011314466885076757,0.0011082293011364299,0.0010846219837882848,0.0010606471353335261,0.0010363286142660603,0.0010116918077848552,0.0009867636759418325,0.0009615727698827209,0.0009361492236391766,0.0009105247193609418],\"type\":\"scatter\"},{\"line\":{\"color\":\"orange\"},\"mode\":\"lines\",\"name\":\"Test Case 2 - AI\",\"x\":[0.0,1.2513316761363635,2.502663352272727,3.753995028409091,5.005326704545454,6.2566583806818175,7.507990056818182,8.759321732954545,10.010653409090908,11.261985085227272,12.513316761363635,13.764648437499998,15.015980113636363,16.267311789772727,17.51864346590909,18.769975142045453,20.021306818181817,21.27263849431818,22.523970170454543,23.775301846590907,25.02663352272727,26.277965198863633,27.529296874999996,28.78062855113636,30.031960227272727,31.28329190340909,32.53462357954545,33.78595525568181,35.03728693181818,36.28861860795454,37.53995028409091,38.791281960227266,40.04261363636363,41.2939453125,42.54527698863636,43.79660866477273,45.047940340909086,46.29927201704545,47.55060369318181,48.80193536931818,50.05326704545454,51.30459872159091,52.555930397727266,53.80726207386363,55.05859374999999,56.30992542613636,57.56125710227272,58.812588778409086,60.06392045454545,61.31525213068181,62.56658380681818,63.81791548295454,65.0692471590909,66.32057883522727,67.57191051136363,68.8232421875,70.07457386363636,71.32590553977272,72.57723721590908,73.82856889204545,75.07990056818181,76.33123224431817,77.58256392045453,78.8338955965909,80.08522727272727,81.33655894886363,82.587890625,83.83922230113636,85.09055397727272,86.34188565340908,87.59321732954545,88.84454900568181,90.09588068181817,91.34721235795453,92.5985440340909,93.84987571022727,95.10120738636363,96.35253906249999,97.60387073863636,98.85520241477272,100.10653409090908,101.35786576704545,102.60919744318181,103.86052911931817,105.11186079545453,106.3631924715909,107.61452414772727,108.86585582386363,110.11718749999999,111.36851917613636,112.61985085227272,113.87118252840908,115.12251420454544,116.37384588068181,117.62517755681817,118.87650923295453,120.1278409090909,121.37917258522727,122.63050426136363,123.8818359375],\"y\":[0.007219002304854583,0.007265058943707656,0.007303365246963894,0.007333845810066378,0.007356455928481408,0.007371182057671151,0.007378042089299744,0.007377085440251594,0.007368392952487976,0.007352076603237067,0.007328279026488706,0.0072971728482338774,0.007258959839335896,0.007213869891331349,0.007162159821820639,0.007104112017407534,0.007040032923372441,0.006970251390404109,0.006895116889759134,0.006814997609159127,0.006730278442564206,0.006641358887672257,0.006548650865581508,0.006452576477515619,0.006353565713844032,0.006252054130834761,0.006148480510653078,0.006043284520069548,0.005936904383167901,0.005829774583051744,0.005722323607144514,0.005614971750165927,0.005508128988257682,0.005402192937029379,0.005297546905511179,0.005194558057141704,0.005093575687997466,0.00499492963149351,0.004898928797763498,0.004805859854871085,0.004715986057922655,0.004629546231053594,0.004546753906155565,0.004467796621109125,0.0043928353791928675,0.004322004270264725,0.00425541025326019,0.004193133098532697,0.0041352254875789245,0.004081713266751974,0.004032595850672505,0.003987846770206522,0.0039474143590915245,0.003911222572563657,0.003879171930669107,0.003851140578335622,0.003826985453735745,0.0038065435559932735,0.0037896333028691245,0.0037760559687123373,0.003765597192676392,0.0037580285469799237,0.003753109154833595,0.0037505873475606284,0.0037502023504060876,0.0037516859865583175,0.003754764388993556,0.0037591597099000387,0.0037645918176392908,0.0037707799714577412,0.003777444464469489,0.0037843082257885455,0.0037910983730941195,0.0037975477073627483,0.003803396141993711,0.003808392059086294,0.0038122935861959746,0.0038148697874981347,0.003815901763919086,0.0038151836574510842,0.0038125235555469387,0.0038077442921863863,0.0038006841429165652,0.003791197411887953,0.003779154909630626,0.0037644443210387733,0.003746970463749291,0.0037266554378081332,0.003703438668211003,0.0036772768425781203,0.0036481437468714045,0.0036160300026818783,0.003580942710200969,0.0035429050015374094,0.0035019555095477124,0.0034581477578090945,0.003411549477775969,0.0033622418595218874,0.0033103187427757142,0.0032558857552118913],\"type\":\"scatter\"},{\"line\":{\"color\":\"green\"},\"mode\":\"lines\",\"name\":\"Test Case 3 - Non-AI\",\"x\":[42.88867188,49.86204797111111,56.835424062222216,63.80880015333333,70.78217624444444,77.75555233555556,84.72892842666667,91.70230451777778,98.67568060888888,105.6490567,112.62243279111112,119.59580888222223,126.56918497333334,133.54256106444444,140.51593715555555,147.48931324666668,154.4626893377778,161.4360654288889,168.40944152,175.38281761111114,182.35619370222224,189.32956979333335,196.30294588444445,203.27632197555556,210.24969806666667,217.2230741577778,224.1964502488889,231.16982634000001,238.14320243111112,245.11657852222223,252.08995461333336,259.06333070444447,266.0367067955556,273.0100828866667,279.9834589777778,286.9568350688889,293.93021116,300.9035872511111,307.87696334222227,314.8503394333334,321.8237155244445,328.7970916155556,335.7704677066667,342.7438437977778,349.7172198888889,356.69059598,363.6639720711111,370.6373481622222,377.61072425333333,384.5841003444445,391.5574764355556,398.5308525266667,405.5042286177778,412.4776047088889,419.4509808,426.42435689111113,433.39773298222224,440.37110907333334,447.34448516444445,454.3178612555556,461.2912373466667,468.2646134377778,475.23798952888893,482.21136562000004,489.18474171111114,496.15811780222225,503.13149389333336,510.10486998444446,517.0782460755555,524.0516221666667,531.0249982577778,537.9983743488889,544.97175044,551.9451265311111,558.9185026222221,565.8918787133333,572.8652548044445,579.8386308955555,586.8120069866667,593.7853830777777,600.7587591688889,607.73213526,614.7055113511111,621.6788874422222,628.6522635333333,635.6256396244444,642.5990157155555,649.5723918066667,656.5457678977778,663.5191439888889,670.49252008,677.4658961711111,684.4392722622222,691.4126483533333,698.3860244444444,705.3594005355556,712.3327766266666,719.3061527177778,726.2795288088889,733.2529049],\"y\":[0.0005014985010399331,0.0005107087226468091,0.0005198185576331375,0.0005288728887829842,0.0005379217812527027,0.0005470201023846609,0.0005562270619405201,0.000565605675475315,0.0005752221547544579,0.0005851452302797655,0.0005954454121190879,0.0006061941963085072,0.0006174632250982139,0.0006293234102255447,0.0006418440292047551,0.000655091805307644,0.0006691299824584464,0.0006840174066685182,0.0006998076258813875,0.0007165480201790431,0.0007342789742106091,0.0007530331034420936,0.0007728345453905526,0.0007936983264004283,0.0008156298137492772,0.0008386242619426321,0.0008626664609839963,0.0008877304931991193,0.0009137796038693163,0.0009407661895044015,0.0009686319060815152,0.0009973078980130752,0.0010267151470080408,0.0010567649383793555,0.0010873594407512874,0.0011183923935580299,0.0011497498952239265,0.001181311283499972,0.0012129500981237797,0.001244535114792579,0.0012759314384107757,0.0013070016427127354,0.0013376069426828347,0.0013676083857106325,0.001396868047138402,0.0014252502157870185,0.0014526225551866059,0.0014788572265892759,0.001503831960397821,0.0015274310633980766,0.0015495463501220784,0.0015700779877790517,0.0015889352454537533,0.0016060371396660411,0.0016213129698888146,0.0016347027392087908,0.0016461574569596655,0.001655639321832817,0.0016631217856491844,0.0016685894996297038,0.001672038146603736,0.0016734741641194054,0.001672914364842414,0.0016703854619284342,0.0016659235082088827,0.001659573259023664,0.0016513874693534947,0.0016414261365380778,0.0016297557003075588,0.0016164482120998636,0.0016015804856856974,0.001585233240979749,0.0015674902525879809,0.0015484375141369214,0.0015281624287647713,0.0015067530353416012,0.0014842972790450643,0.0014608823338687388,0.001436593983503932,0.001411516065834917,0.0013857299850451366,0.0013593142940710923,0.0013323443488841458,0.0013048920348504717,0.0012770255642366622,0.0012488093428125327,0.001220303902470872,0.001191565895851736,0.0011626481481392826,0.0011335997605026675,0.0011044662590868662,0.0010752897830294838,0.0010461093046880865,0.0010169608751087076,0.0009878778877471376,0.0009588913535647403,0.0009300301808522387,0.0009013214534782191,0.0008727907017026831,0.0008444621602265205],\"type\":\"scatter\"},{\"line\":{\"color\":\"red\"},\"mode\":\"lines\",\"name\":\"Test Case 3 - AI\",\"x\":[0.0,3.1753965434343434,6.350793086868687,9.52618963030303,12.701586173737374,15.876982717171717,19.05237926060606,22.227775804040405,25.403172347474747,28.57856889090909,31.753965434343435,34.92936197777778,38.10475852121212,41.280155064646465,44.45555160808081,47.63094815151515,50.806344694949495,53.98174123838384,57.15713778181818,60.332534325252524,63.50793086868687,66.68332741212122,69.85872395555556,73.03412049898989,76.20951704242424,79.38491358585858,82.56031012929293,85.73570667272728,88.91110321616162,92.08649975959595,95.2618963030303,98.43729284646464,101.61268938989899,104.78808593333333,107.96348247676768,111.13887902020203,114.31427556363636,117.4896721070707,120.66506865050505,123.8404651939394,127.01586173737374,130.19125828080809,133.36665482424243,136.54205136767678,139.71744791111112,142.89284445454544,146.06824099797979,149.24363754141413,152.41903408484848,155.59443062828282,158.76982717171717,161.9452237151515,165.12062025858586,168.2960168020202,171.47141334545455,174.6468098888889,177.82220643232324,180.9976029757576,184.1729995191919,187.34839606262625,190.5237926060606,193.69918914949494,196.8745856929293,200.04998223636363,203.22537877979798,206.40077532323232,209.57617186666667,212.75156841010102,215.92696495353536,219.1023614969697,222.27775804040405,225.45315458383837,228.62855112727271,231.80394767070706,234.9793442141414,238.15474075757575,241.3301373010101,244.50553384444444,247.6809303878788,250.85632693131313,254.03172347474748,257.2071200181818,260.38251656161617,263.5579131050505,266.73330964848486,269.9087061919192,273.08410273535355,276.25949927878787,279.43489582222224,282.61029236565656,285.7856889090909,288.96108545252525,292.13648199595957,295.31187853939394,298.48727508282826,301.66267162626264,304.83806816969695,308.0134647131313,311.18886125656564,314.3642578],\"y\":[0.001559974592932355,0.001602009187597942,0.0016437387137056704,0.0016851050915592392,0.001726051099077679,0.0017665205465035394,0.0018064584561823074,0.0018458112482375958,0.0018845269327610068,0.001922555308873783,0.001959848170703529,0.00199635951995932,0.0020320457843898397,0.0020668660409808768,0.002100782242300861,0.002133759443947675,0.0021657660305990437,0.002196773937735405,0.0022267588657014495,0.0022557004824137424,0.002283582610719675,0.0023103933961795137,0.0023361254508893676,0.002360775968897982,0.002384346808802086,0.0024068445392393936,0.002428280443238704,0.002448670477734066,0.0024680351850032466,0.002486399553345804,0.00250379282496637,0.0025202482497652724,0.0025358027845499326,0.002550496738053044,0.002564373363061761,0.0025774783979090467,0.0025898595605354457,0.0026015659992777856,0.0026126477054608747,0.002623154893739675,0.0026331373569433917,0.0026426438028911998,0.0026517211812650083,0.0026604140091225446,0.0026687637040010096,0.002676807933787056,0.002684579992604888,0.002692108211895862,0.002699415415628254,0.0027065184281858923,0.002713427642943595,0.002720146658853179,0.0027266719915464907,0.002732992864524564,0.002739091084960094,0.0027449410075114497,0.002750509588349938,0.00275575653035844,0.002760634519190566,0.002765089548607074,0.002769061332252387,0.0027724837978201963,0.002775285658403847,0.0027773910547537763,0.002778720261188217,0.0027791904470402013,0.002778716484786857,0.002777211795406633,0.0027745892210545254,0.002770761914839685,0.002765644237336315,0.002759152649457159,0.0027512065914658272,0.0027417293381941186,0.00273064882095515,0.002717898407192364,0.002703417629566178,0.002687152856940588,0.0026690579005765698,0.0026490945497518533,0.0026272330319913706,0.0026034523940928677,0.0025777408011514575,0.00255009575180942,0.0025205242089680257,0.0024890426461824035,0.0024556770109053316,0.0024204626066396963,0.002383443896891844,0.002344674234580688,0.002304215521243014,0.002262137800978819,0.0022185187945977817,0.0021734433798571606,0.002127003024021832,0.002079295175229562,0.002030422619311087,0.0019804928087982228,0.0019296171708582412,0.001877910400824067],\"type\":\"scatter\"}],                        {\"template\":{\"data\":{\"histogram2dcontour\":[{\"type\":\"histogram2dcontour\",\"colorbar\":{\"outlinewidth\":0,\"ticks\":\"\"},\"colorscale\":[[0.0,\"#0d0887\"],[0.1111111111111111,\"#46039f\"],[0.2222222222222222,\"#7201a8\"],[0.3333333333333333,\"#9c179e\"],[0.4444444444444444,\"#bd3786\"],[0.5555555555555556,\"#d8576b\"],[0.6666666666666666,\"#ed7953\"],[0.7777777777777778,\"#fb9f3a\"],[0.8888888888888888,\"#fdca26\"],[1.0,\"#f0f921\"]]}],\"choropleth\":[{\"type\":\"choropleth\",\"colorbar\":{\"outlinewidth\":0,\"ticks\":\"\"}}],\"histogram2d\":[{\"type\":\"histogram2d\",\"colorbar\":{\"outlinewidth\":0,\"ticks\":\"\"},\"colorscale\":[[0.0,\"#0d0887\"],[0.1111111111111111,\"#46039f\"],[0.2222222222222222,\"#7201a8\"],[0.3333333333333333,\"#9c179e\"],[0.4444444444444444,\"#bd3786\"],[0.5555555555555556,\"#d8576b\"],[0.6666666666666666,\"#ed7953\"],[0.7777777777777778,\"#fb9f3a\"],[0.8888888888888888,\"#fdca26\"],[1.0,\"#f0f921\"]]}],\"heatmap\":[{\"type\":\"heatmap\",\"colorbar\":{\"outlinewidth\":0,\"ticks\":\"\"},\"colorscale\":[[0.0,\"#0d0887\"],[0.1111111111111111,\"#46039f\"],[0.2222222222222222,\"#7201a8\"],[0.3333333333333333,\"#9c179e\"],[0.4444444444444444,\"#bd3786\"],[0.5555555555555556,\"#d8576b\"],[0.6666666666666666,\"#ed7953\"],[0.7777777777777778,\"#fb9f3a\"],[0.8888888888888888,\"#fdca26\"],[1.0,\"#f0f921\"]]}],\"heatmapgl\":[{\"type\":\"heatmapgl\",\"colorbar\":{\"outlinewidth\":0,\"ticks\":\"\"},\"colorscale\":[[0.0,\"#0d0887\"],[0.1111111111111111,\"#46039f\"],[0.2222222222222222,\"#7201a8\"],[0.3333333333333333,\"#9c179e\"],[0.4444444444444444,\"#bd3786\"],[0.5555555555555556,\"#d8576b\"],[0.6666666666666666,\"#ed7953\"],[0.7777777777777778,\"#fb9f3a\"],[0.8888888888888888,\"#fdca26\"],[1.0,\"#f0f921\"]]}],\"contourcarpet\":[{\"type\":\"contourcarpet\",\"colorbar\":{\"outlinewidth\":0,\"ticks\":\"\"}}],\"contour\":[{\"type\":\"contour\",\"colorbar\":{\"outlinewidth\":0,\"ticks\":\"\"},\"colorscale\":[[0.0,\"#0d0887\"],[0.1111111111111111,\"#46039f\"],[0.2222222222222222,\"#7201a8\"],[0.3333333333333333,\"#9c179e\"],[0.4444444444444444,\"#bd3786\"],[0.5555555555555556,\"#d8576b\"],[0.6666666666666666,\"#ed7953\"],[0.7777777777777778,\"#fb9f3a\"],[0.8888888888888888,\"#fdca26\"],[1.0,\"#f0f921\"]]}],\"surface\":[{\"type\":\"surface\",\"colorbar\":{\"outlinewidth\":0,\"ticks\":\"\"},\"colorscale\":[[0.0,\"#0d0887\"],[0.1111111111111111,\"#46039f\"],[0.2222222222222222,\"#7201a8\"],[0.3333333333333333,\"#9c179e\"],[0.4444444444444444,\"#bd3786\"],[0.5555555555555556,\"#d8576b\"],[0.6666666666666666,\"#ed7953\"],[0.7777777777777778,\"#fb9f3a\"],[0.8888888888888888,\"#fdca26\"],[1.0,\"#f0f921\"]]}],\"mesh3d\":[{\"type\":\"mesh3d\",\"colorbar\":{\"outlinewidth\":0,\"ticks\":\"\"}}],\"scatter\":[{\"fillpattern\":{\"fillmode\":\"overlay\",\"size\":10,\"solidity\":0.2},\"type\":\"scatter\"}],\"parcoords\":[{\"type\":\"parcoords\",\"line\":{\"colorbar\":{\"outlinewidth\":0,\"ticks\":\"\"}}}],\"scatterpolargl\":[{\"type\":\"scatterpolargl\",\"marker\":{\"colorbar\":{\"outlinewidth\":0,\"ticks\":\"\"}}}],\"bar\":[{\"error_x\":{\"color\":\"#2a3f5f\"},\"error_y\":{\"color\":\"#2a3f5f\"},\"marker\":{\"line\":{\"color\":\"#E5ECF6\",\"width\":0.5},\"pattern\":{\"fillmode\":\"overlay\",\"size\":10,\"solidity\":0.2}},\"type\":\"bar\"}],\"scattergeo\":[{\"type\":\"scattergeo\",\"marker\":{\"colorbar\":{\"outlinewidth\":0,\"ticks\":\"\"}}}],\"scatterpolar\":[{\"type\":\"scatterpolar\",\"marker\":{\"colorbar\":{\"outlinewidth\":0,\"ticks\":\"\"}}}],\"histogram\":[{\"marker\":{\"pattern\":{\"fillmode\":\"overlay\",\"size\":10,\"solidity\":0.2}},\"type\":\"histogram\"}],\"scattergl\":[{\"type\":\"scattergl\",\"marker\":{\"colorbar\":{\"outlinewidth\":0,\"ticks\":\"\"}}}],\"scatter3d\":[{\"type\":\"scatter3d\",\"line\":{\"colorbar\":{\"outlinewidth\":0,\"ticks\":\"\"}},\"marker\":{\"colorbar\":{\"outlinewidth\":0,\"ticks\":\"\"}}}],\"scattermapbox\":[{\"type\":\"scattermapbox\",\"marker\":{\"colorbar\":{\"outlinewidth\":0,\"ticks\":\"\"}}}],\"scatterternary\":[{\"type\":\"scatterternary\",\"marker\":{\"colorbar\":{\"outlinewidth\":0,\"ticks\":\"\"}}}],\"scattercarpet\":[{\"type\":\"scattercarpet\",\"marker\":{\"colorbar\":{\"outlinewidth\":0,\"ticks\":\"\"}}}],\"carpet\":[{\"aaxis\":{\"endlinecolor\":\"#2a3f5f\",\"gridcolor\":\"white\",\"linecolor\":\"white\",\"minorgridcolor\":\"white\",\"startlinecolor\":\"#2a3f5f\"},\"baxis\":{\"endlinecolor\":\"#2a3f5f\",\"gridcolor\":\"white\",\"linecolor\":\"white\",\"minorgridcolor\":\"white\",\"startlinecolor\":\"#2a3f5f\"},\"type\":\"carpet\"}],\"table\":[{\"cells\":{\"fill\":{\"color\":\"#EBF0F8\"},\"line\":{\"color\":\"white\"}},\"header\":{\"fill\":{\"color\":\"#C8D4E3\"},\"line\":{\"color\":\"white\"}},\"type\":\"table\"}],\"barpolar\":[{\"marker\":{\"line\":{\"color\":\"#E5ECF6\",\"width\":0.5},\"pattern\":{\"fillmode\":\"overlay\",\"size\":10,\"solidity\":0.2}},\"type\":\"barpolar\"}],\"pie\":[{\"automargin\":true,\"type\":\"pie\"}]},\"layout\":{\"autotypenumbers\":\"strict\",\"colorway\":[\"#636efa\",\"#EF553B\",\"#00cc96\",\"#ab63fa\",\"#FFA15A\",\"#19d3f3\",\"#FF6692\",\"#B6E880\",\"#FF97FF\",\"#FECB52\"],\"font\":{\"color\":\"#2a3f5f\"},\"hovermode\":\"closest\",\"hoverlabel\":{\"align\":\"left\"},\"paper_bgcolor\":\"white\",\"plot_bgcolor\":\"#E5ECF6\",\"polar\":{\"bgcolor\":\"#E5ECF6\",\"angularaxis\":{\"gridcolor\":\"white\",\"linecolor\":\"white\",\"ticks\":\"\"},\"radialaxis\":{\"gridcolor\":\"white\",\"linecolor\":\"white\",\"ticks\":\"\"}},\"ternary\":{\"bgcolor\":\"#E5ECF6\",\"aaxis\":{\"gridcolor\":\"white\",\"linecolor\":\"white\",\"ticks\":\"\"},\"baxis\":{\"gridcolor\":\"white\",\"linecolor\":\"white\",\"ticks\":\"\"},\"caxis\":{\"gridcolor\":\"white\",\"linecolor\":\"white\",\"ticks\":\"\"}},\"coloraxis\":{\"colorbar\":{\"outlinewidth\":0,\"ticks\":\"\"}},\"colorscale\":{\"sequential\":[[0.0,\"#0d0887\"],[0.1111111111111111,\"#46039f\"],[0.2222222222222222,\"#7201a8\"],[0.3333333333333333,\"#9c179e\"],[0.4444444444444444,\"#bd3786\"],[0.5555555555555556,\"#d8576b\"],[0.6666666666666666,\"#ed7953\"],[0.7777777777777778,\"#fb9f3a\"],[0.8888888888888888,\"#fdca26\"],[1.0,\"#f0f921\"]],\"sequentialminus\":[[0.0,\"#0d0887\"],[0.1111111111111111,\"#46039f\"],[0.2222222222222222,\"#7201a8\"],[0.3333333333333333,\"#9c179e\"],[0.4444444444444444,\"#bd3786\"],[0.5555555555555556,\"#d8576b\"],[0.6666666666666666,\"#ed7953\"],[0.7777777777777778,\"#fb9f3a\"],[0.8888888888888888,\"#fdca26\"],[1.0,\"#f0f921\"]],\"diverging\":[[0,\"#8e0152\"],[0.1,\"#c51b7d\"],[0.2,\"#de77ae\"],[0.3,\"#f1b6da\"],[0.4,\"#fde0ef\"],[0.5,\"#f7f7f7\"],[0.6,\"#e6f5d0\"],[0.7,\"#b8e186\"],[0.8,\"#7fbc41\"],[0.9,\"#4d9221\"],[1,\"#276419\"]]},\"xaxis\":{\"gridcolor\":\"white\",\"linecolor\":\"white\",\"ticks\":\"\",\"title\":{\"standoff\":15},\"zerolinecolor\":\"white\",\"automargin\":true,\"zerolinewidth\":2},\"yaxis\":{\"gridcolor\":\"white\",\"linecolor\":\"white\",\"ticks\":\"\",\"title\":{\"standoff\":15},\"zerolinecolor\":\"white\",\"automargin\":true,\"zerolinewidth\":2},\"scene\":{\"xaxis\":{\"backgroundcolor\":\"#E5ECF6\",\"gridcolor\":\"white\",\"linecolor\":\"white\",\"showbackground\":true,\"ticks\":\"\",\"zerolinecolor\":\"white\",\"gridwidth\":2},\"yaxis\":{\"backgroundcolor\":\"#E5ECF6\",\"gridcolor\":\"white\",\"linecolor\":\"white\",\"showbackground\":true,\"ticks\":\"\",\"zerolinecolor\":\"white\",\"gridwidth\":2},\"zaxis\":{\"backgroundcolor\":\"#E5ECF6\",\"gridcolor\":\"white\",\"linecolor\":\"white\",\"showbackground\":true,\"ticks\":\"\",\"zerolinecolor\":\"white\",\"gridwidth\":2}},\"shapedefaults\":{\"line\":{\"color\":\"#2a3f5f\"}},\"annotationdefaults\":{\"arrowcolor\":\"#2a3f5f\",\"arrowhead\":0,\"arrowwidth\":1},\"geo\":{\"bgcolor\":\"white\",\"landcolor\":\"#E5ECF6\",\"subunitcolor\":\"white\",\"showland\":true,\"showlakes\":true,\"lakecolor\":\"white\"},\"title\":{\"x\":0.05},\"mapbox\":{\"style\":\"light\"}}},\"shapes\":[{\"line\":{\"color\":\"blue\",\"dash\":\"dash\"},\"name\":\"Mean Test Case 2 - Non-AI\",\"type\":\"line\",\"x0\":374.26544857025146,\"x1\":374.26544857025146,\"y0\":0,\"y1\":0.0015589613537866217},{\"line\":{\"color\":\"orange\",\"dash\":\"dash\"},\"name\":\"Mean Test Case 2 - AI\",\"type\":\"line\",\"x0\":39.88949998219808,\"x1\":39.88949998219808,\"y0\":0,\"y1\":0.007378042089299744},{\"line\":{\"color\":\"green\",\"dash\":\"dash\"},\"name\":\"Mean Test Case 3 - Non-AI\",\"type\":\"line\",\"x0\":433.6554708466667,\"x1\":433.6554708466667,\"y0\":0,\"y1\":0.0016734741641194054},{\"line\":{\"color\":\"red\",\"dash\":\"dash\"},\"name\":\"Mean Test Case 3 - AI\",\"type\":\"line\",\"x0\":164.21412928383333,\"x1\":164.21412928383333,\"y0\":0,\"y1\":0.0027791904470402013}],\"annotations\":[{\"arrowhead\":1,\"ax\":20,\"ay\":-20,\"font\":{\"color\":\"blue\"},\"showarrow\":true,\"text\":\"Mean: 374.27\",\"x\":374.26544857025146,\"y\":0.0015589613537866217},{\"arrowhead\":1,\"ax\":20,\"ay\":-20,\"font\":{\"color\":\"orange\"},\"showarrow\":true,\"text\":\"Mean: 39.89\",\"x\":39.88949998219808,\"y\":0.007378042089299744},{\"arrowhead\":1,\"ax\":20,\"ay\":-20,\"font\":{\"color\":\"green\"},\"showarrow\":true,\"text\":\"Mean: 433.66\",\"x\":433.6554708466667,\"y\":0.0016734741641194054},{\"arrowhead\":1,\"ax\":20,\"ay\":-20,\"font\":{\"color\":\"red\"},\"showarrow\":true,\"text\":\"Mean: 164.21\",\"x\":164.21412928383333,\"y\":0.0027791904470402013}],\"title\":{\"text\":\"Probability Density Function of Data Usage by Test Case and AI Utilization with Means\"},\"xaxis\":{\"title\":{\"text\":\"Data Usage (MB)\"}},\"yaxis\":{\"title\":{\"text\":\"Density\"}},\"width\":1000,\"height\":600},                        {\"responsive\": true}                    ).then(function(){\n",
              "                            \n",
              "var gd = document.getElementById('ee213099-f647-4f22-b50f-544958e38916');\n",
              "var x = new MutationObserver(function (mutations, observer) {{\n",
              "        var display = window.getComputedStyle(gd).display;\n",
              "        if (!display || display === 'none') {{\n",
              "            console.log([gd, 'removed!']);\n",
              "            Plotly.purge(gd);\n",
              "            observer.disconnect();\n",
              "        }}\n",
              "}});\n",
              "\n",
              "// Listen for the removal of the full notebook cells\n",
              "var notebookContainer = gd.closest('#notebook-container');\n",
              "if (notebookContainer) {{\n",
              "    x.observe(notebookContainer, {childList: true});\n",
              "}}\n",
              "\n",
              "// Listen for the clearing of the current output cell\n",
              "var outputEl = gd.closest('.output');\n",
              "if (outputEl) {{\n",
              "    x.observe(outputEl, {childList: true});\n",
              "}}\n",
              "\n",
              "                        })                };                            </script>        </div>\n",
              "</body>\n",
              "</html>"
            ]
          },
          "metadata": {}
        }
      ]
    },
    {
      "cell_type": "code",
      "source": [
        "import plotly.graph_objects as go\n",
        "import numpy as np\n",
        "from scipy.stats import gaussian_kde\n",
        "\n",
        "# Sample data\n",
        "# Replace these with your actual data\n",
        "test_case_2_ai_0_duration = test_case_2_ai_0['duration_min']\n",
        "test_case_2_ai_1_duration = test_case_2_ai_1['duration_min']\n",
        "test_case_3_ai_0_duration = test_case_3_ai_0['duration_min']\n",
        "test_case_3_ai_1_duration = test_case_3_ai_1['duration_min']\n",
        "\n",
        "# Function to calculate KDE\n",
        "def get_density_curve(data):\n",
        "    kde = gaussian_kde(data)\n",
        "    x_values = np.linspace(min(data) - 10, max(data) + 10, 100)  # Generate x values across the range of data\n",
        "    y_values = kde(x_values)  # Get the density values for each x\n",
        "    return x_values, y_values\n",
        "\n",
        "# Calculate density curves and means for each group\n",
        "x_non_ai_test2, y_non_ai_test2 = get_density_curve(test_case_2_ai_0_duration)\n",
        "mean_non_ai_test2 = np.mean(test_case_2_ai_0_duration)\n",
        "\n",
        "x_ai_test2, y_ai_test2 = get_density_curve(test_case_2_ai_1_duration)\n",
        "mean_ai_test2 = np.mean(test_case_2_ai_1_duration)\n",
        "\n",
        "x_non_ai_test3, y_non_ai_test3 = get_density_curve(test_case_3_ai_0_duration)\n",
        "mean_non_ai_test3 = np.mean(test_case_3_ai_0_duration)\n",
        "\n",
        "x_ai_test3, y_ai_test3 = get_density_curve(test_case_3_ai_1_duration)\n",
        "mean_ai_test3 = np.mean(test_case_3_ai_1_duration)\n",
        "\n",
        "# Create the interactive density plot\n",
        "fig = go.Figure()\n",
        "\n",
        "# Add each KDE trace\n",
        "fig.add_trace(go.Scatter(x=x_non_ai_test2, y=y_non_ai_test2, mode='lines', name=\"Test Case 2 - Non-AI\", line=dict(color='blue')))\n",
        "fig.add_trace(go.Scatter(x=x_ai_test2, y=y_ai_test2, mode='lines', name=\"Test Case 2 - AI\", line=dict(color='orange')))\n",
        "fig.add_trace(go.Scatter(x=x_non_ai_test3, y=y_non_ai_test3, mode='lines', name=\"Test Case 3 - Non-AI\", line=dict(color='green')))\n",
        "fig.add_trace(go.Scatter(x=x_ai_test3, y=y_ai_test3, mode='lines', name=\"Test Case 3 - AI\", line=dict(color='red')))\n",
        "\n",
        "# Add vertical lines and annotations for each mean\n",
        "fig.add_shape(type=\"line\", x0=mean_non_ai_test2, y0=0, x1=mean_non_ai_test2, y1=max(y_non_ai_test2),\n",
        "              line=dict(color=\"blue\", dash=\"dash\"), name=\"Mean Test Case 2 - Non-AI\")\n",
        "fig.add_annotation(x=mean_non_ai_test2, y=max(y_non_ai_test2), text=f\"Mean: {mean_non_ai_test2:.2f}\", showarrow=True, arrowhead=1, ax=20, ay=-20, font=dict(color=\"blue\"))\n",
        "\n",
        "fig.add_shape(type=\"line\", x0=mean_ai_test2, y0=0, x1=mean_ai_test2, y1=max(y_ai_test2),\n",
        "              line=dict(color=\"orange\", dash=\"dash\"), name=\"Mean Test Case 2 - AI\")\n",
        "fig.add_annotation(x=mean_ai_test2, y=max(y_ai_test2), text=f\"Mean: {mean_ai_test2:.2f}\", showarrow=True, arrowhead=1, ax=20, ay=-20, font=dict(color=\"orange\"))\n",
        "\n",
        "fig.add_shape(type=\"line\", x0=mean_non_ai_test3, y0=0, x1=mean_non_ai_test3, y1=max(y_non_ai_test3),\n",
        "              line=dict(color=\"green\", dash=\"dash\"), name=\"Mean Test Case 3 - Non-AI\")\n",
        "fig.add_annotation(x=mean_non_ai_test3, y=max(y_non_ai_test3), text=f\"Mean: {mean_non_ai_test3:.2f}\", showarrow=True, arrowhead=1, ax=20, ay=-20, font=dict(color=\"green\"))\n",
        "\n",
        "fig.add_shape(type=\"line\", x0=mean_ai_test3, y0=0, x1=mean_ai_test3, y1=max(y_ai_test3),\n",
        "              line=dict(color=\"red\", dash=\"dash\"), name=\"Mean Test Case 3 - AI\")\n",
        "fig.add_annotation(x=mean_ai_test3, y=max(y_ai_test3), text=f\"Mean: {mean_ai_test3:.2f}\", showarrow=True, arrowhead=1, ax=20, ay=-20, font=dict(color=\"red\"))\n",
        "\n",
        "# Customize layout\n",
        "fig.update_layout(\n",
        "    title=\"Probability Density Function of Duration by Test Case and AI Utilization with Means\",\n",
        "    xaxis_title=\"Duration (Minutes)\",\n",
        "    yaxis_title=\"Density\",\n",
        "    width=1000,\n",
        "    height=600\n",
        ")\n",
        "\n",
        "# Show the interactive figure\n",
        "fig.show()\n"
      ],
      "metadata": {
        "colab": {
          "base_uri": "https://localhost:8080/",
          "height": 617
        },
        "id": "nPn2e-GPHmll",
        "outputId": "c6c806b7-7c17-4996-cccd-82cea202ccbc"
      },
      "execution_count": null,
      "outputs": [
        {
          "output_type": "display_data",
          "data": {
            "text/html": [
              "<html>\n",
              "<head><meta charset=\"utf-8\" /></head>\n",
              "<body>\n",
              "    <div>            <script src=\"https://cdnjs.cloudflare.com/ajax/libs/mathjax/2.7.5/MathJax.js?config=TeX-AMS-MML_SVG\"></script><script type=\"text/javascript\">if (window.MathJax && window.MathJax.Hub && window.MathJax.Hub.Config) {window.MathJax.Hub.Config({SVG: {font: \"STIX-Web\"}});}</script>                <script type=\"text/javascript\">window.PlotlyConfig = {MathJaxConfig: 'local'};</script>\n",
              "        <script charset=\"utf-8\" src=\"https://cdn.plot.ly/plotly-2.35.2.min.js\"></script>                <div id=\"057b3671-ad63-4ac7-8fe8-c1b7f27de36b\" class=\"plotly-graph-div\" style=\"height:600px; width:1000px;\"></div>            <script type=\"text/javascript\">                                    window.PLOTLYENV=window.PLOTLYENV || {};                                    if (document.getElementById(\"057b3671-ad63-4ac7-8fe8-c1b7f27de36b\")) {                    Plotly.newPlot(                        \"057b3671-ad63-4ac7-8fe8-c1b7f27de36b\",                        [{\"line\":{\"color\":\"blue\"},\"mode\":\"lines\",\"name\":\"Test Case 2 - Non-AI\",\"x\":[47.3,48.01919191919192,48.73838383838383,49.45757575757575,50.176767676767675,50.895959595959596,51.61515151515151,52.33434343434343,53.05353535353535,53.77272727272727,54.49191919191919,55.21111111111111,55.93030303030303,56.64949494949495,57.368686868686865,58.087878787878786,58.80707070707071,59.52626262626262,60.24545454545454,60.964646464646464,61.683838383838385,62.403030303030306,63.12222222222222,63.84141414141414,64.56060606060606,65.27979797979798,65.99898989898989,66.71818181818182,67.43737373737373,68.15656565656566,68.87575757575758,69.5949494949495,70.31414141414142,71.03333333333333,71.75252525252526,72.47171717171717,73.19090909090909,73.91010101010102,74.62929292929293,75.34848484848484,76.06767676767677,76.78686868686869,77.5060606060606,78.22525252525253,78.94444444444444,79.66363636363636,80.38282828282829,81.10202020202021,81.82121212121211,82.54040404040404,83.25959595959597,83.97878787878787,84.6979797979798,85.41717171717173,86.13636363636364,86.85555555555555,87.57474747474748,88.2939393939394,89.01313131313131,89.73232323232324,90.45151515151515,91.17070707070707,91.889898989899,92.60909090909091,93.32828282828282,94.04747474747475,94.76666666666667,95.48585858585858,96.20505050505051,96.92424242424244,97.64343434343434,98.36262626262626,99.08181818181819,99.8010101010101,100.52020202020202,101.23939393939395,101.95858585858586,102.67777777777778,103.3969696969697,104.11616161616162,104.83535353535353,105.55454545454546,106.27373737373738,106.99292929292929,107.71212121212122,108.43131313131313,109.15050505050505,109.86969696969697,110.5888888888889,111.30808080808082,112.02727272727273,112.74646464646464,113.46565656565657,114.18484848484849,114.90404040404042,115.62323232323233,116.34242424242424,117.06161616161617,117.78080808080809,118.5],\"y\":[0.004369921540748816,0.004658390561003182,0.004952967428114093,0.005253137888440666,0.00555848197990348,0.005868697529384118,0.00618362141030741,0.006503247579370907,0.006827740928379251,0.0071574460410231645,0.007492890036417601,0.007834778811055905,0.00818398615679182,0.008541535431205272,0.008908573683372598,0.00928633838633181,0.009676117189805582,0.010079201374360247,0.010496833951707338,0.010930153605429996,0.011380135892109068,0.011847533315031772,0.012332816032514267,0.012836115062596975,0.013357169889188147,0.013895282357132034,0.014449278662694402,0.01501748110134097,0.01559769102849705,0.016187184225608088,0.0167827195498942,0.017380561390396676,0.01797651606573302,0.01856598189235437,0.019144012239025895,0.019705390477311166,0.020244715352722743,0.020756494950182055,0.0212352471228967,0.021675604006717395,0.022072418061693938,0.02242086697596346,0.022716554738891403,0.022955606242533545,0.023134752902266176,0.023251406995402926,0.02330372269475248,0.023290642113967214,0.023211925072705943,0.023068161719910094,0.02286076760943804,0.022591961289710975,0.022264724933420296,0.021882748980493378,0.021450362183902203,0.02097244882120004,0.020454355154136315,0.01990178747549574,0.019320704269768865,0.018717205128059907,0.018097419095865062,0.017467395095515537,0.01683299695600175,0.016199805406559426,0.015573029153710291,0.014957426872945942,0.014357241615760416,0.013776148771057433,0.013217218338432488,0.012682891881003877,0.012174974138721295,0.01169463891029034,0.011242448463076406,0.010818385414570923,0.010421895753891942,0.010051941443544274,0.009707060864876018,0.009385435248261255,0.009084959162243778,0.008803313124263086,0.00853803643713807,0.008286598446725066,0.00804646655230717,0.007815169476404846,0.007590354508015589,0.007369837665319242,0.0071516459727363245,0.006934051304850273,0.006715595508143283,0.006495106763129323,0.006271707387238113,0.0060448134964170685,0.005814127135515256,0.005579621649807624,0.005341521199385991,0.0051002754126810435,0.004856530234405023,0.004611096047226007,0.004364914137118559,0.004119022532195969],\"type\":\"scatter\"},{\"line\":{\"color\":\"orange\"},\"mode\":\"lines\",\"name\":\"Test Case 2 - AI\",\"x\":[-3.033333333333333,-2.5506734006734004,-2.068013468013468,-1.5853535353535353,-1.1026936026936027,-0.6200336700336702,-0.13737373737373737,0.345286195286195,0.8279461279461278,1.3106060606060606,1.793265993265993,2.2759259259259252,2.7585858585858585,3.241245791245791,3.723905723905723,4.206565656565656,4.689225589225589,5.171885521885521,5.654545454545454,6.137205387205386,6.619865319865319,7.102525252525252,7.585185185185184,8.067845117845117,8.55050505050505,9.033164983164982,9.515824915824915,9.998484848484848,10.48114478114478,10.963804713804713,11.446464646464646,11.929124579124577,12.41178451178451,12.894444444444444,13.377104377104375,13.859764309764307,14.342424242424242,14.825084175084173,15.307744107744105,15.79040404040404,16.27306397306397,16.755723905723904,17.23838383838384,17.721043771043767,18.203703703703702,18.686363636363637,19.169023569023565,19.6516835016835,20.134343434343435,20.617003367003363,21.0996632996633,21.582323232323233,22.06498316498316,22.547643097643096,23.03030303030303,23.51296296296296,23.995622895622894,24.47828282828283,24.960942760942757,25.443602693602692,25.926262626262627,26.408922558922555,26.89158249158249,27.374242424242425,27.856902356902353,28.339562289562288,28.822222222222223,29.30488215488215,29.787542087542086,30.27020202020202,30.75286195286195,31.235521885521884,31.71818181818182,32.20084175084175,32.68350168350168,33.16616161616162,33.648821548821545,34.13148148148148,34.614141414141415,35.09680134680134,35.57946127946128,36.06212121212121,36.54478114478114,37.027441077441075,37.51010101010101,37.99276094276094,38.47542087542087,38.95808080808081,39.440740740740736,39.92340067340067,40.406060606060606,40.888720538720534,41.37138047138047,41.854040404040404,42.33670033670033,42.81936026936027,43.3020202020202,43.78468013468013,44.267340067340065,44.75],\"y\":[0.003952447323680144,0.00448811708852726,0.005075184675255619,0.00571558020422159,0.006410935037653698,0.007162541824492344,0.007971316623012866,0.008837763306410281,0.009761940299668212,0.010743429556252964,0.011781307576878055,0.01287411821512209,0.014019847018851249,0.015215896931008615,0.016459065321948785,0.017745522545481736,0.019070792492787078,0.020429735946282043,0.021816537887122577,0.023224700258006558,0.02464704199668633,0.026075708403165934,0.027502192054147744,0.02891736750468837,0.03031154189800479,0.03167452332681666,0.03299570835011549,0.0342641894751153,0.03546888268359723,0.03659867424351613,0.03764258513822168,0.038589950511558786,0.039430610616412884,0.04015510891728192,0.0407548922827396,0.041222507654909306,0.04155178923638769,0.041738030116658664,0.04177813238465082,0.04167073014411363,0.04141628045393112,0.04101711803470855,0.04047747058407046,0.03980343268594532,0.03900289753765093,0.03808544700350878,0.03706220178499688,0.03594563472687862,0.034749351412039046,0.033487843196343334,0.03217621866709219,0.030829920150713445,0.02946443233133231,0.028094990263805318,0.026736294072025595,0.02540223742174037,0.024105656458360963,0.02285810532058887,0.021669663600184814,0.02054878023985751,0.01950215737024327,0.018534676510147126,0.01764936841971699,0.016847426733021087,0.016128264334218576,0.015489610310106507,0.014927644241210826,0.014437163613173843,0.014011779268241665,0.013644133099509464,0.013326131641711326,0.013049188851313877,0.012804471210070698,0.012583138338576426,0.012376572571356454,0.012176591416671715,0.011975637488591151,0.011766941334167913,0.011544653555511748,0.011303943709468986,0.011041064615697134,0.010753381873005032,0.010439369528473748,0.010098573919532451,0.009731548674426486,0.009339764675215488,0.008925499430502139,0.008491710751988131,0.008041899868663995,0.007579969143865211,0.007110079392212237,0.006636511443248965,0.0061635360918145966,0.005695295943344196,0.00523570194105937,0.004788346589094105,0.004356435098636343,0.0039427349187166096,0.0035495434010864154,0.0031786727162204996],\"type\":\"scatter\"},{\"line\":{\"color\":\"green\"},\"mode\":\"lines\",\"name\":\"Test Case 3 - Non-AI\",\"x\":[14.416666670000001,15.053030306363638,15.689393942727275,16.32575757909091,16.962121215454548,17.598484851818185,18.234848488181818,18.871212124545455,19.50757576090909,20.143939397272728,20.780303033636365,21.41666667,22.053030306363638,22.689393942727275,23.32575757909091,23.962121215454545,24.598484851818185,25.234848488181818,25.87121212454546,26.50757576090909,27.143939397272728,27.780303033636365,28.41666667,29.053030306363638,29.689393942727275,30.32575757909091,30.962121215454548,31.59848485181818,32.23484848818182,32.87121212454545,33.50757576090909,34.14393939727273,34.780303033636365,35.41666667,36.05303030636364,36.68939394272728,37.32575757909091,37.962121215454545,38.598484851818185,39.23484848818182,39.87121212454545,40.50757576090909,41.14393939727273,41.780303033636365,42.41666667,43.05303030636364,43.68939394272728,44.32575757909091,44.962121215454545,45.598484851818185,46.23484848818182,46.87121212454545,47.50757576090909,48.14393939727273,48.78030303363636,49.41666667,50.05303030636364,50.68939394272728,51.325757579090904,51.962121215454545,52.598484851818185,53.234848488181825,53.87121212454545,54.50757576090909,55.14393939727273,55.78030303363636,56.41666667,57.05303030636364,57.68939394272728,58.325757579090904,58.962121215454545,59.598484851818185,60.234848488181825,60.87121212454545,61.50757576090909,62.14393939727273,62.78030303363636,63.41666667,64.05303030636364,64.68939394272728,65.3257575790909,65.96212121545454,66.59848485181818,67.23484848818183,67.87121212454545,68.50757576090909,69.14393939727273,69.78030303363636,70.41666667,71.05303030636364,71.68939394272728,72.3257575790909,72.96212121545454,73.59848485181818,74.23484848818183,74.87121212454545,75.50757576090909,76.14393939727273,76.78030303363636,77.41666667],\"y\":[0.008698472667631041,0.009230360762174868,0.009769353840902903,0.010313198000354616,0.010859522798331916,0.011405864956869988,0.011949694454757725,0.012488442634248805,0.013019531885517197,0.013540406418779764,0.014048563589631904,0.014541585209641657,0.015017168253012112,0.015473154362251414,0.01590755756205008,0.016318589611351023,0.016704682458900735,0.01706450731696932,0.017396989930581214,0.017701321694257862,0.01797696635330553,0.018223662120104858,0.018441419135394533,0.01863051230767373,0.018791469667891966,0.01892505647877568,0.019032255435673592,0.01911424338598009,0.019172365074467793,0.01920810448992034,0.019223054442312457,0.01921888503782862,0.01919731174007566,0.019160063709242062,0.01910885309651285,0.019045345939112727,0.018971135252789935,0.01888771685473695,0.018796468372701186,0.018698631807606187,0.018595299919961672,0.01848740660753064,0.01837572133615855,0.018260847580447787,0.01814322512915223,0.01802313601472468,0.017900713740110562,0.017775955401075752,0.017648736241130194,0.017518826130057015,0.017385907427269687,0.0172495936782516,0.01710944859618512,0.016965004801002697,0.01681578182341919,0.016661302930476442,0.016501110389767207,0.016334778859476942,0.016161926668092432,0.015982224828313497,0.01579540371153559,0.015601257389448729,0.0153996457251571,0.015190494365325862,0.014973792845078712,0.014749591066955677,0.01451799445288509,0.014279158092989536,0.014033280226789534,0.013780595391139072,0.013521367555644107,0.013255883541435547,0.01298444698443,0.012707373061368037,0.012424984147962167,0.01213760652555973,0.011845568198038978,0.011549197826397243,0.011248824736738772,0.010944779910022878,0.010637397820637193,0.010327018956956544,0.010013992831530856,0.00969868127204122,0.009381461776918204,0.009062730721405649,0.008742906210400529,0.00842243039281377,0.00810177107741817,0.007781422520901667,0.007461905293698538,0.007143765166609707,0.00682757099970116,0.00651391165298159,0.006203391974492886,0.005896627954433599,0.005594241162694205,0.005296852610850401,0.005005076197612846,0.004719511908593019],\"type\":\"scatter\"},{\"line\":{\"color\":\"red\"},\"mode\":\"lines\",\"name\":\"Test Case 3 - AI\",\"x\":[-1.7666666670000009,-1.1643097646060614,-0.5619528622121219,0.040404040181817535,0.642760942575757,1.2451178449696965,1.847474747363636,2.4498316497575754,3.052188552151515,3.6545454545454543,4.256902356939394,4.859259259333333,5.461616161727273,6.063973064121212,6.666329966515152,7.268686868909091,7.871043771303031,8.47340067369697,9.07575757609091,9.678114478484849,10.280471380878788,10.882828283272728,11.485185185666667,12.087542088060607,12.689898990454546,13.292255892848486,13.894612795242425,14.496969697636365,15.099326600030304,15.701683502424244,16.30404040481818,16.906397307212124,17.50875420960606,18.111111112000003,18.71346801439394,19.315824916787882,19.918181819181818,20.52053872157576,21.122895623969697,21.72525252636364,22.327609428757576,22.92996633115152,23.532323233545455,24.134680135939398,24.737037038333334,25.339393940727277,25.941750843121213,26.544107745515156,27.14646464790909,27.748821550303035,28.35117845269697,28.953535355090914,29.55589225748485,30.158249159878793,30.76060606227273,31.36296296466667,31.965319867060607,32.56767676945454,33.170033671848486,33.77239057424243,34.374747476636365,34.9771043790303,35.579461281424244,36.18181818381819,36.78417508621212,37.38653198860606,37.988888891,38.591245793393945,39.19360269578788,39.79595959818182,40.39831650057576,41.0006734029697,41.60303030536364,42.205387207757575,42.80774411015152,43.41010101254546,44.0124579149394,44.61481481733333,45.217171719727276,45.81952862212122,46.421885524515154,47.02424242690909,47.62659932930303,48.228956231696976,48.83131313409091,49.43367003648485,50.03602693887879,50.638383841272734,51.24074074366667,51.843097646060606,52.44545454845455,53.04781145084849,53.65016835324243,54.252525255636364,54.85488215803031,55.45723906042425,56.059595962818186,56.66195286521212,57.264309767606065,57.86666667],\"y\":[0.005899374582015681,0.006348780872058184,0.006815219623720168,0.007297776329213614,0.0077954057859975275,0.008306937647103706,0.008831083249891073,0.009366443569061805,0.009911518120310858,0.01046471462855296,0.011024359269914779,0.011588707299903456,0.012155953891310753,0.012724245024048885,0.013291688294421327,0.01385636354212867,0.014416333228088754,0.014969652533134804,0.015514379184871608,0.016048583055333642,0.0165703556035044,0.017077819262218435,0.017569136886669556,0.018042521390182344,0.01849624569095349,0.018928653080490018,0.019338168100347837,0.019723307978959985,0.020082694635869817,0.020415067208142804,0.02071929499522889,0.020994390656636115,0.021239523434349306,0.02145403211210355,0.021637437369606195,0.02178945314473844,0.0219099965835919,0.021999196139480304,0.022057397379887718,0.02208516607613194,0.022083288185079528,0.022052766385514334,0.021994812902887923,0.021910838443512996,0.021802437160377375,0.021671367684542142,0.021519530374848002,0.02134894106025144,0.021161701669130856,0.020959968253822518,0.020745917022034266,0.020521709075475986,0.020289454626323217,0.0200511775108813,0.019808780844672514,0.019564014662602526,0.019318446361265375,0.019073434708155597,0.01883010810584634,0.018589347700230366,0.018351775803681233,0.01811774997014323,0.017887362913919264,0.01766044831190527,0.017436592375039438,0.017215150923652816,0.016995271557937456,0.016775920383292054,0.016555912634803285,0.016333946448921347,0.01610863895614323,0.015878563818110286,0.015642289307028864,0.01539841602498232,0.015145613384962101,0.014882654022990657,0.014608445379538516,0.014322057775958102,0.014022748414788441,0.013709980848085054,0.013383439581716138,0.013043039612049487,0.012688930820857633,0.012321497280949202,0.011941351645588582,0.011549324906124203,0.011146451901747883,0.010733953050765065,0.010313212842490961,0.009885755681759801,0.009453219713442547,0.009017329272242174,0.008579866603805704,0.008142643487752265,0.007707473362867418,0.0072761445111057255,0.006850394802102537,0.006431888435755576,0.0060221950493590855,0.005622771480077133],\"type\":\"scatter\"}],                        {\"template\":{\"data\":{\"histogram2dcontour\":[{\"type\":\"histogram2dcontour\",\"colorbar\":{\"outlinewidth\":0,\"ticks\":\"\"},\"colorscale\":[[0.0,\"#0d0887\"],[0.1111111111111111,\"#46039f\"],[0.2222222222222222,\"#7201a8\"],[0.3333333333333333,\"#9c179e\"],[0.4444444444444444,\"#bd3786\"],[0.5555555555555556,\"#d8576b\"],[0.6666666666666666,\"#ed7953\"],[0.7777777777777778,\"#fb9f3a\"],[0.8888888888888888,\"#fdca26\"],[1.0,\"#f0f921\"]]}],\"choropleth\":[{\"type\":\"choropleth\",\"colorbar\":{\"outlinewidth\":0,\"ticks\":\"\"}}],\"histogram2d\":[{\"type\":\"histogram2d\",\"colorbar\":{\"outlinewidth\":0,\"ticks\":\"\"},\"colorscale\":[[0.0,\"#0d0887\"],[0.1111111111111111,\"#46039f\"],[0.2222222222222222,\"#7201a8\"],[0.3333333333333333,\"#9c179e\"],[0.4444444444444444,\"#bd3786\"],[0.5555555555555556,\"#d8576b\"],[0.6666666666666666,\"#ed7953\"],[0.7777777777777778,\"#fb9f3a\"],[0.8888888888888888,\"#fdca26\"],[1.0,\"#f0f921\"]]}],\"heatmap\":[{\"type\":\"heatmap\",\"colorbar\":{\"outlinewidth\":0,\"ticks\":\"\"},\"colorscale\":[[0.0,\"#0d0887\"],[0.1111111111111111,\"#46039f\"],[0.2222222222222222,\"#7201a8\"],[0.3333333333333333,\"#9c179e\"],[0.4444444444444444,\"#bd3786\"],[0.5555555555555556,\"#d8576b\"],[0.6666666666666666,\"#ed7953\"],[0.7777777777777778,\"#fb9f3a\"],[0.8888888888888888,\"#fdca26\"],[1.0,\"#f0f921\"]]}],\"heatmapgl\":[{\"type\":\"heatmapgl\",\"colorbar\":{\"outlinewidth\":0,\"ticks\":\"\"},\"colorscale\":[[0.0,\"#0d0887\"],[0.1111111111111111,\"#46039f\"],[0.2222222222222222,\"#7201a8\"],[0.3333333333333333,\"#9c179e\"],[0.4444444444444444,\"#bd3786\"],[0.5555555555555556,\"#d8576b\"],[0.6666666666666666,\"#ed7953\"],[0.7777777777777778,\"#fb9f3a\"],[0.8888888888888888,\"#fdca26\"],[1.0,\"#f0f921\"]]}],\"contourcarpet\":[{\"type\":\"contourcarpet\",\"colorbar\":{\"outlinewidth\":0,\"ticks\":\"\"}}],\"contour\":[{\"type\":\"contour\",\"colorbar\":{\"outlinewidth\":0,\"ticks\":\"\"},\"colorscale\":[[0.0,\"#0d0887\"],[0.1111111111111111,\"#46039f\"],[0.2222222222222222,\"#7201a8\"],[0.3333333333333333,\"#9c179e\"],[0.4444444444444444,\"#bd3786\"],[0.5555555555555556,\"#d8576b\"],[0.6666666666666666,\"#ed7953\"],[0.7777777777777778,\"#fb9f3a\"],[0.8888888888888888,\"#fdca26\"],[1.0,\"#f0f921\"]]}],\"surface\":[{\"type\":\"surface\",\"colorbar\":{\"outlinewidth\":0,\"ticks\":\"\"},\"colorscale\":[[0.0,\"#0d0887\"],[0.1111111111111111,\"#46039f\"],[0.2222222222222222,\"#7201a8\"],[0.3333333333333333,\"#9c179e\"],[0.4444444444444444,\"#bd3786\"],[0.5555555555555556,\"#d8576b\"],[0.6666666666666666,\"#ed7953\"],[0.7777777777777778,\"#fb9f3a\"],[0.8888888888888888,\"#fdca26\"],[1.0,\"#f0f921\"]]}],\"mesh3d\":[{\"type\":\"mesh3d\",\"colorbar\":{\"outlinewidth\":0,\"ticks\":\"\"}}],\"scatter\":[{\"fillpattern\":{\"fillmode\":\"overlay\",\"size\":10,\"solidity\":0.2},\"type\":\"scatter\"}],\"parcoords\":[{\"type\":\"parcoords\",\"line\":{\"colorbar\":{\"outlinewidth\":0,\"ticks\":\"\"}}}],\"scatterpolargl\":[{\"type\":\"scatterpolargl\",\"marker\":{\"colorbar\":{\"outlinewidth\":0,\"ticks\":\"\"}}}],\"bar\":[{\"error_x\":{\"color\":\"#2a3f5f\"},\"error_y\":{\"color\":\"#2a3f5f\"},\"marker\":{\"line\":{\"color\":\"#E5ECF6\",\"width\":0.5},\"pattern\":{\"fillmode\":\"overlay\",\"size\":10,\"solidity\":0.2}},\"type\":\"bar\"}],\"scattergeo\":[{\"type\":\"scattergeo\",\"marker\":{\"colorbar\":{\"outlinewidth\":0,\"ticks\":\"\"}}}],\"scatterpolar\":[{\"type\":\"scatterpolar\",\"marker\":{\"colorbar\":{\"outlinewidth\":0,\"ticks\":\"\"}}}],\"histogram\":[{\"marker\":{\"pattern\":{\"fillmode\":\"overlay\",\"size\":10,\"solidity\":0.2}},\"type\":\"histogram\"}],\"scattergl\":[{\"type\":\"scattergl\",\"marker\":{\"colorbar\":{\"outlinewidth\":0,\"ticks\":\"\"}}}],\"scatter3d\":[{\"type\":\"scatter3d\",\"line\":{\"colorbar\":{\"outlinewidth\":0,\"ticks\":\"\"}},\"marker\":{\"colorbar\":{\"outlinewidth\":0,\"ticks\":\"\"}}}],\"scattermapbox\":[{\"type\":\"scattermapbox\",\"marker\":{\"colorbar\":{\"outlinewidth\":0,\"ticks\":\"\"}}}],\"scatterternary\":[{\"type\":\"scatterternary\",\"marker\":{\"colorbar\":{\"outlinewidth\":0,\"ticks\":\"\"}}}],\"scattercarpet\":[{\"type\":\"scattercarpet\",\"marker\":{\"colorbar\":{\"outlinewidth\":0,\"ticks\":\"\"}}}],\"carpet\":[{\"aaxis\":{\"endlinecolor\":\"#2a3f5f\",\"gridcolor\":\"white\",\"linecolor\":\"white\",\"minorgridcolor\":\"white\",\"startlinecolor\":\"#2a3f5f\"},\"baxis\":{\"endlinecolor\":\"#2a3f5f\",\"gridcolor\":\"white\",\"linecolor\":\"white\",\"minorgridcolor\":\"white\",\"startlinecolor\":\"#2a3f5f\"},\"type\":\"carpet\"}],\"table\":[{\"cells\":{\"fill\":{\"color\":\"#EBF0F8\"},\"line\":{\"color\":\"white\"}},\"header\":{\"fill\":{\"color\":\"#C8D4E3\"},\"line\":{\"color\":\"white\"}},\"type\":\"table\"}],\"barpolar\":[{\"marker\":{\"line\":{\"color\":\"#E5ECF6\",\"width\":0.5},\"pattern\":{\"fillmode\":\"overlay\",\"size\":10,\"solidity\":0.2}},\"type\":\"barpolar\"}],\"pie\":[{\"automargin\":true,\"type\":\"pie\"}]},\"layout\":{\"autotypenumbers\":\"strict\",\"colorway\":[\"#636efa\",\"#EF553B\",\"#00cc96\",\"#ab63fa\",\"#FFA15A\",\"#19d3f3\",\"#FF6692\",\"#B6E880\",\"#FF97FF\",\"#FECB52\"],\"font\":{\"color\":\"#2a3f5f\"},\"hovermode\":\"closest\",\"hoverlabel\":{\"align\":\"left\"},\"paper_bgcolor\":\"white\",\"plot_bgcolor\":\"#E5ECF6\",\"polar\":{\"bgcolor\":\"#E5ECF6\",\"angularaxis\":{\"gridcolor\":\"white\",\"linecolor\":\"white\",\"ticks\":\"\"},\"radialaxis\":{\"gridcolor\":\"white\",\"linecolor\":\"white\",\"ticks\":\"\"}},\"ternary\":{\"bgcolor\":\"#E5ECF6\",\"aaxis\":{\"gridcolor\":\"white\",\"linecolor\":\"white\",\"ticks\":\"\"},\"baxis\":{\"gridcolor\":\"white\",\"linecolor\":\"white\",\"ticks\":\"\"},\"caxis\":{\"gridcolor\":\"white\",\"linecolor\":\"white\",\"ticks\":\"\"}},\"coloraxis\":{\"colorbar\":{\"outlinewidth\":0,\"ticks\":\"\"}},\"colorscale\":{\"sequential\":[[0.0,\"#0d0887\"],[0.1111111111111111,\"#46039f\"],[0.2222222222222222,\"#7201a8\"],[0.3333333333333333,\"#9c179e\"],[0.4444444444444444,\"#bd3786\"],[0.5555555555555556,\"#d8576b\"],[0.6666666666666666,\"#ed7953\"],[0.7777777777777778,\"#fb9f3a\"],[0.8888888888888888,\"#fdca26\"],[1.0,\"#f0f921\"]],\"sequentialminus\":[[0.0,\"#0d0887\"],[0.1111111111111111,\"#46039f\"],[0.2222222222222222,\"#7201a8\"],[0.3333333333333333,\"#9c179e\"],[0.4444444444444444,\"#bd3786\"],[0.5555555555555556,\"#d8576b\"],[0.6666666666666666,\"#ed7953\"],[0.7777777777777778,\"#fb9f3a\"],[0.8888888888888888,\"#fdca26\"],[1.0,\"#f0f921\"]],\"diverging\":[[0,\"#8e0152\"],[0.1,\"#c51b7d\"],[0.2,\"#de77ae\"],[0.3,\"#f1b6da\"],[0.4,\"#fde0ef\"],[0.5,\"#f7f7f7\"],[0.6,\"#e6f5d0\"],[0.7,\"#b8e186\"],[0.8,\"#7fbc41\"],[0.9,\"#4d9221\"],[1,\"#276419\"]]},\"xaxis\":{\"gridcolor\":\"white\",\"linecolor\":\"white\",\"ticks\":\"\",\"title\":{\"standoff\":15},\"zerolinecolor\":\"white\",\"automargin\":true,\"zerolinewidth\":2},\"yaxis\":{\"gridcolor\":\"white\",\"linecolor\":\"white\",\"ticks\":\"\",\"title\":{\"standoff\":15},\"zerolinecolor\":\"white\",\"automargin\":true,\"zerolinewidth\":2},\"scene\":{\"xaxis\":{\"backgroundcolor\":\"#E5ECF6\",\"gridcolor\":\"white\",\"linecolor\":\"white\",\"showbackground\":true,\"ticks\":\"\",\"zerolinecolor\":\"white\",\"gridwidth\":2},\"yaxis\":{\"backgroundcolor\":\"#E5ECF6\",\"gridcolor\":\"white\",\"linecolor\":\"white\",\"showbackground\":true,\"ticks\":\"\",\"zerolinecolor\":\"white\",\"gridwidth\":2},\"zaxis\":{\"backgroundcolor\":\"#E5ECF6\",\"gridcolor\":\"white\",\"linecolor\":\"white\",\"showbackground\":true,\"ticks\":\"\",\"zerolinecolor\":\"white\",\"gridwidth\":2}},\"shapedefaults\":{\"line\":{\"color\":\"#2a3f5f\"}},\"annotationdefaults\":{\"arrowcolor\":\"#2a3f5f\",\"arrowhead\":0,\"arrowwidth\":1},\"geo\":{\"bgcolor\":\"white\",\"landcolor\":\"#E5ECF6\",\"subunitcolor\":\"white\",\"showland\":true,\"showlakes\":true,\"lakecolor\":\"white\"},\"title\":{\"x\":0.05},\"mapbox\":{\"style\":\"light\"}}},\"shapes\":[{\"line\":{\"color\":\"blue\",\"dash\":\"dash\"},\"name\":\"Mean Test Case 2 - Non-AI\",\"type\":\"line\",\"x0\":81.64722222222223,\"x1\":81.64722222222223,\"y0\":0,\"y1\":0.02330372269475248},{\"line\":{\"color\":\"orange\",\"dash\":\"dash\"},\"name\":\"Mean Test Case 2 - AI\",\"type\":\"line\",\"x0\":17.905555555555555,\"x1\":17.905555555555555,\"y0\":0,\"y1\":0.04177813238465082},{\"line\":{\"color\":\"green\",\"dash\":\"dash\"},\"name\":\"Mean Test Case 3 - Non-AI\",\"type\":\"line\",\"x0\":42.06666666833334,\"x1\":42.06666666833334,\"y0\":0,\"y1\":0.019223054442312457},{\"line\":{\"color\":\"red\",\"dash\":\"dash\"},\"name\":\"Mean Test Case 3 - AI\",\"type\":\"line\",\"x0\":27.094444445500002,\"x1\":27.094444445500002,\"y0\":0,\"y1\":0.02208516607613194}],\"annotations\":[{\"arrowhead\":1,\"ax\":20,\"ay\":-20,\"font\":{\"color\":\"blue\"},\"showarrow\":true,\"text\":\"Mean: 81.65\",\"x\":81.64722222222223,\"y\":0.02330372269475248},{\"arrowhead\":1,\"ax\":20,\"ay\":-20,\"font\":{\"color\":\"orange\"},\"showarrow\":true,\"text\":\"Mean: 17.91\",\"x\":17.905555555555555,\"y\":0.04177813238465082},{\"arrowhead\":1,\"ax\":20,\"ay\":-20,\"font\":{\"color\":\"green\"},\"showarrow\":true,\"text\":\"Mean: 42.07\",\"x\":42.06666666833334,\"y\":0.019223054442312457},{\"arrowhead\":1,\"ax\":20,\"ay\":-20,\"font\":{\"color\":\"red\"},\"showarrow\":true,\"text\":\"Mean: 27.09\",\"x\":27.094444445500002,\"y\":0.02208516607613194}],\"title\":{\"text\":\"Probability Density Function of Duration by Test Case and AI Utilization with Means\"},\"xaxis\":{\"title\":{\"text\":\"Duration (Minutes)\"}},\"yaxis\":{\"title\":{\"text\":\"Density\"}},\"width\":1000,\"height\":600},                        {\"responsive\": true}                    ).then(function(){\n",
              "                            \n",
              "var gd = document.getElementById('057b3671-ad63-4ac7-8fe8-c1b7f27de36b');\n",
              "var x = new MutationObserver(function (mutations, observer) {{\n",
              "        var display = window.getComputedStyle(gd).display;\n",
              "        if (!display || display === 'none') {{\n",
              "            console.log([gd, 'removed!']);\n",
              "            Plotly.purge(gd);\n",
              "            observer.disconnect();\n",
              "        }}\n",
              "}});\n",
              "\n",
              "// Listen for the removal of the full notebook cells\n",
              "var notebookContainer = gd.closest('#notebook-container');\n",
              "if (notebookContainer) {{\n",
              "    x.observe(notebookContainer, {childList: true});\n",
              "}}\n",
              "\n",
              "// Listen for the clearing of the current output cell\n",
              "var outputEl = gd.closest('.output');\n",
              "if (outputEl) {{\n",
              "    x.observe(outputEl, {childList: true});\n",
              "}}\n",
              "\n",
              "                        })                };                            </script>        </div>\n",
              "</body>\n",
              "</html>"
            ]
          },
          "metadata": {}
        }
      ]
    },
    {
      "cell_type": "code",
      "source": [
        "import plotly.graph_objects as go\n",
        "from plotly.subplots import make_subplots\n",
        "import numpy as np\n",
        "from scipy.stats import gaussian_kde\n",
        "\n",
        "# Data groups for plotting\n",
        "data_groups = [\n",
        "    (group_0['data_usage_total_MB'], \"Total Data Usage (MB)\", \"Non-AI\", 'blue'),\n",
        "    (group_1['data_usage_total_MB'], \"Total Data Usage (MB)\", \"AI\", 'orange'),\n",
        "    (group_0['duration_min'], \"Total Time (Minutes)\", \"Non-AI\", 'blue'),\n",
        "    (group_1['duration_min'], \"Total Time (Minutes)\", \"AI\", 'orange')\n",
        "]\n",
        "\n",
        "# Function to calculate KDE\n",
        "def get_density_curve(data):\n",
        "    kde = gaussian_kde(data)\n",
        "    x_values = np.linspace(min(data), max(data), 100)\n",
        "    y_values = kde(x_values)\n",
        "    return x_values, y_values\n",
        "\n",
        "# Create subplots with 1 row and 2 columns\n",
        "fig = make_subplots(rows=1, cols=2, subplot_titles=('Total Data Usage (MB): NON_AI vs AI', 'Total Time: NON_AI vs AI'))\n",
        "\n",
        "# Plot PDF for each group\n",
        "for i, (data, title, label, color) in enumerate(data_groups):\n",
        "    x_values, y_values = get_density_curve(data)\n",
        "\n",
        "    # Determine column based on the title (Data Usage vs. Time)\n",
        "    col = 1 if \"Data Usage\" in title else 2\n",
        "\n",
        "    # Add each KDE trace\n",
        "    fig.add_trace(\n",
        "        go.Scatter(\n",
        "            x=x_values,\n",
        "            y=y_values,\n",
        "            mode=\"lines\",\n",
        "            line=dict(color=color, width=2),\n",
        "            name=f\"{label} - {title}\"\n",
        "        ),\n",
        "        row=1, col=col\n",
        "    )\n",
        "\n",
        "    # Calculate mean and add a vertical dashed line to indicate it\n",
        "    mean_value = np.mean(data)\n",
        "    fig.add_trace(\n",
        "        go.Scatter(\n",
        "            x=[mean_value, mean_value],\n",
        "            y=[0, max(y_values)],\n",
        "            mode=\"lines\",\n",
        "            line=dict(color=color, dash=\"dash\"),\n",
        "            name=f\"Mean - {label} ({mean_value:.2f})\"\n",
        "        ),\n",
        "        row=1, col=col\n",
        "    )\n",
        "\n",
        "# Update layout for both figures with titles\n",
        "fig.update_layout(\n",
        "    height=600, width=1000,\n",
        "    title_text=\"Probability Density Function of Merged Data Usage and Total Time by AI Utilization\",\n",
        "    legend=dict(title=\"Groups\", itemsizing=\"constant\")\n",
        ")\n",
        "\n",
        "# Update axis labels\n",
        "fig.update_yaxes(title_text=\"Density\", row=1, col=1)\n",
        "fig.update_yaxes(title_text=\"Density\", row=1, col=2)\n",
        "fig.update_xaxes(title_text=\"Data Usage (MB)\", row=1, col=1)\n",
        "fig.update_xaxes(title_text=\"Time (Minutes)\", row=1, col=2)\n",
        "\n",
        "fig.show()\n"
      ],
      "metadata": {
        "colab": {
          "base_uri": "https://localhost:8080/",
          "height": 617
        },
        "id": "pfvhHD3DLIGe",
        "outputId": "6d20a2f2-ce18-41e9-b839-2269c8a3d38b"
      },
      "execution_count": null,
      "outputs": [
        {
          "output_type": "display_data",
          "data": {
            "text/html": [
              "<html>\n",
              "<head><meta charset=\"utf-8\" /></head>\n",
              "<body>\n",
              "    <div>            <script src=\"https://cdnjs.cloudflare.com/ajax/libs/mathjax/2.7.5/MathJax.js?config=TeX-AMS-MML_SVG\"></script><script type=\"text/javascript\">if (window.MathJax && window.MathJax.Hub && window.MathJax.Hub.Config) {window.MathJax.Hub.Config({SVG: {font: \"STIX-Web\"}});}</script>                <script type=\"text/javascript\">window.PlotlyConfig = {MathJaxConfig: 'local'};</script>\n",
              "        <script charset=\"utf-8\" src=\"https://cdn.plot.ly/plotly-2.35.2.min.js\"></script>                <div id=\"99f6f7b3-2bd0-4dc3-bd1d-ba5f35417dc6\" class=\"plotly-graph-div\" style=\"height:600px; width:1000px;\"></div>            <script type=\"text/javascript\">                                    window.PLOTLYENV=window.PLOTLYENV || {};                                    if (document.getElementById(\"99f6f7b3-2bd0-4dc3-bd1d-ba5f35417dc6\")) {                    Plotly.newPlot(                        \"99f6f7b3-2bd0-4dc3-bd1d-ba5f35417dc6\",                        [{\"line\":{\"color\":\"blue\",\"width\":2},\"mode\":\"lines\",\"name\":\"Non-AI - Total Data Usage (MB)\",\"x\":[31.458984375,38.44680175404041,45.43461913308081,52.42243651212121,59.41025389116162,66.39807127020202,73.38588864924242,80.37370602828283,87.36152340732323,94.34934078636364,101.33715816540405,108.32497554444444,115.31279292348485,122.30061030252526,129.28842768156565,136.27624506060607,143.26406243964647,150.25187981868686,157.23969719772728,164.22751457676767,171.2153319558081,178.2031493348485,185.19096671388888,192.1787840929293,199.1666014719697,206.1544188510101,213.14223623005051,220.1300536090909,227.1178709881313,234.10568836717172,241.09350574621212,248.08132312525254,255.06914050429293,262.0569578833333,269.0447752623737,276.0325926414141,283.02041002045456,290.00822739949496,296.99604477853535,303.98386215757574,310.9716795366162,317.9594969156566,324.947314294697,331.9351316737374,338.92294905277777,345.91076643181816,352.8985838108586,359.886401189899,366.8742185689394,373.8620359479798,380.8498533270202,387.83767070606063,394.82548808510103,401.8133054641414,408.8011228431818,415.7889402222222,422.7767576012626,429.76457498030305,436.75239235934345,443.74020973838384,450.72802711742423,457.7158444964646,464.7036618755051,471.69147925454547,478.67929663358586,485.66711401262626,492.65493139166665,499.6427487707071,506.6305661497475,513.618383528788,520.6062009078282,527.5940182868687,534.5818356659091,541.5696530449495,548.5574704239899,555.5452878030303,562.5331051820707,569.5209225611111,576.5087399401515,583.4965573191919,590.4843746982324,597.4721920772728,604.4600094563132,611.4478268353536,618.435644214394,625.4234615934344,632.4112789724747,639.3990963515151,646.3869137305555,653.3747311095959,660.3625484886363,667.3503658676768,674.3381832467172,681.3260006257576,688.313818004798,695.3016353838384,702.2894527628788,709.2772701419192,716.2650875209596,723.2529049],\"y\":[0.0005848130769619017,0.0005955647539675321,0.000605745520173944,0.0006154135441139241,0.0006246397012243346,0.000633506853728501,0.0006421089046623525,0.0006505496374587508,0.0006589413569476236,0.0006674033517740066,0.0006760602019812742,0.0006850399587631587,0.0006944722260796823,0.0007044861758986171,0.0007152085302225078,0.0007267615437667865,0.000739261021160613,0.0007528144018606024,0.0007675189446274817,0.0007834600414618576,0.0008007096883864263,0.0008193251374685944,0.0008393477510791583,0.0008608020756653714,0.0008836951483699763,0.000908016045741973,0.000933735679648735,0.0009608068413971208,0.0009891644910819284,0.001018726285373989,0.0010493933333990413,0.0010810511670938713,0.0011135709094994726,0.0011468106218932574,0.0011806168084947518,0.0012148260557136438,0.0012492667815490648,0.001283761069790835,0.0013181265631073862,0.0013521783889165117,0.001385731092105814,0.0014186005491787917,0.0014506058392274807,0.0014815710482499374,0.0015113269847168286,0.001539712785922004,0.0015665773965032553,0.0015917809025676386,0.0016151957070765,0.001636707534514034,0.0016562162553541687,0.0016736365234269219,0.0016888982219386472,0.0017019467165904803,0.0017127429169336602,0.0017212631497652167,0.0017274988509671796,0.0017314560846902044,0.0017331549011409524,0.0017326285464144926,0.001729922539782175,0.0017250936355676116,0.0017182086881872747,0.0017093434400703258,0.0016985812529820943,0.001686011803740217,0.0016717297654212497,0.0016558334949049625,0.0016384237469970172,0.0016196024344191594,0.0015994714516775175,0.0015781315792389983,0.0015556814825944862,0.001532216818702492,0.0015078294600300308,0.0014826068439843703,0.001456631453008516,0.0014299804280449575,0.0014027253155071196,0.0013749319453863,0.0013466604357121863,0.0013179653163233043,0.0012888957628322314,0.0012594959298271678,0.0012298053707692194,0.001199859530750767,0.001169690297295377,0.0011393265937183685,0.0011087949992369286,0.0010781203800203894,0.0010473265156988795,0.0010164367064893235,0.0009854743470325826,0.0009544634542393521,0.0009234291378847274,0.0008923980043368234,0.0008613984856141398,0.0008304610878969568,0.0007996185556251793,0.0007689059493526966],\"type\":\"scatter\",\"xaxis\":\"x\",\"yaxis\":\"y\"},{\"line\":{\"color\":\"blue\",\"dash\":\"dash\"},\"mode\":\"lines\",\"name\":\"Mean - Non-AI (403.96)\",\"x\":[403.960459708459,403.960459708459],\"y\":[0,0.0017331549011409524],\"type\":\"scatter\",\"xaxis\":\"x\",\"yaxis\":\"y\"},{\"line\":{\"color\":\"orange\",\"width\":2},\"mode\":\"lines\",\"name\":\"AI - Total Data Usage (MB)\",\"x\":[1.0224609375,4.086519491666667,7.150578045833334,10.2146366,13.278695154166668,16.342753708333333,19.4068122625,22.470870816666668,25.534929370833336,28.598987925000003,31.66304647916667,34.72710503333334,37.7911635875,40.85522214166667,43.919280695833336,46.98333925000001,50.04739780416667,53.111456358333335,56.175514912500006,59.23957346666667,62.30363202083334,65.36769057500001,68.43174912916668,71.49580768333334,74.5598662375,77.62392479166667,80.68798334583335,83.75204190000001,86.81610045416667,89.88015900833334,92.94421756250001,96.00827611666668,99.07233467083334,102.136393225,105.20045177916667,108.26451033333335,111.32856888750001,114.39262744166668,117.45668599583334,120.52074455000002,123.58480310416668,126.64886165833335,129.71292021250002,132.77697876666667,135.84103732083335,138.905095875,141.96915442916668,145.03321298333336,148.0972715375,151.16133009166668,154.22538864583333,157.2894472,160.3535057541667,163.41756430833334,166.48162286250002,169.5456814166667,172.60973997083335,175.67379852500002,178.73785707916667,181.80191563333335,184.86597418750003,187.93003274166668,190.99409129583336,194.05814985,197.12220840416668,200.18626695833336,203.2503255125,206.3143840666667,209.37844262083334,212.44250117500002,215.5065597291667,218.57061828333335,221.63467683750002,224.69873539166667,227.76279394583335,230.82685250000003,233.89091105416668,236.95496960833336,240.01902816250004,243.08308671666668,246.14714527083336,249.211203825,252.2752623791667,255.33932093333337,258.40337948750005,261.4674380416667,264.53149659583335,267.59555515000005,270.6596137041667,273.72367225833335,276.7877308125,279.8517893666667,282.91584792083336,285.979906475,289.0439650291667,292.10802358333336,295.1720821375,298.2361406916667,301.30019924583337,304.3642578],\"y\":[0.0031400941605865154,0.003191006664676007,0.003238001878121529,0.0032810181974933443,0.003320018040043603,0.003354986975237488,0.003385932567448328,0.003412882960270796,0.0034358852380588518,0.00345500360459919,0.0034703174221717824,0.0034819191565367146,0.003489912274558381,0.0034944091412013756,0.0034955289615052165,0.0034933958108966366,0.003488136793888514,0.0034798803669325736,0.00346875485605453,0.0034548871940445615,0.0034384018955616364,0.0034194202817111616,0.003398059958655504,0.0033744345478049936,0.003348653658301103,0.0033208230860258757,0.003291045217423413,0.0032594196111554318,0.003226043726168483,0.0031910137612363495,0.003154425568541382,0.0031163756024283223,0.0030769618641281584,0.00303628480400209,0.0029944481446609827,0.0029515595911093016,0.002907731397753811,0.002863080766592249,0.0028177300560218543,0.002771806785332767,0.0027254434259163037,0.0026787769763560966,0.002631948324712644,0.0025851014072936123,0.0025383821788658736,0.002491937414465178,0.0024459133675658246,0.002400454313275026,0.002355701008325685,0.0023117891018914266,0.002268847532598145,0.0022269969475411703,0.002186348178645852,0.002147000810364722,0.002109041870542105,0.002072544673372417,0.0020375678398243777,0.002004154516807177,0.001972331811834284,0.0019421104551214908,0.0019134846960669248,0.0018864324360310918,0.0018609155943900405,0.001836880700093101,0.0018142596965272412,0.0017929709434695547,0.0017729203963797904,0.001754002940312342,0.0017361038533605178,0.001719100372816465,0.0017028633361510902,0.0016872588684857476,0.0016721500884209744,0.0016573988048716177,0.0016428671788835643,0.0016284193262148074,0.0016139228386835203,0.0015992502048422696,0.0015842801133503245,0.0015688986254032585,0.0015530002056593666,0.0015364886041972997,0.0015192775850750534,0.001501291499969948,0.00148246570810348,0.001462746846144039,0.0014420929539946483,0.0014204734642826215,0.001397869064954461,0.0013742714456337246,0.0013496829393231894,0.0013241160716353248,0.0012975930300349998,0.0012701450655999904,0.0012418118395785104,0.0012126407265825457,0.0011826860856380362,0.0011520085095556767,0.0011206740622270342,0.0010887535125261103],\"type\":\"scatter\",\"xaxis\":\"x\",\"yaxis\":\"y\"},{\"line\":{\"color\":\"orange\",\"dash\":\"dash\"},\"mode\":\"lines\",\"name\":\"Mean - AI (102.05)\",\"x\":[102.0518146330157,102.0518146330157],\"y\":[0,0.0034955289615052165],\"type\":\"scatter\",\"xaxis\":\"x\",\"yaxis\":\"y\"},{\"line\":{\"color\":\"blue\",\"width\":2},\"mode\":\"lines\",\"name\":\"Non-AI - Total Time (Minutes)\",\"x\":[24.41666667,25.26599326929293,26.11531986858586,26.96464646787879,27.81397306717172,28.66329966646465,29.512626265757575,30.361952865050505,31.211279464343434,32.060606063636364,32.90993266292929,33.75925926222222,34.60858586151515,35.45791246080808,36.30723906010101,37.15656565939394,38.00589225868687,38.8552188579798,39.70454545727273,40.55387205656566,41.40319865585859,42.25252525515152,43.10185185444445,43.95117845373738,44.80050505303031,45.64983165232323,46.499158251616166,47.34848485090909,48.197811450202025,49.04713804949495,49.896464648787884,50.745791248080806,51.59511784737374,52.444444446666665,53.2937710459596,54.143097645252524,54.99242424454546,55.84175084383838,56.69107744313132,57.54040404242424,58.38973064171718,59.2390572410101,60.08838384030304,60.93771043959596,61.7870370388889,62.63636363818182,63.485690237474756,64.33501683676768,65.1843434360606,66.03367003535354,66.88299663464646,67.7323232339394,68.58164983323232,69.43097643252526,70.28030303181818,71.12962963111111,71.97895623040404,72.82828282969697,73.6776094289899,74.52693602828283,75.37626262757576,76.22558922686869,77.07491582616161,77.92424242545455,78.77356902474747,79.62289562404041,80.47222222333333,81.32154882262627,82.17087542191919,83.02020202121213,83.86952862050505,84.71885521979799,85.56818181909091,86.41750841838385,87.26683501767677,88.1161616169697,88.96548821626263,89.81481481555555,90.66414141484849,91.51346801414141,92.36279461343435,93.21212121272727,94.0614478120202,94.91077441131313,95.76010101060606,96.60942760989899,97.45875420919192,98.30808080848485,99.15740740777778,100.0067340070707,100.85606060636364,101.70538720565656,102.5547138049495,103.40404040424242,104.25336700353536,105.10269360282828,105.9520202021212,106.80134680141414,107.65067340070706,108.5],\"y\":[0.0074259163914987296,0.007633345065511029,0.007834025833665501,0.008027640082204825,0.008213944936072411,0.00839277345285957,0.00856403361467088,0.008727706171970313,0.008883841419200685,0.009032555005020688,0.009174022899656029,0.00930847565750664,0.009436192124317908,0.009557492744593828,0.009672732626356264,0.009782294516865303,0.009886581834717514,0.009986011891208268,0.010081009417516811,0.010172000494823733,0.010259406962689099,0.010343641357781106,0.010425102411276857,0.010504171109902443,0.01058120730356317,0.010656546822704371,0.010730499051716507,0.010803344891511371,0.010875335035357795,0.010946688477513757,0.011017591174283392,0.011088194781825548,0.011158615404118277,0.011228932297529404,0.011299186494876242,0.011369379330948696,0.01143947087236999,0.01150937827643986,0.01157897412525642,0.011648084801941048,0.011716488994217279,0.011783916426006541,0.011850046929288113,0.011914509975550571,0.011976884788223525,0.012036701154192513,0.012093441043741755,0.012146541134121995,0.012195396312700233,0.012239364211813404,0.012277770799707332,0.012309917021150314,0.012335086448460509,0.012352553869875011,0.012361594708578954,0.012361495133492969,0.012351562693256367,0.012331137278851826,0.01229960219900315,0.012256395136712828,0.012201018745789568,0.012133050643450372,0.012052152559350951,0.011958078412755481,0.011850681107820985,0.011729917861729468,0.011595853911021688,0.011448664477137731,0.011288634911849331,0.01111615898583345,0.010931735327842335,0.010735962066468091,0.010529529770059609,0.010313212821633846,0.010087859403411541,0.009854380298787716,0.009613736747159509,0.00936692760829181,0.009114976107226232,0.008858916437769374,0.00859978050220293,0.00833858505714182,0.008076319520753586,0.00781393467538018,0.007552332472698295,0.0072923571168066114,0.007034787565056025,0.006780331548156271,0.006529621171267001,0.006283210117598606,0.0060415724366684985,0.0058051028618844105,0.005574118567563056,0.005348862244725152,0.0051295063487692555,0.004916158350986823,0.00470886681022647,0.004507628071052519,0.004312393390490912,0.0041230762967595785],\"type\":\"scatter\",\"xaxis\":\"x2\",\"yaxis\":\"y2\"},{\"line\":{\"color\":\"blue\",\"dash\":\"dash\"},\"mode\":\"lines\",\"name\":\"Mean - Non-AI (61.86)\",\"x\":[61.856944445277776,61.856944445277776],\"y\":[0,0.012361594708578954],\"type\":\"scatter\",\"xaxis\":\"x2\",\"yaxis\":\"y2\"},{\"line\":{\"color\":\"orange\",\"width\":2},\"mode\":\"lines\",\"name\":\"AI - Total Time (Minutes)\",\"x\":[6.966666666666667,7.3797979798316495,7.792929292996633,8.206060606161616,8.6191919193266,9.032323232491581,9.445454545656565,9.858585858821549,10.271717171986532,10.684848485151516,11.097979798316498,11.511111111481481,11.924242424646465,12.337373737811447,12.75050505097643,13.163636364141414,13.576767677306396,13.98989899047138,14.403030303636363,14.816161616801345,15.229292929966329,15.642424243131313,16.055555556296298,16.46868686946128,16.88181818262626,17.294949495791244,17.70808080895623,18.12121212212121,18.534343435286196,18.947474748451178,19.36060606161616,19.773737374781142,20.186868687946127,20.600000001111113,21.013131314276094,21.426262627441076,21.839393940606058,22.252525253771044,22.665656566936025,23.07878788010101,23.491919193265993,23.905050506430975,24.318181819595956,24.73131313276094,25.144444445925927,25.55757575909091,25.97070707225589,26.383838385420873,26.796969698585855,27.210101011750844,27.623232324915826,28.036363638080807,28.44949495124579,28.86262626441077,29.275757577575753,29.688888890740742,30.102020203905724,30.515151517070706,30.928282830235688,31.34141414340067,31.75454545656566,32.16767676973064,32.58080808289562,32.993939396060604,33.407070709225586,33.82020202239057,34.23333333555556,34.64646464872054,35.05959596188552,35.4727272750505,35.885858588215484,36.29898990138047,36.712121214545455,37.12525252771044,37.53838384087542,37.9515151540404,38.36464646720538,38.77777778037037,39.19090909353535,39.604040406700335,40.01717171986532,40.430303033030306,40.84343434619529,41.25656565936027,41.66969697252525,42.08282828569023,42.495959598855215,42.909090912020204,43.322222225185186,43.73535353835017,44.14848485151515,44.56161616468013,44.97474747784512,45.3878787910101,45.801010104175084,46.214141417340066,46.62727273050505,47.04040404367003,47.45353535683502,47.86666667],\"y\":[0.01961574151468211,0.02034598434448554,0.021066426244843763,0.021774518117866307,0.022467715756183997,0.023143495578225193,0.023799370522027755,0.0244329059872425,0.02504173571134729,0.025623577462652425,0.026176248429599966,0.026697680183333208,0.027185933088754194,0.02763921003852189,0.028055869384892757,0.028434436946174334,0.028773616968025096,0.029072301925023584,0.02932958105492911,0.029544747526888123,0.02971730415546786,0.029846967584721894,0.02993367088035092,0.02997756448320412,0.02997901549361429,0.029938605273081616,0.029857125367304938,0.029735571772184093,0.029575137581867854,0.029377204074901308,0.029143330310764895,0.028875241324363417,0.028574815020127996,0.028244067880195043,0.027885139612527286,0.027500276874790064,0.027091816218276065,0.026662166403198108,0.026213790242278455,0.025749186133800277,0.025270869448200558,0.024781353933912245,0.02428313330853078,0.023778663200487455,0.023270343604237517,0.022760502008467284,0.022251377351923497,0.02174510495508637,0.021243702567953986,0.020749057664591744,0.020262916103755323,0.01978687226177157,0.01932236072895553,0.018870649644196387,0.018432835724066024,0.01800984102306091,0.017602411440620858,0.017211116968684402,0.016836353651112614,0.016478347203767868,0.01613715822184357,0.015812688879704852,0.015504691008528786,0.015212775418929788,0.014936422319993172,0.014674992673144163,0.014427740309407017,0.01419382463213382,0.013972323724379756,0.013762247680840285,0.013562551988600104,0.013372150788716484,0.013189929861601802,0.013014759192913384,0.012845504992746372,0.012681041058829817,0.01252025939356922,0.012362080004554205,0.012205459837945284,0.012049400813376316,0.011892956947106497,0.01173524056663797,0.01157542763447194,0.011412762210792071,0.01124656009442759,0.011076211688359285,0.010901184140299471,0.010721022810619162,0.010535352119328333,0.010343875821239816,0.010146376754236554,0.009942716100138766,0.009732832191486934,0.009516738891082479,0.009294523564813448,0.009066344662559062,0.00883242891718555,0.008593068168123906,0.008348615813986176,0.008099482898275294],\"type\":\"scatter\",\"xaxis\":\"x2\",\"yaxis\":\"y2\"},{\"line\":{\"color\":\"orange\",\"dash\":\"dash\"},\"mode\":\"lines\",\"name\":\"Mean - AI (22.50)\",\"x\":[22.500000000527777,22.500000000527777],\"y\":[0,0.02997901549361429],\"type\":\"scatter\",\"xaxis\":\"x2\",\"yaxis\":\"y2\"}],                        {\"template\":{\"data\":{\"histogram2dcontour\":[{\"type\":\"histogram2dcontour\",\"colorbar\":{\"outlinewidth\":0,\"ticks\":\"\"},\"colorscale\":[[0.0,\"#0d0887\"],[0.1111111111111111,\"#46039f\"],[0.2222222222222222,\"#7201a8\"],[0.3333333333333333,\"#9c179e\"],[0.4444444444444444,\"#bd3786\"],[0.5555555555555556,\"#d8576b\"],[0.6666666666666666,\"#ed7953\"],[0.7777777777777778,\"#fb9f3a\"],[0.8888888888888888,\"#fdca26\"],[1.0,\"#f0f921\"]]}],\"choropleth\":[{\"type\":\"choropleth\",\"colorbar\":{\"outlinewidth\":0,\"ticks\":\"\"}}],\"histogram2d\":[{\"type\":\"histogram2d\",\"colorbar\":{\"outlinewidth\":0,\"ticks\":\"\"},\"colorscale\":[[0.0,\"#0d0887\"],[0.1111111111111111,\"#46039f\"],[0.2222222222222222,\"#7201a8\"],[0.3333333333333333,\"#9c179e\"],[0.4444444444444444,\"#bd3786\"],[0.5555555555555556,\"#d8576b\"],[0.6666666666666666,\"#ed7953\"],[0.7777777777777778,\"#fb9f3a\"],[0.8888888888888888,\"#fdca26\"],[1.0,\"#f0f921\"]]}],\"heatmap\":[{\"type\":\"heatmap\",\"colorbar\":{\"outlinewidth\":0,\"ticks\":\"\"},\"colorscale\":[[0.0,\"#0d0887\"],[0.1111111111111111,\"#46039f\"],[0.2222222222222222,\"#7201a8\"],[0.3333333333333333,\"#9c179e\"],[0.4444444444444444,\"#bd3786\"],[0.5555555555555556,\"#d8576b\"],[0.6666666666666666,\"#ed7953\"],[0.7777777777777778,\"#fb9f3a\"],[0.8888888888888888,\"#fdca26\"],[1.0,\"#f0f921\"]]}],\"heatmapgl\":[{\"type\":\"heatmapgl\",\"colorbar\":{\"outlinewidth\":0,\"ticks\":\"\"},\"colorscale\":[[0.0,\"#0d0887\"],[0.1111111111111111,\"#46039f\"],[0.2222222222222222,\"#7201a8\"],[0.3333333333333333,\"#9c179e\"],[0.4444444444444444,\"#bd3786\"],[0.5555555555555556,\"#d8576b\"],[0.6666666666666666,\"#ed7953\"],[0.7777777777777778,\"#fb9f3a\"],[0.8888888888888888,\"#fdca26\"],[1.0,\"#f0f921\"]]}],\"contourcarpet\":[{\"type\":\"contourcarpet\",\"colorbar\":{\"outlinewidth\":0,\"ticks\":\"\"}}],\"contour\":[{\"type\":\"contour\",\"colorbar\":{\"outlinewidth\":0,\"ticks\":\"\"},\"colorscale\":[[0.0,\"#0d0887\"],[0.1111111111111111,\"#46039f\"],[0.2222222222222222,\"#7201a8\"],[0.3333333333333333,\"#9c179e\"],[0.4444444444444444,\"#bd3786\"],[0.5555555555555556,\"#d8576b\"],[0.6666666666666666,\"#ed7953\"],[0.7777777777777778,\"#fb9f3a\"],[0.8888888888888888,\"#fdca26\"],[1.0,\"#f0f921\"]]}],\"surface\":[{\"type\":\"surface\",\"colorbar\":{\"outlinewidth\":0,\"ticks\":\"\"},\"colorscale\":[[0.0,\"#0d0887\"],[0.1111111111111111,\"#46039f\"],[0.2222222222222222,\"#7201a8\"],[0.3333333333333333,\"#9c179e\"],[0.4444444444444444,\"#bd3786\"],[0.5555555555555556,\"#d8576b\"],[0.6666666666666666,\"#ed7953\"],[0.7777777777777778,\"#fb9f3a\"],[0.8888888888888888,\"#fdca26\"],[1.0,\"#f0f921\"]]}],\"mesh3d\":[{\"type\":\"mesh3d\",\"colorbar\":{\"outlinewidth\":0,\"ticks\":\"\"}}],\"scatter\":[{\"fillpattern\":{\"fillmode\":\"overlay\",\"size\":10,\"solidity\":0.2},\"type\":\"scatter\"}],\"parcoords\":[{\"type\":\"parcoords\",\"line\":{\"colorbar\":{\"outlinewidth\":0,\"ticks\":\"\"}}}],\"scatterpolargl\":[{\"type\":\"scatterpolargl\",\"marker\":{\"colorbar\":{\"outlinewidth\":0,\"ticks\":\"\"}}}],\"bar\":[{\"error_x\":{\"color\":\"#2a3f5f\"},\"error_y\":{\"color\":\"#2a3f5f\"},\"marker\":{\"line\":{\"color\":\"#E5ECF6\",\"width\":0.5},\"pattern\":{\"fillmode\":\"overlay\",\"size\":10,\"solidity\":0.2}},\"type\":\"bar\"}],\"scattergeo\":[{\"type\":\"scattergeo\",\"marker\":{\"colorbar\":{\"outlinewidth\":0,\"ticks\":\"\"}}}],\"scatterpolar\":[{\"type\":\"scatterpolar\",\"marker\":{\"colorbar\":{\"outlinewidth\":0,\"ticks\":\"\"}}}],\"histogram\":[{\"marker\":{\"pattern\":{\"fillmode\":\"overlay\",\"size\":10,\"solidity\":0.2}},\"type\":\"histogram\"}],\"scattergl\":[{\"type\":\"scattergl\",\"marker\":{\"colorbar\":{\"outlinewidth\":0,\"ticks\":\"\"}}}],\"scatter3d\":[{\"type\":\"scatter3d\",\"line\":{\"colorbar\":{\"outlinewidth\":0,\"ticks\":\"\"}},\"marker\":{\"colorbar\":{\"outlinewidth\":0,\"ticks\":\"\"}}}],\"scattermapbox\":[{\"type\":\"scattermapbox\",\"marker\":{\"colorbar\":{\"outlinewidth\":0,\"ticks\":\"\"}}}],\"scatterternary\":[{\"type\":\"scatterternary\",\"marker\":{\"colorbar\":{\"outlinewidth\":0,\"ticks\":\"\"}}}],\"scattercarpet\":[{\"type\":\"scattercarpet\",\"marker\":{\"colorbar\":{\"outlinewidth\":0,\"ticks\":\"\"}}}],\"carpet\":[{\"aaxis\":{\"endlinecolor\":\"#2a3f5f\",\"gridcolor\":\"white\",\"linecolor\":\"white\",\"minorgridcolor\":\"white\",\"startlinecolor\":\"#2a3f5f\"},\"baxis\":{\"endlinecolor\":\"#2a3f5f\",\"gridcolor\":\"white\",\"linecolor\":\"white\",\"minorgridcolor\":\"white\",\"startlinecolor\":\"#2a3f5f\"},\"type\":\"carpet\"}],\"table\":[{\"cells\":{\"fill\":{\"color\":\"#EBF0F8\"},\"line\":{\"color\":\"white\"}},\"header\":{\"fill\":{\"color\":\"#C8D4E3\"},\"line\":{\"color\":\"white\"}},\"type\":\"table\"}],\"barpolar\":[{\"marker\":{\"line\":{\"color\":\"#E5ECF6\",\"width\":0.5},\"pattern\":{\"fillmode\":\"overlay\",\"size\":10,\"solidity\":0.2}},\"type\":\"barpolar\"}],\"pie\":[{\"automargin\":true,\"type\":\"pie\"}]},\"layout\":{\"autotypenumbers\":\"strict\",\"colorway\":[\"#636efa\",\"#EF553B\",\"#00cc96\",\"#ab63fa\",\"#FFA15A\",\"#19d3f3\",\"#FF6692\",\"#B6E880\",\"#FF97FF\",\"#FECB52\"],\"font\":{\"color\":\"#2a3f5f\"},\"hovermode\":\"closest\",\"hoverlabel\":{\"align\":\"left\"},\"paper_bgcolor\":\"white\",\"plot_bgcolor\":\"#E5ECF6\",\"polar\":{\"bgcolor\":\"#E5ECF6\",\"angularaxis\":{\"gridcolor\":\"white\",\"linecolor\":\"white\",\"ticks\":\"\"},\"radialaxis\":{\"gridcolor\":\"white\",\"linecolor\":\"white\",\"ticks\":\"\"}},\"ternary\":{\"bgcolor\":\"#E5ECF6\",\"aaxis\":{\"gridcolor\":\"white\",\"linecolor\":\"white\",\"ticks\":\"\"},\"baxis\":{\"gridcolor\":\"white\",\"linecolor\":\"white\",\"ticks\":\"\"},\"caxis\":{\"gridcolor\":\"white\",\"linecolor\":\"white\",\"ticks\":\"\"}},\"coloraxis\":{\"colorbar\":{\"outlinewidth\":0,\"ticks\":\"\"}},\"colorscale\":{\"sequential\":[[0.0,\"#0d0887\"],[0.1111111111111111,\"#46039f\"],[0.2222222222222222,\"#7201a8\"],[0.3333333333333333,\"#9c179e\"],[0.4444444444444444,\"#bd3786\"],[0.5555555555555556,\"#d8576b\"],[0.6666666666666666,\"#ed7953\"],[0.7777777777777778,\"#fb9f3a\"],[0.8888888888888888,\"#fdca26\"],[1.0,\"#f0f921\"]],\"sequentialminus\":[[0.0,\"#0d0887\"],[0.1111111111111111,\"#46039f\"],[0.2222222222222222,\"#7201a8\"],[0.3333333333333333,\"#9c179e\"],[0.4444444444444444,\"#bd3786\"],[0.5555555555555556,\"#d8576b\"],[0.6666666666666666,\"#ed7953\"],[0.7777777777777778,\"#fb9f3a\"],[0.8888888888888888,\"#fdca26\"],[1.0,\"#f0f921\"]],\"diverging\":[[0,\"#8e0152\"],[0.1,\"#c51b7d\"],[0.2,\"#de77ae\"],[0.3,\"#f1b6da\"],[0.4,\"#fde0ef\"],[0.5,\"#f7f7f7\"],[0.6,\"#e6f5d0\"],[0.7,\"#b8e186\"],[0.8,\"#7fbc41\"],[0.9,\"#4d9221\"],[1,\"#276419\"]]},\"xaxis\":{\"gridcolor\":\"white\",\"linecolor\":\"white\",\"ticks\":\"\",\"title\":{\"standoff\":15},\"zerolinecolor\":\"white\",\"automargin\":true,\"zerolinewidth\":2},\"yaxis\":{\"gridcolor\":\"white\",\"linecolor\":\"white\",\"ticks\":\"\",\"title\":{\"standoff\":15},\"zerolinecolor\":\"white\",\"automargin\":true,\"zerolinewidth\":2},\"scene\":{\"xaxis\":{\"backgroundcolor\":\"#E5ECF6\",\"gridcolor\":\"white\",\"linecolor\":\"white\",\"showbackground\":true,\"ticks\":\"\",\"zerolinecolor\":\"white\",\"gridwidth\":2},\"yaxis\":{\"backgroundcolor\":\"#E5ECF6\",\"gridcolor\":\"white\",\"linecolor\":\"white\",\"showbackground\":true,\"ticks\":\"\",\"zerolinecolor\":\"white\",\"gridwidth\":2},\"zaxis\":{\"backgroundcolor\":\"#E5ECF6\",\"gridcolor\":\"white\",\"linecolor\":\"white\",\"showbackground\":true,\"ticks\":\"\",\"zerolinecolor\":\"white\",\"gridwidth\":2}},\"shapedefaults\":{\"line\":{\"color\":\"#2a3f5f\"}},\"annotationdefaults\":{\"arrowcolor\":\"#2a3f5f\",\"arrowhead\":0,\"arrowwidth\":1},\"geo\":{\"bgcolor\":\"white\",\"landcolor\":\"#E5ECF6\",\"subunitcolor\":\"white\",\"showland\":true,\"showlakes\":true,\"lakecolor\":\"white\"},\"title\":{\"x\":0.05},\"mapbox\":{\"style\":\"light\"}}},\"xaxis\":{\"anchor\":\"y\",\"domain\":[0.0,0.45],\"title\":{\"text\":\"Data Usage (MB)\"}},\"yaxis\":{\"anchor\":\"x\",\"domain\":[0.0,1.0],\"title\":{\"text\":\"Density\"}},\"xaxis2\":{\"anchor\":\"y2\",\"domain\":[0.55,1.0],\"title\":{\"text\":\"Time (Minutes)\"}},\"yaxis2\":{\"anchor\":\"x2\",\"domain\":[0.0,1.0],\"title\":{\"text\":\"Density\"}},\"annotations\":[{\"font\":{\"size\":16},\"showarrow\":false,\"text\":\"Total Data Usage (MB): NON_AI vs AI\",\"x\":0.225,\"xanchor\":\"center\",\"xref\":\"paper\",\"y\":1.0,\"yanchor\":\"bottom\",\"yref\":\"paper\"},{\"font\":{\"size\":16},\"showarrow\":false,\"text\":\"Total Time: NON_AI vs AI\",\"x\":0.775,\"xanchor\":\"center\",\"xref\":\"paper\",\"y\":1.0,\"yanchor\":\"bottom\",\"yref\":\"paper\"}],\"title\":{\"text\":\"Probability Density Function of Merged Data Usage and Total Time by AI Utilization\"},\"legend\":{\"title\":{\"text\":\"Groups\"},\"itemsizing\":\"constant\"},\"height\":600,\"width\":1000},                        {\"responsive\": true}                    ).then(function(){\n",
              "                            \n",
              "var gd = document.getElementById('99f6f7b3-2bd0-4dc3-bd1d-ba5f35417dc6');\n",
              "var x = new MutationObserver(function (mutations, observer) {{\n",
              "        var display = window.getComputedStyle(gd).display;\n",
              "        if (!display || display === 'none') {{\n",
              "            console.log([gd, 'removed!']);\n",
              "            Plotly.purge(gd);\n",
              "            observer.disconnect();\n",
              "        }}\n",
              "}});\n",
              "\n",
              "// Listen for the removal of the full notebook cells\n",
              "var notebookContainer = gd.closest('#notebook-container');\n",
              "if (notebookContainer) {{\n",
              "    x.observe(notebookContainer, {childList: true});\n",
              "}}\n",
              "\n",
              "// Listen for the clearing of the current output cell\n",
              "var outputEl = gd.closest('.output');\n",
              "if (outputEl) {{\n",
              "    x.observe(outputEl, {childList: true});\n",
              "}}\n",
              "\n",
              "                        })                };                            </script>        </div>\n",
              "</body>\n",
              "</html>"
            ]
          },
          "metadata": {}
        }
      ]
    }
  ]
}